{
 "cells": [
  {
   "cell_type": "markdown",
   "metadata": {},
   "source": [
    " 1 :: Read data in Folder"
   ]
  },
  {
   "cell_type": "code",
   "execution_count": 76,
   "metadata": {},
   "outputs": [
    {
     "data": {
      "text/plain": [
       "['103192737_594986041153698_6975656919755459039_n.jpg',\n",
       " '104290271_1653508878132335_7124520645179012254_o.jpg',\n",
       " '104341898_2326929664268260_6964090267364777524_n.jpg',\n",
       " '105212618_1662902867192936_6849243222150892642_o.jpg',\n",
       " '105298073_1662902717192951_3617755027016775673_o.jpg',\n",
       " '105704037_1667056500110906_2157503465927077349_o.jpg',\n",
       " '105951945_1663974670419089_7799233524756399358_o.jpg',\n",
       " '106059223_1663988427084380_144650085682059698_o.jpg',\n",
       " '106097224_1666052356877987_4626562168427279088_o.jpg',\n",
       " '106116967_1663988647084358_3676202420727645155_o.jpg',\n",
       " '106129617_1674397672710122_3279652106894584547_n.jpg',\n",
       " '106458854_1377556379107183_8602697296130629357_n (1).jpg',\n",
       " '106458854_1377556379107183_8602697296130629357_n.jpg',\n",
       " '106507879_293811355148502_6122793295904553352_n.jpg',\n",
       " '106653696_1683394075143815_8905478512355219901_n.jpg',\n",
       " '107375717_568994707004021_4740522632329818440_n.jpg',\n",
       " '107436286_330987941228672_6126530836708622823_n.jpg',\n",
       " '107664831_1683412255141997_1414481328763627021_n.jpg',\n",
       " '107700885_1686375328179023_7058172980227520598_o.jpg',\n",
       " '107782562_1683394031810486_3313820793856910087_n.jpg',\n",
       " '107800611_1682333068583249_4026902092270658902_o.jpg',\n",
       " '82767741_1656505401166016_8109669798928220303_o.jpg',\n",
       " 'AAPL.csv',\n",
       " 'aapl_price-history-07-21-2020.csv',\n",
       " 'Advanced sql.txt',\n",
       " 'appned ,,,prepend,,,print.py',\n",
       " 'array_advance.py',\n",
       " 'buy and sell stock.py',\n",
       " 'Certified-Python-Course-Curriculum-03.pdf',\n",
       " 'code.zip',\n",
       " 'data1.txt',\n",
       " 'data2.txt',\n",
       " 'DATA_SCIENTIST Ver#4.pdf',\n",
       " 'Ecommerce Purchases.csv',\n",
       " 'flight_eticket_A00303190250.pdf',\n",
       " 'flight_invoice_A00303190250.pdf',\n",
       " 'hello_world.xlsx',\n",
       " 'Image-Processing-Tasks .zip',\n",
       " 'is or not circular.py',\n",
       " 'JOin.txt',\n",
       " 'josephuse problem.py',\n",
       " 'mapper.py',\n",
       " 'mapreduce_code.zip',\n",
       " 'Matplotlib.pdf',\n",
       " \"Nicola Cavallaro - Fallin' (Alicia Keys cover) .mp3\",\n",
       " 'OC_Module 0_Data Science and Big Data021312.pptx',\n",
       " 'OC_Module 1_Intro to BDA 021312 (1).pptx',\n",
       " 'OC_Module 1_Intro to BDA 021312.pptx',\n",
       " 'OC_Module 2_DA Lifecycle 021312.pptx',\n",
       " 'OC_Module 3_Review of BDA methods021312.pptx',\n",
       " 'OC_Module 4_Theory and Methods 021312.pptx',\n",
       " 'OC_Module 5_Technology and Tools 030512.pptx',\n",
       " 'Project.rar',\n",
       " 'prrcision increment (Adding__numbers).py',\n",
       " 'reducer.py',\n",
       " 'remove any element in list.py',\n",
       " 'Rows Data.pdf',\n",
       " 'Rows Data1.pdf',\n",
       " 'Rows Data2.pdf',\n",
       " 'Rows Data3.pdf',\n",
       " 'Spero Bongiolatti - Bésame Mucho .mp3',\n",
       " 'split list.py',\n",
       " 'sql aggregation.txt',\n",
       " 'Task1.txt',\n",
       " 'Teddy Swims - Let Me Love You (Mario Cover) .mp3',\n",
       " \"you're still the one - shania twain (cover) .mp3\",\n",
       " '__init__.py']"
      ]
     },
     "execution_count": 76,
     "metadata": {},
     "output_type": "execute_result"
    }
   ],
   "source": [
    "from shutil import copyfile\n",
    "import random \n",
    "import string  \n",
    "import os\n",
    "\n",
    "def read_folder (Folder) :\n",
    "    data = os.listdir(Folder)\n",
    "    \n",
    "    return data\n",
    "rd = read_folder(\"Data\")\n",
    "rd"
   ]
  },
  {
   "cell_type": "markdown",
   "metadata": {},
   "source": [
    "2 ::create new_folder"
   ]
  },
  {
   "cell_type": "code",
   "execution_count": 87,
   "metadata": {},
   "outputs": [],
   "source": [
    "new_data = 'new_data'\n",
    "os.makedirs(new_data)"
   ]
  },
  {
   "cell_type": "markdown",
   "metadata": {},
   "source": [
    "3 ::Rename files and copy files in new folder\n"
   ]
  },
  {
   "cell_type": "code",
   "execution_count": 89,
   "metadata": {},
   "outputs": [
    {
     "name": "stdout",
     "output_type": "stream",
     "text": [
      "MRKXOUhG.csv\n",
      "UXkcKACs.csv\n",
      "wrufRzgd.txt\n",
      "zWwRQXxH.py\n",
      "xKiSGtOn.py\n",
      "NEXLlrMf.py\n",
      "dVPcbsZp.pdf\n",
      "ToIjVvAg.zip\n",
      "sTCmQcfA.txt\n",
      "UCDBHowV.txt\n",
      "AUqVhKmH.pdf\n",
      "yuLVbsPp.csv\n",
      "evhLTDBj.pdf\n",
      "wLfKUVgH.pdf\n",
      "hCMDrWdp.xlsx\n",
      "GdxlBSXR.zip\n",
      "khatXAQB.py\n",
      "OGCtKBYc.txt\n",
      "WVklPdNi.py\n",
      "XIDYFbvN.py\n",
      "OtKjbDuC.zip\n",
      "qUWZYwtR.pdf\n",
      "HUDxdoaA.pptx\n",
      "FlzZpXcm.pptx\n",
      "XfHDQLOy.pptx\n",
      "DKHZvqSQ.pptx\n",
      "kgiTayYm.pptx\n",
      "eGwnoRSU.pptx\n",
      "spJhLcTo.pptx\n",
      "fXlrHUDq.rar\n",
      "DXoAzNaH.py\n",
      "psiOeuPN.py\n",
      "tCmlSgVE.py\n",
      "sildBzNo.pdf\n",
      "gJPAjTNl.pdf\n",
      "wBphGfTX.pdf\n",
      "bTduiYSk.pdf\n",
      "tcSjaYen.py\n",
      "AUHesdBn.txt\n",
      "bgvMmUFW.txt\n",
      "hqsTVxnF.py\n"
     ]
    }
   ],
   "source": [
    "Data = os.listdir('Data')\n",
    "for i in rd :\n",
    "    file_name = i.split('.')[0]\n",
    "    extension = i.split('.')[-1]\n",
    "    \n",
    "    if extension == \"mp3\" or extension == \"jpg\" :\n",
    "        continue\n",
    "        \n",
    "    else :\n",
    "        letters = string.ascii_letters\n",
    "        file_name = f\"{''.join(random.sample(letters,8))}.{extension}\"\n",
    "        copyfile(f'Data/{i}', f'{new_data}/{file_name}')\n",
    "        print(file_name)"
   ]
  },
  {
   "cell_type": "code",
   "execution_count": null,
   "metadata": {},
   "outputs": [],
   "source": []
  },
  {
   "cell_type": "code",
   "execution_count": null,
   "metadata": {},
   "outputs": [],
   "source": []
  }
 ],
 "metadata": {
  "kernelspec": {
   "display_name": "Python 3",
   "language": "python",
   "name": "python3"
  },
  "language_info": {
   "codemirror_mode": {
    "name": "ipython",
    "version": 3
   },
   "file_extension": ".py",
   "mimetype": "text/x-python",
   "name": "python",
   "nbconvert_exporter": "python",
   "pygments_lexer": "ipython3",
   "version": "3.7.4"
  }
 },
 "nbformat": 4,
 "nbformat_minor": 2
}
