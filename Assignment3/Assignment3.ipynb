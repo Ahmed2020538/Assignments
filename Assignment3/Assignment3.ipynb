{
 "cells": [
  {
   "cell_type": "markdown",
   "metadata": {},
   "source": [
    "# Numbers in Python"
   ]
  },
  {
   "cell_type": "code",
   "execution_count": 12,
   "metadata": {},
   "outputs": [
    {
     "name": "stdout",
     "output_type": "stream",
     "text": [
      "100\n",
      "13.5\n",
      "300000000.0\n",
      "(7+5j)\n",
      "=================\n",
      "<class 'int'>\n",
      "<class 'float'>\n",
      "<class 'float'>\n",
      "<class 'complex'>\n"
     ]
    }
   ],
   "source": [
    "# integer , float and complex numbers \n",
    "\n",
    "i = 100\n",
    "ii = 13.5\n",
    "iii = 3e8\n",
    "c = 5j + 7\n",
    "\n",
    "print(i)\n",
    "print(ii)\n",
    "print(iii)\n",
    "print(c)\n",
    "\n",
    "print(\"=================\")\n",
    "\n",
    "# To Know the dtype of variables\n",
    "\n",
    "print(type(i))\n",
    "print(type(ii))\n",
    "print(type(iii))\n",
    "print(type(c))\n",
    "\n",
    "\n",
    "print(\"=======================\")\n",
    "\n"
   ]
  },
  {
   "cell_type": "markdown",
   "metadata": {},
   "source": [
    "# Arthimatical operation\n",
    "\n"
   ]
  },
  {
   "cell_type": "markdown",
   "metadata": {},
   "source": [
    "#1- Write an equation that uses multiplication, division, an exponent, addition, and subtraction that is equal to 100.25.\n",
    "\n",
    "#Hint: This is just to test your memory of the basic arithmetic commands, work backwards from 100.25"
   ]
  },
  {
   "cell_type": "code",
   "execution_count": 70,
   "metadata": {},
   "outputs": [
    {
     "name": "stdout",
     "output_type": "stream",
     "text": [
      "Summation                    ::  99    + 1.25  = 100.25\n",
      "=====================================\n",
      "Substraction                 ::  101.5  - 1.25 = 100.25\n",
      "=======================================\n",
      "Multiplication               ::  50.125 * 2  = 100.25\n",
      "========================================\n",
      "Division with float result   ::  200.5  / 2   = 100.25\n",
      "==========================================\n",
      "Division with int result     ::  200.5 // 2   = 100.0\n"
     ]
    }
   ],
   "source": [
    "num1 = 99\n",
    "num2 = 1.25\n",
    "r = num1 + num2\n",
    "\n",
    "print(\"Summation                    :: \" ,  num1  ,  \"   +\" ,   num2  ,  \" =\"   ,r)\n",
    "\n",
    "print(\"=====================================\")\n",
    "\n",
    "num1 = 101.50\n",
    "num2 = 1.25\n",
    "\n",
    "r = num1 - num2\n",
    "\n",
    "print(\"Substraction                 :: \" , num1 ,  \" -\" , num2  , \"=\" , r)\n",
    "\n",
    "print(\"=======================================\")\n",
    "\n",
    "num1 = 50.125\n",
    "num2 = 2\n",
    "\n",
    "r = num1 * num2\n",
    "\n",
    "print(\"Multiplication               :: \" , num1 , \"*\" , num2  , \" =\" , r)\n",
    "\n",
    "print(\"========================================\")\n",
    "\n",
    "num1 = 200.50\n",
    "num2 = 2\n",
    "\n",
    "r = num1 / num2\n",
    "\n",
    "print(\"Division with float result   :: \" , num1 , \" /\" , num2  , \"  =\" , r)\n",
    "\n",
    "print(\"==========================================\")\n",
    "\n",
    "num1 = 200.50\n",
    "num2 = 2\n",
    "\n",
    "r = num1 // num2\n",
    "\n",
    "print(\"Division with int result     :: \" , num1 , \"//\" , num2  , \"  =\" , r)\n"
   ]
  },
  {
   "cell_type": "markdown",
   "metadata": {},
   "source": [
    "#2- Answer these 3 questions without typing code. Then type code to check your answer.\n",
    "#2.1 - What is the value of the expression 4 (6 + 5)\n",
    "#2.2 - What is the value of the expression 4 6 + 5\n",
    "#2.3 - What is the value of the expression 4 + 6 * 5"
   ]
  },
  {
   "cell_type": "code",
   "execution_count": 56,
   "metadata": {},
   "outputs": [
    {
     "name": "stdout",
     "output_type": "stream",
     "text": [
      "4 *( 6 + 5 ) = 44\n",
      "==========\n",
      "4 * 6 + 5    = 29\n",
      "==========\n",
      " 4 + 6 * 5   =  34\n"
     ]
    }
   ],
   "source": [
    "result_1 = 4 *( 6 + 5 )\n",
    "result_2 = 4 * 6 + 5\n",
    "result_3 = 4 + 6 * 5\n",
    "\n",
    "print( \"4 *( 6 + 5 ) =\", result_1)\n",
    "print(\"==========\")\n",
    "print( \"4 * 6 + 5    =\" , result_2)\n",
    "print(\"==========\")\n",
    "print(\" 4 + 6 * 5   = \" , result_3)"
   ]
  },
  {
   "cell_type": "markdown",
   "metadata": {},
   "source": [
    "#3- What is the type of the result of the expression 3 + 1.5 + 4?"
   ]
  },
  {
   "cell_type": "code",
   "execution_count": 71,
   "metadata": {},
   "outputs": [
    {
     "name": "stdout",
     "output_type": "stream",
     "text": [
      "<class 'float'>\n"
     ]
    }
   ],
   "source": [
    "print(type(3 + 1.5 + 4))"
   ]
  },
  {
   "cell_type": "markdown",
   "metadata": {},
   "source": [
    "#4- What would you use to find a number’s square root, as well as its square?"
   ]
  },
  {
   "cell_type": "code",
   "execution_count": 78,
   "metadata": {},
   "outputs": [
    {
     "name": "stdout",
     "output_type": "stream",
     "text": [
      "Enter the num pls   ::25\n",
      "the square_root of 25.0 = 5.0\n"
     ]
    }
   ],
   "source": [
    "N = float(input(\"Enter the num pls   ::\"))\n",
    "\n",
    "square_root = N  ** 0.5\n",
    "\n",
    "print( \"the square_root of\"  , N , \"=\" ,square_root )"
   ]
  },
  {
   "cell_type": "code",
   "execution_count": 79,
   "metadata": {},
   "outputs": [
    {
     "name": "stdout",
     "output_type": "stream",
     "text": [
      "Enter the num pls  ::5\n",
      "the square  of 5.0 = 25.0\n"
     ]
    }
   ],
   "source": [
    "N = float(input(\"Enter the num pls  ::\"))\n",
    "\n",
    "square = N  **2\n",
    "\n",
    "print( \"the square  of\"  , N , \"=\" ,square )"
   ]
  },
  {
   "cell_type": "markdown",
   "metadata": {},
   "source": [
    "# Strings"
   ]
  },
  {
   "cell_type": "code",
   "execution_count": 80,
   "metadata": {},
   "outputs": [
    {
     "name": "stdout",
     "output_type": "stream",
     "text": [
      "Hello World\n",
      "=====\n",
      "Hello\tWorld\n",
      "=====\n",
      "Hello\n",
      "World\n"
     ]
    }
   ],
   "source": [
    "x  = \"Hello World\"\n",
    "y = \"Hello\\tWorld\"\n",
    "z = \"Hello\\nWorld\"\n",
    "\n",
    "print(x)\n",
    "print(\"=====\")\n",
    "print(y)\n",
    "print(\"=====\")\n",
    "print(z)"
   ]
  },
  {
   "cell_type": "markdown",
   "metadata": {},
   "source": [
    "# operations in Strings"
   ]
  },
  {
   "cell_type": "code",
   "execution_count": 83,
   "metadata": {},
   "outputs": [
    {
     "name": "stdout",
     "output_type": "stream",
     "text": [
      "HelloWorld\n",
      "========\n",
      "World\n",
      "===========\n",
      "AhmedAhmed\n"
     ]
    }
   ],
   "source": [
    "i = \"Hello\"\n",
    "ii = \"World\"\n",
    "r = i + ii\n",
    "iii = 2 * \"Ahmed\"\n",
    "print(r)\n",
    "print(\"========\")\n",
    "print(ii)\n",
    "print(\"===========\")\n",
    "print(iii)"
   ]
  },
  {
   "cell_type": "markdown",
   "metadata": {},
   "source": [
    "# Assignment Operation"
   ]
  },
  {
   "cell_type": "code",
   "execution_count": 1,
   "metadata": {},
   "outputs": [
    {
     "name": "stdout",
     "output_type": "stream",
     "text": [
      "False\n",
      "True\n",
      "True\n",
      "True\n"
     ]
    }
   ],
   "source": [
    "n1 = 100\n",
    "n2 = 50\n",
    "n3 = 80\n",
    "\n",
    "print( n1 == n2 )\n",
    "print( n2 <= n3 )\n",
    "print( n1 >= n2 )\n",
    "print( n2 != n1 )"
   ]
  },
  {
   "cell_type": "markdown",
   "metadata": {},
   "source": [
    "# Comparision Operation"
   ]
  },
  {
   "cell_type": "code",
   "execution_count": 2,
   "metadata": {},
   "outputs": [
    {
     "name": "stdout",
     "output_type": "stream",
     "text": [
      "True\n",
      "False\n",
      "False\n",
      "True\n",
      "True\n",
      "False\n"
     ]
    }
   ],
   "source": [
    "print( n1 > n2 and n2 < n3 )\n",
    "print( n1 == n2 and n2 != n3 )\n",
    "print( n1 <= n2 and n2 >= n3 )\n",
    "print( n1 > n2 or n2 < n3 )\n",
    "print( n1 == n2 or n2 != n3 )\n",
    "print( n1 <=n2 and n2 >= n3 )\n",
    "\n"
   ]
  },
  {
   "cell_type": "markdown",
   "metadata": {},
   "source": [
    "# indefining statment"
   ]
  },
  {
   "cell_type": "code",
   "execution_count": 3,
   "metadata": {},
   "outputs": [
    {
     "name": "stdout",
     "output_type": "stream",
     "text": [
      "True\n",
      "False\n",
      "False\n"
     ]
    }
   ],
   "source": [
    "print( n1 is 100 )\n",
    "print( n1 is not 100 )\n",
    "print( n1 is 80 )"
   ]
  },
  {
   "cell_type": "markdown",
   "metadata": {},
   "source": [
    "# Continoue Assignment 3"
   ]
  },
  {
   "cell_type": "markdown",
   "metadata": {},
   "source": [
    "#1_ Given the string 'hello' give an index command that returns 'e'. Enter your code in the cell below:\n",
    "\n",
    "#2_Reverse the string 'hello' using slicing:\n",
    "\n",
    "#3_Given the string hello, give two methods of producing the letter 'o' using indexing."
   ]
  },
  {
   "cell_type": "code",
   "execution_count": 4,
   "metadata": {},
   "outputs": [
    {
     "name": "stdout",
     "output_type": "stream",
     "text": [
      "Hello\n",
      "=====\n",
      "e\n",
      "=====\n",
      "olleH\n",
      "=====\n",
      "o\n",
      "=====\n",
      "o\n"
     ]
    }
   ],
   "source": [
    "s = \"Hello\"\n",
    "print(s)\n",
    "print(\"=====\")\n",
    "print(s[1])\n",
    "print(\"=====\")\n",
    "print(s[::-1])\n",
    "print(\"=====\")\n",
    "print(s[-1])\n",
    "print(\"=====\")\n",
    "print(s[4])\n",
    "\n",
    "\n"
   ]
  },
  {
   "cell_type": "markdown",
   "metadata": {},
   "source": [
    "# Lists"
   ]
  },
  {
   "cell_type": "markdown",
   "metadata": {},
   "source": [
    "#1_Build this list [0,0,0] two separate ways."
   ]
  },
  {
   "cell_type": "code",
   "execution_count": 16,
   "metadata": {},
   "outputs": [
    {
     "name": "stdout",
     "output_type": "stream",
     "text": [
      "[0, 0, 0]\n",
      "=======\n",
      "[0, 0, 0]\n",
      "========\n",
      "[0, 0, 0]\n"
     ]
    }
   ],
   "source": [
    "l=[0,0,0]\n",
    "print(l)\n",
    "print(\"=======\")\n",
    "v_of_list = 0,0,0\n",
    "ll =list(v_of_list)\n",
    "print(ll)\n",
    "print(\"========\")\n",
    "lll = [0]\n",
    "print(lll*3)"
   ]
  },
  {
   "cell_type": "markdown",
   "metadata": {},
   "source": [
    "#2_Reassign 'hello' in this nested list to say 'goodbye' instead:"
   ]
  },
  {
   "cell_type": "code",
   "execution_count": 18,
   "metadata": {},
   "outputs": [
    {
     "name": "stdout",
     "output_type": "stream",
     "text": [
      "[1, 2, [3, 4, 'hello']]\n",
      "==========\n",
      "[1, 2, [3, 4, 'goodbye']]\n"
     ]
    }
   ],
   "source": [
    "list3 = [1,2,[3,4,'hello']]\n",
    "print(list3)\n",
    "\n",
    "print(\"==========\")\n",
    "\n",
    "list3[2][2] = \"goodbye\"\n",
    "\n",
    "print(list3)\n",
    "\n",
    "print(\"==========\")\n",
    "\n",
    "\n"
   ]
  },
  {
   "cell_type": "markdown",
   "metadata": {},
   "source": [
    "#3_Sort the list below:"
   ]
  },
  {
   "cell_type": "code",
   "execution_count": 30,
   "metadata": {},
   "outputs": [
    {
     "name": "stdout",
     "output_type": "stream",
     "text": [
      "[5, 3, 4, 6, 1]\n",
      "==============\n",
      "[1, 3, 4, 5, 6]\n",
      "==============\n",
      "[1, 3, 4, 5, 6]\n",
      "==============\n",
      "[1, 3, 4, 5, 6]\n"
     ]
    }
   ],
   "source": [
    "list4 = [5,3,4,6,1]\n",
    "print(list4)\n",
    "print(\"==============\")\n",
    "print(sorted(list4))\n",
    "print(\"==============\")\n",
    "list4.sort()\n",
    "print(list4)\n",
    "print(\"==============\")\n",
    "list4.reverse\n",
    "print(list4)"
   ]
  },
  {
   "cell_type": "markdown",
   "metadata": {},
   "source": [
    "# Disctionary"
   ]
  },
  {
   "cell_type": "markdown",
   "metadata": {},
   "source": [
    "#1_Using keys and indexing, grab the 'hello' from the following dictionaries:"
   ]
  },
  {
   "cell_type": "code",
   "execution_count": 42,
   "metadata": {},
   "outputs": [
    {
     "name": "stdout",
     "output_type": "stream",
     "text": [
      "hello\n",
      "=============\n",
      "hello\n",
      "=============\n",
      "['hello']\n",
      "===============\n",
      "['hello']\n",
      "===========\n"
     ]
    }
   ],
   "source": [
    "d1 = {'simple_key':'hello'}\n",
    "print(d1['simple_key'])\n",
    "\n",
    "print(\"=============\")\n",
    "\n",
    "d2 = {'k1':{'k2':'hello'}}\n",
    "print(d2[\"k1\"][\"k2\"])\n",
    "\n",
    "\n",
    "print(\"=============\")\n",
    "\n",
    "\n",
    "d3 = {'k1':[{'nest_key':['this is deep',['hello']]}]}\n",
    "\n",
    "print(d3['k1'][0]['nest_key'][1])\n",
    "\n",
    "print(\"===============\")\n",
    "\n",
    "d4 = {'k1':[1,2,{'k2':['this is tricky',{'tough':[1,2,['hello']]}]}]}\n",
    "print(d4['k1'][2]['k2'][1]['tough'][2])\n",
    "\n",
    "print(\"===========\")\n",
    "\n"
   ]
  },
  {
   "cell_type": "markdown",
   "metadata": {},
   "source": [
    "#2_Can you sort a dictionary? Why or why not?\n",
    "\n",
    "Answer::it is possible to sort dict using func sort _ becouse::\n",
    "\n",
    "1-do not have an inherent order\n",
    "\n",
    "2-the dictionary is orderless at general\n"
   ]
  },
  {
   "cell_type": "markdown",
   "metadata": {},
   "source": [
    "# Tuples"
   ]
  },
  {
   "cell_type": "markdown",
   "metadata": {},
   "source": [
    "#1_What is the major difference between tuples and lists?\n",
    "\n",
    "answer::\n",
    "\n",
    "1_Lists is mutable  and Tuples Immutable"
   ]
  },
  {
   "cell_type": "markdown",
   "metadata": {},
   "source": [
    "#2_How do you create a tuple?\n",
    "\n",
    "Answer::"
   ]
  },
  {
   "cell_type": "code",
   "execution_count": 44,
   "metadata": {},
   "outputs": [
    {
     "data": {
      "text/plain": [
       "()"
      ]
     },
     "execution_count": 44,
     "metadata": {},
     "output_type": "execute_result"
    }
   ],
   "source": [
    "tuple()"
   ]
  },
  {
   "cell_type": "code",
   "execution_count": 49,
   "metadata": {},
   "outputs": [
    {
     "name": "stdout",
     "output_type": "stream",
     "text": [
      "(10, 15, 'd', [10, 'AHMED', True], -55, {1: 'DS', 2: 'ML'}, 10)\n",
      "===================\n",
      "2\n",
      "=========\n",
      "4\n"
     ]
    }
   ],
   "source": [
    "x = 10 , 15 , \"d\" , [ 10 , \"AHMED\" , True ] , -55 , { 1 : \"DS\" , 2 : \"ML\" } , 10\n",
    "print(tuple(x))\n",
    "print(\"===================\")\n",
    "print(x.count(10))\n",
    "print(\"=========\")\n",
    "print(x.index(-55))\n"
   ]
  },
  {
   "cell_type": "markdown",
   "metadata": {},
   "source": [
    "# Sets"
   ]
  },
  {
   "cell_type": "markdown",
   "metadata": {},
   "source": [
    "#1_What is unique about a set?\n",
    "\n",
    "answer ::  if the set have multi elements have the same value take one of them only Such ::"
   ]
  },
  {
   "cell_type": "code",
   "execution_count": 56,
   "metadata": {},
   "outputs": [
    {
     "name": "stdout",
     "output_type": "stream",
     "text": [
      "{False, True, 10, 45, 'TURKI', (10, 20, 30)}\n"
     ]
    }
   ],
   "source": [
    "S = { 10 , 45 , \"TURKI\" , True , 45 , False , 10 , 45 ,( 10 , 20 , 30 ) }\n",
    "\n",
    "print(S)"
   ]
  },
  {
   "cell_type": "markdown",
   "metadata": {},
   "source": [
    "#2_Use a set to find the unique values of the list below:"
   ]
  },
  {
   "cell_type": "code",
   "execution_count": 59,
   "metadata": {},
   "outputs": [
    {
     "name": "stdout",
     "output_type": "stream",
     "text": [
      "[1, 2, 2, 33, 4, 4, 11, 22, 3, 3, 2]\n",
      "===================================\n",
      "{1, 2, 33, 4, 3, 11, 22}\n"
     ]
    }
   ],
   "source": [
    "list5 = [1,2,2,33,4,4,11,22,3,3,2]\n",
    "print(list5)\n",
    "print(\"===================================\")\n",
    "print((set(list5)))"
   ]
  },
  {
   "cell_type": "markdown",
   "metadata": {},
   "source": [
    "# Booleans"
   ]
  },
  {
   "cell_type": "markdown",
   "metadata": {},
   "source": [
    "#1_What will be the resulting Boolean of the following pieces of code (answer fist then check by typing it in!)"
   ]
  },
  {
   "cell_type": "code",
   "execution_count": 64,
   "metadata": {},
   "outputs": [
    {
     "name": "stdout",
     "output_type": "stream",
     "text": [
      "False\n",
      "False\n",
      "False\n",
      "True\n",
      "False\n"
     ]
    }
   ],
   "source": [
    "F1 = 2 > 3\n",
    "F2 = 3 <= 2\n",
    "F3 = 3 == 2.0\n",
    "T1 = 3.0 == 3\n",
    "F4 = 4**0.5 != 2\n",
    "\n",
    "print(F1)\n",
    "print(F2)\n",
    "print(F3)\n",
    "print(T1)\n",
    "print(F4)"
   ]
  },
  {
   "cell_type": "markdown",
   "metadata": {},
   "source": [
    "#2_Final Question: What is the boolean output of the cell block below?"
   ]
  },
  {
   "cell_type": "code",
   "execution_count": 67,
   "metadata": {},
   "outputs": [
    {
     "name": "stdout",
     "output_type": "stream",
     "text": [
      "[1, 2, [3, 4], 1, 2, {'k1': 4}]\n",
      "======================\n",
      "[1, 2, {'k1': 4}, 1, 2, [3, 4]]\n"
     ]
    },
    {
     "data": {
      "text/plain": [
       "False"
      ]
     },
     "execution_count": 67,
     "metadata": {},
     "output_type": "execute_result"
    }
   ],
   "source": [
    "# nested lists\n",
    "\n",
    "l_one = [1,2,[3,4]]\n",
    "l_two = [1,2,{'k1':4}]\n",
    "\n",
    "print( l_one + l_two )\n",
    "print(\"======================\")\n",
    "\n",
    "print( l_two + l_one )\n",
    "\n",
    "# Check True or False\n",
    "\n",
    "l_one[2][0] >= l_two[2]['k1']"
   ]
  },
  {
   "cell_type": "code",
   "execution_count": null,
   "metadata": {},
   "outputs": [],
   "source": []
  }
 ],
 "metadata": {
  "kernelspec": {
   "display_name": "Python 3",
   "language": "python",
   "name": "python3"
  },
  "language_info": {
   "codemirror_mode": {
    "name": "ipython",
    "version": 3
   },
   "file_extension": ".py",
   "mimetype": "text/x-python",
   "name": "python",
   "nbconvert_exporter": "python",
   "pygments_lexer": "ipython3",
   "version": "3.7.4"
  }
 },
 "nbformat": 4,
 "nbformat_minor": 2
}
