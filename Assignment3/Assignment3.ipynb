{
 "cells": [
  {
   "cell_type": "markdown",
   "metadata": {},
   "source": [
    "# Numbers in Python"
   ]
  },
  {
   "cell_type": "code",
   "execution_count": 12,
   "metadata": {},
   "outputs": [
    {
     "name": "stdout",
     "output_type": "stream",
     "text": [
      "100\n",
      "13.5\n",
      "300000000.0\n",
      "(7+5j)\n",
      "=================\n",
      "<class 'int'>\n",
      "<class 'float'>\n",
      "<class 'float'>\n",
      "<class 'complex'>\n"
     ]
    }
   ],
   "source": [
    "# integer , float and complex numbers \n",
    "\n",
    "i = 100\n",
    "ii = 13.5\n",
    "iii = 3e8\n",
    "c = 5j + 7\n",
    "\n",
    "print(i)\n",
    "print(ii)\n",
    "print(iii)\n",
    "print(c)\n",
    "\n",
    "print(\"=================\")\n",
    "\n",
    "# To Know the dtype of variables\n",
    "\n",
    "print(type(i))\n",
    "print(type(ii))\n",
    "print(type(iii))\n",
    "print(type(c))\n",
    "\n",
    "\n",
    "print(\"=======================\")\n",
    "\n"
   ]
  },
  {
   "cell_type": "markdown",
   "metadata": {},
   "source": [
    "# Arthimatical operation\n",
    "\n"
   ]
  },
  {
   "cell_type": "markdown",
   "metadata": {},
   "source": [
    "#1- Write an equation that uses multiplication, division, an exponent, addition, and subtraction that is equal to 100.25.\n",
    "\n",
    "#Hint: This is just to test your memory of the basic arithmetic commands, work backwards from 100.25"
   ]
  },
  {
   "cell_type": "code",
   "execution_count": 70,
   "metadata": {},
   "outputs": [
    {
     "name": "stdout",
     "output_type": "stream",
     "text": [
      "Summation                    ::  99    + 1.25  = 100.25\n",
      "=====================================\n",
      "Substraction                 ::  101.5  - 1.25 = 100.25\n",
      "=======================================\n",
      "Multiplication               ::  50.125 * 2  = 100.25\n",
      "========================================\n",
      "Division with float result   ::  200.5  / 2   = 100.25\n",
      "==========================================\n",
      "Division with int result     ::  200.5 // 2   = 100.0\n"
     ]
    }
   ],
   "source": [
    "num1 = 99\n",
    "num2 = 1.25\n",
    "r = num1 + num2\n",
    "\n",
    "print(\"Summation                    :: \" ,  num1  ,  \"   +\" ,   num2  ,  \" =\"   ,r)\n",
    "\n",
    "print(\"=====================================\")\n",
    "\n",
    "num1 = 101.50\n",
    "num2 = 1.25\n",
    "\n",
    "r = num1 - num2\n",
    "\n",
    "print(\"Substraction                 :: \" , num1 ,  \" -\" , num2  , \"=\" , r)\n",
    "\n",
    "print(\"=======================================\")\n",
    "\n",
    "num1 = 50.125\n",
    "num2 = 2\n",
    "\n",
    "r = num1 * num2\n",
    "\n",
    "print(\"Multiplication               :: \" , num1 , \"*\" , num2  , \" =\" , r)\n",
    "\n",
    "print(\"========================================\")\n",
    "\n",
    "num1 = 200.50\n",
    "num2 = 2\n",
    "\n",
    "r = num1 / num2\n",
    "\n",
    "print(\"Division with float result   :: \" , num1 , \" /\" , num2  , \"  =\" , r)\n",
    "\n",
    "print(\"==========================================\")\n",
    "\n",
    "num1 = 200.50\n",
    "num2 = 2\n",
    "\n",
    "r = num1 // num2\n",
    "\n",
    "print(\"Division with int result     :: \" , num1 , \"//\" , num2  , \"  =\" , r)\n"
   ]
  },
  {
   "cell_type": "markdown",
   "metadata": {},
   "source": [
    "#2- Answer these 3 questions without typing code. Then type code to check your answer.\n",
    "#2.1 - What is the value of the expression 4 (6 + 5)\n",
    "#2.2 - What is the value of the expression 4 6 + 5\n",
    "#2.3 - What is the value of the expression 4 + 6 * 5"
   ]
  },
  {
   "cell_type": "code",
   "execution_count": 56,
   "metadata": {},
   "outputs": [
    {
     "name": "stdout",
     "output_type": "stream",
     "text": [
      "4 *( 6 + 5 ) = 44\n",
      "==========\n",
      "4 * 6 + 5    = 29\n",
      "==========\n",
      " 4 + 6 * 5   =  34\n"
     ]
    }
   ],
   "source": [
    "result_1 = 4 *( 6 + 5 )\n",
    "result_2 = 4 * 6 + 5\n",
    "result_3 = 4 + 6 * 5\n",
    "\n",
    "print( \"4 *( 6 + 5 ) =\", result_1)\n",
    "print(\"==========\")\n",
    "print( \"4 * 6 + 5    =\" , result_2)\n",
    "print(\"==========\")\n",
    "print(\" 4 + 6 * 5   = \" , result_3)"
   ]
  },
  {
   "cell_type": "markdown",
   "metadata": {},
   "source": [
    "#3- What is the type of the result of the expression 3 + 1.5 + 4?"
   ]
  },
  {
   "cell_type": "code",
   "execution_count": 71,
   "metadata": {},
   "outputs": [
    {
     "name": "stdout",
     "output_type": "stream",
     "text": [
      "<class 'float'>\n"
     ]
    }
   ],
   "source": [
    "print(type(3 + 1.5 + 4))"
   ]
  },
  {
   "cell_type": "markdown",
   "metadata": {},
   "source": [
    "#4- What would you use to find a number’s square root, as well as its square?"
   ]
  },
  {
   "cell_type": "code",
   "execution_count": 78,
   "metadata": {},
   "outputs": [
    {
     "name": "stdout",
     "output_type": "stream",
     "text": [
      "Enter the num pls   ::25\n",
      "the square_root of 25.0 = 5.0\n"
     ]
    }
   ],
   "source": [
    "N = float(input(\"Enter the num pls   ::\"))\n",
    "\n",
    "square_root = N  ** 0.5\n",
    "\n",
    "print( \"the square_root of\"  , N , \"=\" ,square_root )"
   ]
  },
  {
   "cell_type": "code",
   "execution_count": 79,
   "metadata": {},
   "outputs": [
    {
     "name": "stdout",
     "output_type": "stream",
     "text": [
      "Enter the num pls  ::5\n",
      "the square  of 5.0 = 25.0\n"
     ]
    }
   ],
   "source": [
    "N = float(input(\"Enter the num pls  ::\"))\n",
    "\n",
    "square = N  **2\n",
    "\n",
    "print( \"the square  of\"  , N , \"=\" ,square )"
   ]
  },
  {
   "cell_type": "markdown",
   "metadata": {},
   "source": [
    "# Strings"
   ]
  },
  {
   "cell_type": "code",
   "execution_count": 80,
   "metadata": {},
   "outputs": [
    {
     "name": "stdout",
     "output_type": "stream",
     "text": [
      "Hello World\n",
      "=====\n",
      "Hello\tWorld\n",
      "=====\n",
      "Hello\n",
      "World\n"
     ]
    }
   ],
   "source": [
    "x  = \"Hello World\"\n",
    "y = \"Hello\\tWorld\"\n",
    "z = \"Hello\\nWorld\"\n",
    "\n",
    "print(x)\n",
    "print(\"=====\")\n",
    "print(y)\n",
    "print(\"=====\")\n",
    "print(z)"
   ]
  },
  {
   "cell_type": "markdown",
   "metadata": {},
   "source": [
    "# operations in Strings"
   ]
  },
  {
   "cell_type": "code",
   "execution_count": 83,
   "metadata": {},
   "outputs": [
    {
     "name": "stdout",
     "output_type": "stream",
     "text": [
      "HelloWorld\n",
      "========\n",
      "World\n",
      "===========\n",
      "AhmedAhmed\n"
     ]
    }
   ],
   "source": [
    "i = \"Hello\"\n",
    "ii = \"World\"\n",
    "r = i + ii\n",
    "iii = 2 * \"Ahmed\"\n",
    "print(r)\n",
    "print(\"========\")\n",
    "print(ii)\n",
    "print(\"===========\")\n",
    "print(iii)"
   ]
  },
  {
   "cell_type": "code",
   "execution_count": null,
   "metadata": {},
   "outputs": [],
   "source": []
  }
 ],
 "metadata": {
  "kernelspec": {
   "display_name": "Python 3",
   "language": "python",
   "name": "python3"
  },
  "language_info": {
   "codemirror_mode": {
    "name": "ipython",
    "version": 3
   },
   "file_extension": ".py",
   "mimetype": "text/x-python",
   "name": "python",
   "nbconvert_exporter": "python",
   "pygments_lexer": "ipython3",
   "version": "3.7.4"
  }
 },
 "nbformat": 4,
 "nbformat_minor": 2
}
