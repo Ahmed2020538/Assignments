{
 "cells": [
  {
   "cell_type": "markdown",
   "metadata": {},
   "source": [
    "Copy all filies of Folder to other Folder and Rename them based on Time of copy"
   ]
  },
  {
   "cell_type": "markdown",
   "metadata": {},
   "source": [
    "Import packages"
   ]
  },
  {
   "cell_type": "code",
   "execution_count": 1,
   "metadata": {},
   "outputs": [],
   "source": [
    "import datetime as dt\n",
    "import shutil as st\n",
    "import time as t\n",
    "import os\n",
    "\n"
   ]
  },
  {
   "cell_type": "markdown",
   "metadata": {},
   "source": [
    "define fun to Explorey data in folder"
   ]
  },
  {
   "cell_type": "code",
   "execution_count": 4,
   "metadata": {},
   "outputs": [
    {
     "data": {
      "text/plain": [
       "['cover002.png',\n",
       " 'cover003.png',\n",
       " 'cover005.png',\n",
       " 'cover006.png',\n",
       " 'cover007.png',\n",
       " 'cover010.png',\n",
       " 'cover015.png',\n",
       " 'cover016.png',\n",
       " 'cover018.png',\n",
       " 'cover019.png',\n",
       " 'cover022.png',\n",
       " 'cover023.png',\n",
       " 'cover024.png',\n",
       " 'cover025.png',\n",
       " 'cover027.png',\n",
       " 'cover029.png',\n",
       " 'cover034.png',\n",
       " 'cover035.png',\n",
       " 'cover036.png',\n",
       " 'cover037.png',\n",
       " 'cover040.png',\n",
       " 'cover041.png',\n",
       " 'cover046.png',\n",
       " 'cover047.png',\n",
       " 'cover048.png']"
      ]
     },
     "execution_count": 4,
     "metadata": {},
     "output_type": "execute_result"
    }
   ],
   "source": [
    "def data_Explory (Folder) :\n",
    "    Explore = os.listdir(Folder)\n",
    "    return Explore\n",
    "universe=data_Explory(\"universe\")\n",
    "universe"
   ]
  },
  {
   "cell_type": "markdown",
   "metadata": {},
   "source": [
    "Create new_folder"
   ]
  },
  {
   "cell_type": "code",
   "execution_count": 6,
   "metadata": {},
   "outputs": [],
   "source": [
    "Parallel_Uni = \"Parallel_Uni\"\n",
    "os.makedirs(Parallel_Uni)"
   ]
  },
  {
   "cell_type": "code",
   "execution_count": 7,
   "metadata": {},
   "outputs": [],
   "source": [
    "universe=data_Explory(\"universe\")\n",
    "for i in universe :\n",
    "    file_name = i.split(\".\")[0]\n",
    "    extension = i.split(\".\")[-1]\n",
    "    new_name = f\"{file_name}_{dt.datetime.now().strftime('%Y-%m-%d-%I-%M-%S')}.{extension}\"\n",
    "    st.copyfile(f\"universe/{i}\"  , f\"{Parallel_Uni}/{new_name}\")\n",
    "    t.sleep(1)"
   ]
  },
  {
   "cell_type": "code",
   "execution_count": null,
   "metadata": {},
   "outputs": [],
   "source": []
  }
 ],
 "metadata": {
  "kernelspec": {
   "display_name": "Python 3",
   "language": "python",
   "name": "python3"
  },
  "language_info": {
   "codemirror_mode": {
    "name": "ipython",
    "version": 3
   },
   "file_extension": ".py",
   "mimetype": "text/x-python",
   "name": "python",
   "nbconvert_exporter": "python",
   "pygments_lexer": "ipython3",
   "version": "3.7.4"
  }
 },
 "nbformat": 4,
 "nbformat_minor": 2
}
