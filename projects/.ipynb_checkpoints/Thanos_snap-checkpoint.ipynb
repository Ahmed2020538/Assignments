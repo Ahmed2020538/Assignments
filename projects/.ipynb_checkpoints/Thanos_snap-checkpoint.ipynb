{
 "cells": [
  {
   "cell_type": "markdown",
   "metadata": {},
   "source": [
    "Project :: is selection rondom files from folder and remove them"
   ]
  },
  {
   "cell_type": "markdown",
   "metadata": {},
   "source": [
    "1 :: Import Libereies"
   ]
  },
  {
   "cell_type": "code",
   "execution_count": 51,
   "metadata": {},
   "outputs": [],
   "source": [
    "import random as rd\n",
    "import os\n",
    "import time as t\n",
    "\n"
   ]
  },
  {
   "cell_type": "markdown",
   "metadata": {},
   "source": [
    "2 :: read filies of folder"
   ]
  },
  {
   "cell_type": "code",
   "execution_count": 52,
   "metadata": {},
   "outputs": [
    {
     "data": {
      "text/plain": [
       "['cover001.png',\n",
       " 'cover002.png',\n",
       " 'cover003.png',\n",
       " 'cover004.png',\n",
       " 'cover005.png',\n",
       " 'cover006.png',\n",
       " 'cover007.png',\n",
       " 'cover008.png',\n",
       " 'cover009.png',\n",
       " 'cover010.png',\n",
       " 'cover011.png',\n",
       " 'cover012.png',\n",
       " 'cover013.png',\n",
       " 'cover014.png',\n",
       " 'cover015.png',\n",
       " 'cover016.png',\n",
       " 'cover017.png',\n",
       " 'cover018.png',\n",
       " 'cover019.png',\n",
       " 'cover020.png',\n",
       " 'cover021.png',\n",
       " 'cover022.png',\n",
       " 'cover023.png',\n",
       " 'cover024.png',\n",
       " 'cover025.png',\n",
       " 'cover026.png',\n",
       " 'cover027.png',\n",
       " 'cover028.png',\n",
       " 'cover029.png',\n",
       " 'cover030.png',\n",
       " 'cover031.png',\n",
       " 'cover032.png',\n",
       " 'cover033.png',\n",
       " 'cover034.png',\n",
       " 'cover035.png',\n",
       " 'cover036.png',\n",
       " 'cover037.png',\n",
       " 'cover038.png',\n",
       " 'cover039.png',\n",
       " 'cover040.png',\n",
       " 'cover041.png',\n",
       " 'cover042.png',\n",
       " 'cover043.png',\n",
       " 'cover044.png',\n",
       " 'cover045.png',\n",
       " 'cover046.png',\n",
       " 'cover047.png',\n",
       " 'cover048.png',\n",
       " 'cover049.png',\n",
       " 'cover050.png']"
      ]
     },
     "execution_count": 52,
     "metadata": {},
     "output_type": "execute_result"
    }
   ],
   "source": [
    "def Exploratory_data (Folder) :\n",
    "    Explore = os.listdir(Folder)\n",
    "    return Explore\n",
    "universe = Exploratory_data(\"universe\")\n",
    "universe"
   ]
  },
  {
   "cell_type": "markdown",
   "metadata": {},
   "source": [
    "3 :: To derermine length of filies"
   ]
  },
  {
   "cell_type": "code",
   "execution_count": 53,
   "metadata": {},
   "outputs": [
    {
     "name": "stdout",
     "output_type": "stream",
     "text": [
      "The length of Uni is :: 50\n"
     ]
    }
   ],
   "source": [
    "print(f\"The length of Uni is :: {len(universe)}\")"
   ]
  },
  {
   "cell_type": "markdown",
   "metadata": {},
   "source": [
    "4 :: half of length"
   ]
  },
  {
   "cell_type": "code",
   "execution_count": 54,
   "metadata": {},
   "outputs": [
    {
     "name": "stdout",
     "output_type": "stream",
     "text": [
      "The half of length of Uni is 25\n"
     ]
    }
   ],
   "source": [
    "print(f\"The half of length of Uni is {len(universe)//2}\")"
   ]
  },
  {
   "cell_type": "markdown",
   "metadata": {},
   "source": [
    "5:: defination of fun to choice random filies from folder and remove them"
   ]
  },
  {
   "cell_type": "code",
   "execution_count": 55,
   "metadata": {},
   "outputs": [],
   "source": [
    "def Thanos_Snap (universe) :\n",
    "    universe = Exploratory_data(\"universe\") # We must read uni every time before remove\n",
    "    half_of_Lis = len(universe)//2\n",
    "    for i in range(half_of_Lis) :\n",
    "        Random_Selection = rd.choice(universe)\n",
    "        os.remove(f\"universe/{Random_Selection}\")\n",
    "        universe.remove(Random_Selection)\n",
    "        t.sleep(1)\n",
    "        print(f\"Destroying :: {Random_Selection}\")\n",
    "    print(\"Graeat Work my Friend\")\n",
    "        "
   ]
  },
  {
   "cell_type": "code",
   "execution_count": 56,
   "metadata": {},
   "outputs": [
    {
     "name": "stdout",
     "output_type": "stream",
     "text": [
      "Destroying :: cover039.png\n",
      "Destroying :: cover045.png\n",
      "Destroying :: cover033.png\n",
      "Destroying :: cover009.png\n",
      "Destroying :: cover026.png\n",
      "Destroying :: cover042.png\n",
      "Destroying :: cover013.png\n",
      "Destroying :: cover043.png\n",
      "Destroying :: cover050.png\n",
      "Destroying :: cover028.png\n",
      "Destroying :: cover012.png\n",
      "Destroying :: cover021.png\n",
      "Destroying :: cover031.png\n",
      "Destroying :: cover011.png\n",
      "Destroying :: cover030.png\n",
      "Destroying :: cover001.png\n",
      "Destroying :: cover008.png\n",
      "Destroying :: cover020.png\n",
      "Destroying :: cover049.png\n",
      "Destroying :: cover038.png\n",
      "Destroying :: cover004.png\n",
      "Destroying :: cover044.png\n",
      "Destroying :: cover017.png\n",
      "Destroying :: cover014.png\n",
      "Destroying :: cover032.png\n",
      "Graeat Work my Friend\n"
     ]
    }
   ],
   "source": [
    "Thanos_Snap(universe)"
   ]
  },
  {
   "cell_type": "code",
   "execution_count": null,
   "metadata": {},
   "outputs": [],
   "source": []
  },
  {
   "cell_type": "code",
   "execution_count": null,
   "metadata": {},
   "outputs": [],
   "source": []
  }
 ],
 "metadata": {
  "kernelspec": {
   "display_name": "Python 3",
   "language": "python",
   "name": "python3"
  },
  "language_info": {
   "codemirror_mode": {
    "name": "ipython",
    "version": 3
   },
   "file_extension": ".py",
   "mimetype": "text/x-python",
   "name": "python",
   "nbconvert_exporter": "python",
   "pygments_lexer": "ipython3",
   "version": "3.7.4"
  }
 },
 "nbformat": 4,
 "nbformat_minor": 2
}
