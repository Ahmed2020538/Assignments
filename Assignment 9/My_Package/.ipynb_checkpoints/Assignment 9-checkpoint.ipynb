{
 "cells": [
  {
   "cell_type": "markdown",
   "metadata": {},
   "source": [
    "1 :: Reverse and Capitalize string"
   ]
  },
  {
   "cell_type": "code",
   "execution_count": 10,
   "metadata": {},
   "outputs": [
    {
     "name": "stdout",
     "output_type": "stream",
     "text": [
      "The reverse Of TxT is :: hcid ebeil hcI\n"
     ]
    }
   ],
   "source": [
    "import Transformes.String_Transformer as T\n",
    "txt1 = \"Ich liebe dich\"\n",
    "txt2 = \"niemand virstiet mich\"\n",
    "print(f\"The reverse Of TxT is :: {T.reverse_str(txt1)}\")"
   ]
  },
  {
   "cell_type": "code",
   "execution_count": 11,
   "metadata": {},
   "outputs": [
    {
     "name": "stdout",
     "output_type": "stream",
     "text": [
      "The capilize of Txt is :: Niemand virstiet mich\n"
     ]
    }
   ],
   "source": [
    "print(f\"The capilize of Txt is :: {T.captilization(txt2)}\")"
   ]
  },
  {
   "cell_type": "markdown",
   "metadata": {},
   "source": [
    "2 :: get_average"
   ]
  },
  {
   "cell_type": "code",
   "execution_count": 12,
   "metadata": {},
   "outputs": [
    {
     "name": "stdout",
     "output_type": "stream",
     "text": [
      "The Average of the List is :: 20\n"
     ]
    }
   ],
   "source": [
    "import Operations.Maths as OM\n",
    "print(f\"The Average of the List is :: {OM.average_lis([ 10 , 20 , 30 ])}\")"
   ]
  },
  {
   "cell_type": "code",
   "execution_count": null,
   "metadata": {},
   "outputs": [],
   "source": []
  }
 ],
 "metadata": {
  "kernelspec": {
   "display_name": "Python 3",
   "language": "python",
   "name": "python3"
  },
  "language_info": {
   "codemirror_mode": {
    "name": "ipython",
    "version": 3
   },
   "file_extension": ".py",
   "mimetype": "text/x-python",
   "name": "python",
   "nbconvert_exporter": "python",
   "pygments_lexer": "ipython3",
   "version": "3.7.4"
  }
 },
 "nbformat": 4,
 "nbformat_minor": 2
}
