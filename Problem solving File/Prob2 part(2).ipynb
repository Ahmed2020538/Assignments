{
 "cells": [
  {
   "cell_type": "markdown",
   "metadata": {},
   "source": [
    "## 63 Write a Python program to get an absolute file path.\n"
   ]
  },
  {
   "cell_type": "code",
   "execution_count": 1,
   "metadata": {},
   "outputs": [],
   "source": [
    "import os\n",
    "\n",
    "absolute_Path = os.path.abspath(\"Advanced sql.txt\")"
   ]
  },
  {
   "cell_type": "code",
   "execution_count": 2,
   "metadata": {},
   "outputs": [
    {
     "name": "stdout",
     "output_type": "stream",
     "text": [
      "C:\\Users\\Ahmed\\Apply\\Advanced sql.txt\n"
     ]
    }
   ],
   "source": [
    "print(absolute_Path)"
   ]
  },
  {
   "cell_type": "markdown",
   "metadata": {},
   "source": [
    "## 65 Write a Python program to convert seconds to day, hour, minutes and seconds.\n"
   ]
  },
  {
   "cell_type": "code",
   "execution_count": 5,
   "metadata": {},
   "outputs": [
    {
     "name": "stdout",
     "output_type": "stream",
     "text": [
      "Input time in seconds: 9665543234554\n",
      "d:h:m:s-> 111869713:8:42:34\n"
     ]
    }
   ],
   "source": [
    "time = float(input(\"Input time in seconds: \"))\n",
    "day = time // (24 * 3600)\n",
    "time = time % (24 * 3600)\n",
    "hour = time // 3600\n",
    "time %= 3600\n",
    "minutes = time // 60\n",
    "time %= 60 \n",
    "seconds = time\n",
    "print(\"d:h:m:s-> %d:%d:%d:%d\" % (day, hour, minutes, seconds))"
   ]
  },
  {
   "cell_type": "markdown",
   "metadata": {},
   "source": [
    "## 66 Write a Python program to calculate body mass index.\n"
   ]
  },
  {
   "cell_type": "code",
   "execution_count": 7,
   "metadata": {},
   "outputs": [
    {
     "data": {
      "text/plain": [
       "'The Body mass index is :: 24.691358024691358'"
      ]
     },
     "execution_count": 7,
     "metadata": {},
     "output_type": "execute_result"
    }
   ],
   "source": [
    "def body_mass(weight , height) :\n",
    "    Body_mass = weight / height**2\n",
    "    return f\"The Body mass index is :: {Body_mass}\"\n",
    "body_mass(80,1.8)"
   ]
  },
  {
   "cell_type": "markdown",
   "metadata": {},
   "source": [
    "## 67 Write a Python program to convert pressure in kilopascals to pounds per square inch,a millimeter of mercury (mmHg) and atmosphere pressure.\n"
   ]
  },
  {
   "cell_type": "code",
   "execution_count": 8,
   "metadata": {},
   "outputs": [
    {
     "name": "stdout",
     "output_type": "stream",
     "text": [
      "Input pressure in in kilopascals> 100\n",
      "The pressure in pounds per square inch: 14.50 psi\n",
      "The pressure in millimeter of mercury: 750.06 mmHg\n",
      "Atmosphere pressure: 0.99 atm.\n"
     ]
    }
   ],
   "source": [
    "kpa = float(input(\"Input pressure in in kilopascals> \"))\n",
    "psi = kpa / 6.89475729\n",
    "mmhg = kpa * 760 / 101.325\n",
    "atm = kpa / 101.325\n",
    "print(\"The pressure in pounds per square inch: %.2f psi\"  % (psi))\n",
    "print(\"The pressure in millimeter of mercury: %.2f mmHg\" % (mmhg))\n",
    "print(\"Atmosphere pressure: %.2f atm.\" % (atm))"
   ]
  },
  {
   "cell_type": "markdown",
   "metadata": {},
   "source": [
    "## 68 Write a Python program to calculate the sum of the digits in an integer.\n"
   ]
  },
  {
   "cell_type": "code",
   "execution_count": 11,
   "metadata": {},
   "outputs": [
    {
     "name": "stdout",
     "output_type": "stream",
     "text": [
      "Enter the values :: 756\n",
      "18\n"
     ]
    }
   ],
   "source": [
    "Val = str(input(\"Enter the values :: \"))\n",
    "if Val.isdigit() :\n",
    "    print(sum([int(i) for i in Val]))"
   ]
  },
  {
   "cell_type": "markdown",
   "metadata": {},
   "source": [
    "## 69 Write a Python program to sort three integers without using conditional statements and loops.\n"
   ]
  },
  {
   "cell_type": "code",
   "execution_count": 15,
   "metadata": {},
   "outputs": [
    {
     "name": "stdout",
     "output_type": "stream",
     "text": [
      "Enter The num1 plz ::40\n",
      "Enter The num2 plz ::100\n",
      "Enter the num3 pz ::10\n",
      "10 :: 40 :: 100\n"
     ]
    }
   ],
   "source": [
    "x = int(input(\"Enter The num1 plz ::\"))\n",
    "y = int(input(\"Enter The num2 plz ::\"))\n",
    "z = int(input(\"Enter the num3 pz ::\"))\n",
    "O1 = min(x , y , z)\n",
    "O2 = max(x , y , z)\n",
    "O3 = (x + y + z) - O1 - O2\n",
    "print(f\"{O1} :: {O3} :: {O2}\")"
   ]
  },
  {
   "cell_type": "markdown",
   "metadata": {},
   "source": [
    "## 73 Write a Python program to calculate midpoints of a line. \n"
   ]
  },
  {
   "cell_type": "code",
   "execution_count": 16,
   "metadata": {},
   "outputs": [
    {
     "name": "stdout",
     "output_type": "stream",
     "text": [
      "Enter(x1): 30\n",
      "Enter(y1): 20\n",
      "Enter(x2): 20\n",
      "Enter(y2): 10\n",
      "(25.0, 15.0)\n"
     ]
    }
   ],
   "source": [
    "x1 , y1 = int(input(\"Enter(x1): \")), int(input(\"Enter(y1): \"))\n",
    "x2 , y2 = int(input(\"Enter(x2): \")), int(input(\"Enter(y2): \"))\n",
    "mid = (x1 + x2)/2 , (y1 + y2)/2\n",
    "print(mid)"
   ]
  },
  {
   "cell_type": "markdown",
   "metadata": {},
   "source": [
    "## 78 Write a Python program to find the available built-in modules.\n"
   ]
  },
  {
   "cell_type": "code",
   "execution_count": 17,
   "metadata": {},
   "outputs": [
    {
     "name": "stdout",
     "output_type": "stream",
     "text": [
      "_abc, _ast, _bisect, _blake2, _codecs, _codecs_cn, _codecs_hk,\n",
      "_codecs_iso2022, _codecs_jp, _codecs_kr, _codecs_tw, _collections,\n",
      "_contextvars, _csv, _datetime, _functools, _heapq, _imp, _io, _json,\n",
      "_locale, _lsprof, _md5, _multibytecodec, _opcode, _operator, _pickle,\n",
      "_random, _sha1, _sha256, _sha3, _sha512, _signal, _sre, _stat,\n",
      "_string, _struct, _symtable, _thread, _tracemalloc, _warnings,\n",
      "_weakref, _winapi, array, atexit, audioop, binascii, builtins, cmath,\n",
      "errno, faulthandler, gc, itertools, marshal, math, mmap, msvcrt, nt,\n",
      "parser, sys, time, winreg, xxsubtype, zipimport, zlib\n"
     ]
    }
   ],
   "source": [
    "import sys\n",
    "import textwrap\n",
    "module_name = ', '.join(sorted(sys.builtin_module_names))\n",
    "print(textwrap.fill(module_name, width=70))"
   ]
  },
  {
   "cell_type": "markdown",
   "metadata": {},
   "source": [
    "# 79 Write a Python program to get the size of an object in bytes."
   ]
  },
  {
   "cell_type": "code",
   "execution_count": 19,
   "metadata": {},
   "outputs": [
    {
     "name": "stdout",
     "output_type": "stream",
     "text": [
      "54\n",
      "================\n",
      "54\n"
     ]
    }
   ],
   "source": [
    "import sys\n",
    "txt = \"Ahmed\"\n",
    "print(sys.getsizeof(txt))\n",
    "print('================')\n",
    "print(str(sys.getsizeof(txt)))"
   ]
  },
  {
   "cell_type": "markdown",
   "metadata": {},
   "source": [
    "## 80 Write a Python program to get the current value of the recursion limit.\n"
   ]
  },
  {
   "cell_type": "code",
   "execution_count": 21,
   "metadata": {},
   "outputs": [
    {
     "name": "stdout",
     "output_type": "stream",
     "text": [
      "3000\n"
     ]
    }
   ],
   "source": [
    "print(sys.getrecursionlimit())"
   ]
  },
  {
   "cell_type": "markdown",
   "metadata": {},
   "source": [
    "## 81 Write a Python program to concatenate N strings.\n"
   ]
  },
  {
   "cell_type": "code",
   "execution_count": 22,
   "metadata": {},
   "outputs": [
    {
     "data": {
      "text/plain": [
       "'Ali Ahmed Eslam'"
      ]
     },
     "execution_count": 22,
     "metadata": {},
     "output_type": "execute_result"
    }
   ],
   "source": [
    "def cocatenate(*strings) :\n",
    "    return \"\".join(strings)\n",
    "cocatenate(\"Ali \" , \"Ahmed \" , \"Eslam\")"
   ]
  },
  {
   "cell_type": "markdown",
   "metadata": {},
   "source": [
    "## 82 Write a Python program to calculate the sum over a container.\n"
   ]
  },
  {
   "cell_type": "code",
   "execution_count": 23,
   "metadata": {},
   "outputs": [
    {
     "name": "stdout",
     "output_type": "stream",
     "text": [
      "60\n"
     ]
    }
   ],
   "source": [
    "s = sum([ 10 , 20 ,30])\n",
    "print(s)"
   ]
  },
  {
   "cell_type": "markdown",
   "metadata": {},
   "source": [
    "## 83 Write a Python program to test whether all numbers of a list is greater than a certain number.\n"
   ]
  },
  {
   "cell_type": "code",
   "execution_count": 29,
   "metadata": {},
   "outputs": [
    {
     "data": {
      "text/plain": [
       "False"
      ]
     },
     "execution_count": 29,
     "metadata": {},
     "output_type": "execute_result"
    }
   ],
   "source": [
    "def check(N1 , N2) :\n",
    "    for i in N1 :\n",
    "        if i > N2 :\n",
    "            return True\n",
    "        else :\n",
    "            return False\n",
    "check([10,20,30,40,50] , 100)"
   ]
  },
  {
   "cell_type": "code",
   "execution_count": 30,
   "metadata": {},
   "outputs": [
    {
     "data": {
      "text/plain": [
       "True"
      ]
     },
     "execution_count": 30,
     "metadata": {},
     "output_type": "execute_result"
    }
   ],
   "source": [
    "def check(N1 , N2) :\n",
    "    for i in N1 :\n",
    "        if i > N2 :\n",
    "            return True\n",
    "        else :\n",
    "            return False\n",
    "check([10,20,30,40,50] , 8)"
   ]
  },
  {
   "cell_type": "code",
   "execution_count": 32,
   "metadata": {},
   "outputs": [
    {
     "data": {
      "text/plain": [
       "True"
      ]
     },
     "execution_count": 32,
     "metadata": {},
     "output_type": "execute_result"
    }
   ],
   "source": [
    "def is_bigger_than_list(n, lst):\n",
    "    return  max(lst)>n\n",
    "is_bigger_than_list(50,[10,31,15,60,60])"
   ]
  },
  {
   "cell_type": "code",
   "execution_count": 33,
   "metadata": {},
   "outputs": [
    {
     "name": "stdout",
     "output_type": "stream",
     "text": [
      "50\n",
      "False\n"
     ]
    }
   ],
   "source": [
    "ls = [100,200,33,84,0,70,2,5,10,2046]\n",
    "print(True if int(input()) > max(ls) else False)"
   ]
  },
  {
   "cell_type": "code",
   "execution_count": null,
   "metadata": {},
   "outputs": [],
   "source": []
  }
 ],
 "metadata": {
  "kernelspec": {
   "display_name": "Python 3",
   "language": "python",
   "name": "python3"
  },
  "language_info": {
   "codemirror_mode": {
    "name": "ipython",
    "version": 3
   },
   "file_extension": ".py",
   "mimetype": "text/x-python",
   "name": "python",
   "nbconvert_exporter": "python",
   "pygments_lexer": "ipython3",
   "version": "3.7.4"
  }
 },
 "nbformat": 4,
 "nbformat_minor": 2
}
