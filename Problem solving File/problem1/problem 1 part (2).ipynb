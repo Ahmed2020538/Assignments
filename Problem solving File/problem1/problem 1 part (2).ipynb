{
 "cells": [
  {
   "cell_type": "markdown",
   "metadata": {},
   "source": [
    " 11 :: Write a Python program to print the calendar of a given month and year.\n"
   ]
  },
  {
   "cell_type": "code",
   "execution_count": 5,
   "metadata": {},
   "outputs": [
    {
     "name": "stdout",
     "output_type": "stream",
     "text": [
      "Enter the year Plz ::2020\n",
      "Entear The Month Plz ::11\n",
      "   November 2020\n",
      "Mo Tu We Th Fr Sa Su\n",
      "                   1\n",
      " 2  3  4  5  6  7  8\n",
      " 9 10 11 12 13 14 15\n",
      "16 17 18 19 20 21 22\n",
      "23 24 25 26 27 28 29\n",
      "30\n",
      "\n",
      "============================\n",
      "   November 2020\n",
      "Mo Tu We Th Fr Sa Su\n",
      "                   1\n",
      " 2  3  4  5  6  7  8\n",
      " 9 10 11 12 13 14 15\n",
      "16 17 18 19 20 21 22\n",
      "23 24 25 26 27 28 29\n",
      "30\n",
      "\n"
     ]
    }
   ],
   "source": [
    "import calendar as cal\n",
    "Year  = int(input(\"Enter the year Plz ::\"))\n",
    "Month = int(input(\"Entear The Month Plz ::\"))\n",
    "print(cal.month(Year , Month))\n",
    "print(\"============================\")\n",
    "print(cal.month(2020,11))"
   ]
  },
  {
   "cell_type": "code",
   "execution_count": 10,
   "metadata": {},
   "outputs": [
    {
     "name": "stdout",
     "output_type": "stream",
     "text": [
      " Wie heisen Sie ?\n",
      "\n",
      "          Anteworte ::\n",
      "          \n",
      "          ich bin ahmed\n",
      "          ich komme aus Egyptien \n",
      "          ich spiele Fussball \n",
      "          meine  mutter sprache ist Arablisch and deutch auch\n"
     ]
    }
   ],
   "source": [
    "print(\"\"\" Wie heisen Sie ?\n",
    "\n",
    "          Anteworte ::\n",
    "          \n",
    "          ich bin ahmed\n",
    "          ich komme aus Egyptien \n",
    "          ich spiele Fussball \n",
    "          meine  mutter sprache ist Arablisch and deutch auch\"\"\" )"
   ]
  },
  {
   "cell_type": "markdown",
   "metadata": {},
   "source": [
    "13 :: Write a Python program to calculate number of days between two dates.\n"
   ]
  },
  {
   "cell_type": "code",
   "execution_count": 21,
   "metadata": {},
   "outputs": [
    {
     "name": "stdout",
     "output_type": "stream",
     "text": [
      " the day to my Birthday is :: 147\n"
     ]
    }
   ],
   "source": [
    "import datetime as dt\n",
    "date1 = dt.date(2021,4,20)\n",
    "date2 = dt.date(2020,11,24)\n",
    "delta = date1-date2\n",
    "print(f\" the day to my Birthday is :: {delta.days}\")"
   ]
  },
  {
   "cell_type": "markdown",
   "metadata": {},
   "source": [
    "14 :: Write a Python program to get the the volume of a sphere with radius 6"
   ]
  },
  {
   "cell_type": "code",
   "execution_count": 33,
   "metadata": {},
   "outputs": [
    {
     "name": "stdout",
     "output_type": "stream",
     "text": [
      "Enter the radius Plz ::6\n",
      "The volum of sphere is :: 904.7786842338603\n",
      "===========\n",
      "The volum of sphere is :: 904\n",
      "==============\n",
      "904.7786842338603  904   is the volume \n"
     ]
    }
   ],
   "source": [
    "import math as m\n",
    "r = float(input(\"Enter the radius Plz ::\"))\n",
    "v_of_sphere = ( 4 / 3 ) *m.pi*r**3\n",
    "print(f\"The volum of sphere is :: {v_of_sphere}\")\n",
    "print(\"===========\")\n",
    "print(f\"The volum of sphere is :: {int(v_of_sphere)}\")\n",
    "print(\"==============\")\n",
    "print(\"%s  %s   is the volume \" %(v_of_sphere   ,  int(v_of_sphere)))"
   ]
  },
  {
   "cell_type": "markdown",
   "metadata": {},
   "source": [
    " 15 :: Write a Python program to get the difference between a given number and 17, if the number is greater than 17 return double the absolute difference"
   ]
  },
  {
   "cell_type": "code",
   "execution_count": 34,
   "metadata": {},
   "outputs": [
    {
     "data": {
      "text/plain": [
       "3"
      ]
     },
     "execution_count": 34,
     "metadata": {},
     "output_type": "execute_result"
    }
   ],
   "source": [
    "def diff (n) :\n",
    "    if n > 17 :\n",
    "        return abs((17-n)**2)\n",
    "    else :\n",
    "        return abs(17-n)\n",
    "    \n",
    "diff(14)"
   ]
  },
  {
   "cell_type": "code",
   "execution_count": 35,
   "metadata": {},
   "outputs": [
    {
     "data": {
      "text/plain": [
       "169"
      ]
     },
     "execution_count": 35,
     "metadata": {},
     "output_type": "execute_result"
    }
   ],
   "source": [
    "diff(30)"
   ]
  },
  {
   "cell_type": "code",
   "execution_count": 36,
   "metadata": {},
   "outputs": [
    {
     "data": {
      "text/plain": [
       "2"
      ]
     },
     "execution_count": 36,
     "metadata": {},
     "output_type": "execute_result"
    }
   ],
   "source": [
    "diff(15)"
   ]
  },
  {
   "cell_type": "markdown",
   "metadata": {},
   "source": [
    "16 :: Write a Python program to test whether a number is within 100 of 1000 or 2000."
   ]
  },
  {
   "cell_type": "code",
   "execution_count": 37,
   "metadata": {},
   "outputs": [
    {
     "data": {
      "text/plain": [
       "False"
      ]
     },
     "execution_count": 37,
     "metadata": {},
     "output_type": "execute_result"
    }
   ],
   "source": [
    "def diffi (n) :\n",
    "    return abs(1000-n) <= 100 or abs(2000-n) <= 100\n",
    "\n",
    "diffi(20)\n"
   ]
  },
  {
   "cell_type": "code",
   "execution_count": 38,
   "metadata": {},
   "outputs": [
    {
     "data": {
      "text/plain": [
       "False"
      ]
     },
     "execution_count": 38,
     "metadata": {},
     "output_type": "execute_result"
    }
   ],
   "source": [
    "diffi(150)"
   ]
  },
  {
   "cell_type": "code",
   "execution_count": 40,
   "metadata": {},
   "outputs": [
    {
     "data": {
      "text/plain": [
       "True"
      ]
     },
     "execution_count": 40,
     "metadata": {},
     "output_type": "execute_result"
    }
   ],
   "source": [
    "diffi(900)"
   ]
  },
  {
   "cell_type": "code",
   "execution_count": 41,
   "metadata": {},
   "outputs": [
    {
     "data": {
      "text/plain": [
       "True"
      ]
     },
     "execution_count": 41,
     "metadata": {},
     "output_type": "execute_result"
    }
   ],
   "source": [
    "diffi(1900)"
   ]
  },
  {
   "cell_type": "markdown",
   "metadata": {},
   "source": [
    "17 :: Write a Python program to calculate the sum of three given numbers, if the values are equal then return thrice of their sum"
   ]
  },
  {
   "cell_type": "code",
   "execution_count": 44,
   "metadata": {},
   "outputs": [],
   "source": [
    "def sumation ( n1 , n2 , n3) :\n",
    "    if n1 == n2 == n3 :\n",
    "        return ((n1 + n2 + n3))*3\n",
    "    else :\n",
    "        return (n1 + n2 + n3)"
   ]
  },
  {
   "cell_type": "code",
   "execution_count": 45,
   "metadata": {},
   "outputs": [
    {
     "data": {
      "text/plain": [
       "54"
      ]
     },
     "execution_count": 45,
     "metadata": {},
     "output_type": "execute_result"
    }
   ],
   "source": [
    "sumation(6,6,6)"
   ]
  },
  {
   "cell_type": "code",
   "execution_count": 46,
   "metadata": {},
   "outputs": [
    {
     "data": {
      "text/plain": [
       "48"
      ]
     },
     "execution_count": 46,
     "metadata": {},
     "output_type": "execute_result"
    }
   ],
   "source": [
    "sumation(26,6,16)"
   ]
  },
  {
   "cell_type": "markdown",
   "metadata": {},
   "source": [
    "18 :: Write a Python program to get a new string from a given string where \"Is\" has been added to the front. If the given string already begins with \"Is\" then return the string unchanged. Go to the editor"
   ]
  },
  {
   "cell_type": "code",
   "execution_count": 49,
   "metadata": {},
   "outputs": [
    {
     "data": {
      "text/plain": [
       "'is array'"
      ]
     },
     "execution_count": 49,
     "metadata": {},
     "output_type": "execute_result"
    }
   ],
   "source": [
    "def update (text) :\n",
    "    if text[:2] == \"is\" :\n",
    "        return text\n",
    "    else :\n",
    "        return  \"is \" + text \n",
    "    \n",
    "update(\"array\")"
   ]
  },
  {
   "cell_type": "code",
   "execution_count": 50,
   "metadata": {},
   "outputs": [
    {
     "data": {
      "text/plain": [
       "'is good'"
      ]
     },
     "execution_count": 50,
     "metadata": {},
     "output_type": "execute_result"
    }
   ],
   "source": [
    "update(\"is good\")"
   ]
  },
  {
   "cell_type": "markdown",
   "metadata": {},
   "source": [
    "19 :: Write a Python program to get a string which is n (non-negative integer) copies of a given string."
   ]
  },
  {
   "cell_type": "code",
   "execution_count": 55,
   "metadata": {},
   "outputs": [],
   "source": [
    "def repet_func (txt , n) :\n",
    "    res = \"\"\n",
    "    for i in range(n) :\n",
    "         res+=txt\n",
    "    return res"
   ]
  },
  {
   "cell_type": "code",
   "execution_count": 57,
   "metadata": {},
   "outputs": [
    {
     "data": {
      "text/plain": [
       "'Ahmed  Ahmed  Ahmed  Ahmed  '"
      ]
     },
     "execution_count": 57,
     "metadata": {},
     "output_type": "execute_result"
    }
   ],
   "source": [
    "repet_func(\"Ahmed  \" , 4 )"
   ]
  },
  {
   "cell_type": "markdown",
   "metadata": {},
   "source": [
    "20 :: Write a Python program to find whether a given number (accept from the user) is even or odd, print out an appropriate message to the user."
   ]
  },
  {
   "cell_type": "code",
   "execution_count": 59,
   "metadata": {},
   "outputs": [
    {
     "name": "stdout",
     "output_type": "stream",
     "text": [
      "Enter the num Plz :: 10\n",
      "The 10 num is Eveen\n"
     ]
    }
   ],
   "source": [
    "num = int(input(\"Enter the num Plz :: \"))\n",
    "if num % 2 == 0:\n",
    "    print(f\"The {num} num is Eveen\")\n",
    "else :\n",
    "    print(f\"The {num} num is Odd\")"
   ]
  },
  {
   "cell_type": "code",
   "execution_count": 60,
   "metadata": {},
   "outputs": [
    {
     "name": "stdout",
     "output_type": "stream",
     "text": [
      "Enter the num Plz :: 15\n",
      "The 15 num is Odd\n"
     ]
    }
   ],
   "source": [
    "num = int(input(\"Enter the num Plz :: \"))\n",
    "if num % 2 == 0:\n",
    "    print(f\"The {num} num is Eveen\")\n",
    "else :\n",
    "    print(f\"The {num} num is Odd\")"
   ]
  },
  {
   "cell_type": "code",
   "execution_count": 63,
   "metadata": {},
   "outputs": [
    {
     "data": {
      "text/plain": [
       "4"
      ]
     },
     "execution_count": 63,
     "metadata": {},
     "output_type": "execute_result"
    }
   ],
   "source": [
    "l = [ 10 ,20 ,30 ,40 ,20 ,40 ,20 ,100 ,20]\n",
    "def count_num (l) :\n",
    "    count_n = 0\n",
    "    for i in l :\n",
    "        if i == 20 :\n",
    "            count_n += 1\n",
    "    return count_n\n",
    "count_num(l)\n"
   ]
  },
  {
   "cell_type": "code",
   "execution_count": 66,
   "metadata": {},
   "outputs": [
    {
     "data": {
      "text/plain": [
       "80"
      ]
     },
     "execution_count": 66,
     "metadata": {},
     "output_type": "execute_result"
    }
   ],
   "source": [
    "l = [ 10 ,20 ,30 ,40 ,20 ,40 ,20 ,100 ,20]\n",
    "def summ_num (l) :\n",
    "    count_n = 0\n",
    "    for i in l :\n",
    "        if i == 20 :\n",
    "            count_n += i\n",
    "    return count_n\n",
    "summ_num(l)"
   ]
  },
  {
   "cell_type": "code",
   "execution_count": 68,
   "metadata": {},
   "outputs": [
    {
     "data": {
      "text/plain": [
       "4"
      ]
     },
     "execution_count": 68,
     "metadata": {},
     "output_type": "execute_result"
    }
   ],
   "source": [
    "def co_num (*n) :\n",
    "    lista = [i for i in n]\n",
    "    return lista.count(20)\n",
    "co_num( 10 ,20 ,30 ,40 ,20 ,40 ,20 ,100 ,20)"
   ]
  },
  {
   "cell_type": "code",
   "execution_count": null,
   "metadata": {},
   "outputs": [],
   "source": []
  }
 ],
 "metadata": {
  "kernelspec": {
   "display_name": "Python 3",
   "language": "python",
   "name": "python3"
  },
  "language_info": {
   "codemirror_mode": {
    "name": "ipython",
    "version": 3
   },
   "file_extension": ".py",
   "mimetype": "text/x-python",
   "name": "python",
   "nbconvert_exporter": "python",
   "pygments_lexer": "ipython3",
   "version": "3.7.4"
  }
 },
 "nbformat": 4,
 "nbformat_minor": 2
}
