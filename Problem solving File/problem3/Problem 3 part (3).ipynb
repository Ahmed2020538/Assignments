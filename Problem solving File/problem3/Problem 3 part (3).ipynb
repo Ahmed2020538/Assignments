{
 "cells": [
  {
   "cell_type": "markdown",
   "metadata": {},
   "source": [
    "## 32 Write a python program to find heights of the top three building in descending order from eight given buildings\n"
   ]
  },
  {
   "cell_type": "code",
   "execution_count": 1,
   "metadata": {},
   "outputs": [
    {
     "name": "stdout",
     "output_type": "stream",
     "text": [
      "[45, 39, 37]\n"
     ]
    }
   ],
   "source": [
    "l = [25, 35, 15, 16, 30, 45, 37, 39]\n",
    "l.sort()\n",
    "print(l[:4:-1])"
   ]
  },
  {
   "cell_type": "code",
   "execution_count": 2,
   "metadata": {},
   "outputs": [
    {
     "data": {
      "text/plain": [
       "[45, 39, 37]"
      ]
     },
     "execution_count": 2,
     "metadata": {},
     "output_type": "execute_result"
    }
   ],
   "source": [
    "heights = [25, 35, 15, 16, 30, 45, 37, 39]\n",
    "sorted(heights, reverse=True)[0:3]"
   ]
  },
  {
   "cell_type": "markdown",
   "metadata": {},
   "source": [
    "## 33 Write a Python program to compute the digit number of sum of two given integers.\n"
   ]
  },
  {
   "cell_type": "code",
   "execution_count": 4,
   "metadata": {},
   "outputs": [
    {
     "name": "stdout",
     "output_type": "stream",
     "text": [
      "enter the value of x : 10\n",
      "enter the value of y : 20\n",
      "the length os the sum of two integer : 2\n"
     ]
    }
   ],
   "source": [
    "x,y=int(input('enter the value of x : ')) ,int(input(\"enter the value of y : \"))\n",
    "o= len(str(x+y))\n",
    "print('the length os the sum of two integer :',o)"
   ]
  },
  {
   "cell_type": "code",
   "execution_count": 6,
   "metadata": {},
   "outputs": [
    {
     "name": "stdout",
     "output_type": "stream",
     "text": [
      "Input two integers(a b): \n",
      "20 20\n",
      "Number of digit of a and b.:\n",
      "2\n"
     ]
    }
   ],
   "source": [
    "print(\"Input two integers(a b): \")\n",
    "x,y=[int(a) for a in input().split()]\n",
    "print(\"Number of digit of a and b.:\")\n",
    "import collections\n",
    "print(sum(collections.Counter(str(x+y)).values()))"
   ]
  },
  {
   "cell_type": "code",
   "execution_count": 7,
   "metadata": {},
   "outputs": [
    {
     "name": "stdout",
     "output_type": "stream",
     "text": [
      "20 20 \n"
     ]
    }
   ],
   "source": [
    "## VI to get two values separated\n",
    "x,y=[int(a)for a in input().split()]"
   ]
  },
  {
   "cell_type": "markdown",
   "metadata": {},
   "source": [
    "## 34 Write a Python program to check whether three given lengths (integers) of three sides form a right triangle. Print \"Yes\" if the given sides form a right triangle otherwise print \"No\".\n"
   ]
  },
  {
   "cell_type": "code",
   "execution_count": 8,
   "metadata": {},
   "outputs": [
    {
     "name": "stdout",
     "output_type": "stream",
     "text": [
      "Right triangle? No.\n"
     ]
    }
   ],
   "source": [
    "a = [5,7,3]\n",
    "a.sort()\n",
    "b = a[0]\n",
    "c = a[1]\n",
    "d = a[2]\n",
    "if d == (b**2 + c**2)**0.5:\n",
    "    print('Right triangle? Yes.')\n",
    "else:\n",
    "    print('Right triangle? No.')"
   ]
  },
  {
   "cell_type": "code",
   "execution_count": 9,
   "metadata": {},
   "outputs": [
    {
     "name": "stdout",
     "output_type": "stream",
     "text": [
      "enter first lesngth : 5\n",
      "enter first lesngth : 7\n",
      "enter first lesngth : 3\n",
      "Right triangle? No.\n"
     ]
    }
   ],
   "source": [
    "b,c,d=int(input('enter first lesngth : ')),int(input('enter first lesngth : ')),int(input('enter first lesngth : '))\n",
    "if d == (b**2 + c**2)**0.5:\n",
    "    print('Right triangle? Yes.')\n",
    "else:\n",
    "    print('Right triangle? No.')"
   ]
  },
  {
   "cell_type": "code",
   "execution_count": 10,
   "metadata": {},
   "outputs": [
    {
     "name": "stdout",
     "output_type": "stream",
     "text": [
      "Right triangle? No.\n"
     ]
    }
   ],
   "source": [
    "def triangle(b,c,d):\n",
    "    if d == (b**2 + c**2)**0.5:\n",
    "        print('Right triangle? Yes.')\n",
    "    else:\n",
    "        print('Right triangle? No.')\n",
    "triangle(10,5,4)"
   ]
  },
  {
   "cell_type": "markdown",
   "metadata": {},
   "source": [
    "35 Write a Python program which solve the equation:¶\n",
    "ax+by=c dx+ey=f Print the values of x, y where a, b, c, d, e and f are given.\n",
    "Input: a,b,c,d,e,f separated by a single space. (-1,000 ≤ a,b,c,d,e,f ≤ 1,000)"
   ]
  },
  {
   "cell_type": "code",
   "execution_count": 1,
   "metadata": {},
   "outputs": [
    {
     "name": "stdout",
     "output_type": "stream",
     "text": [
      "Input the value of a, b, c, d, e, f:\n",
      "10 20 30 40 50 60\n",
      "Values of x and y:\n",
      "-1.000 2.000\n"
     ]
    }
   ],
   "source": [
    "print(\"Input the value of a, b, c, d, e, f:\")\n",
    "a, b, c, d, e, f = map(float, input().split())\n",
    "n = a*e - b*d\n",
    "print(\"Values of x and y:\")\n",
    "if n != 0:\n",
    "    x = (c*e - b*f) / n\n",
    "    y = (a*f - c*d) / n\n",
    "    print('{:.3f} {:.3f}'.format(x+0, y+0))"
   ]
  },
  {
   "cell_type": "markdown",
   "metadata": {},
   "source": [
    "## 36 Write a Python program to compute the amount of the debt in n months. The borrowing amount is $100,000 and the loan adds 5% interest of the debt and rounds it to the nearest 1,000 above month by month"
   ]
  },
  {
   "cell_type": "code",
   "execution_count": 4,
   "metadata": {},
   "outputs": [
    {
     "name": "stdout",
     "output_type": "stream",
     "text": [
      "Input number of months:\n",
      "7\n",
      "Amount of debt:  $144000\n"
     ]
    }
   ],
   "source": [
    "def round_n(n):\n",
    "    if n%1000:\n",
    "        return (1+n//1000)*1000\n",
    "    else:\n",
    "        return n\n",
    "     \n",
    "def compute_debt(n):\n",
    "    if n==0: return 100000\n",
    "    return int(round_n(compute_debt(n-1)*1.05))\n",
    "\n",
    "print(\"Input number of months:\")\n",
    "result = compute_debt(int(input()))\n",
    "print(\"Amount of debt: \",\"$\"+str(result).strip())"
   ]
  },
  {
   "cell_type": "code",
   "execution_count": 3,
   "metadata": {},
   "outputs": [
    {
     "name": "stdout",
     "output_type": "stream",
     "text": [
      "Amount of debt =  144000\n"
     ]
    }
   ],
   "source": [
    "months = 7\n",
    "prc = 5\n",
    "amnt = 100000\n",
    "\n",
    "for n in range(months):\n",
    "    amnt = amnt + (amnt * prc) // 100\n",
    "    if amnt % 1000 >= 0.5:\n",
    "        amnt = (amnt // 1000 + 1) * 1000\n",
    "    else:\n",
    "        amnt = amnt // 1000 * 1000\n",
    "\n",
    "print(\"Amount of debt = \",amnt)"
   ]
  },
  {
   "cell_type": "markdown",
   "metadata": {},
   "source": [
    "## 37 Write a Python program which reads an integer n and find the number of combinations of a,b,c and d (0 ≤ a,b,c,d ≤ 9) where (a + b + c + d) will be equal to n.\n"
   ]
  },
  {
   "cell_type": "code",
   "execution_count": 5,
   "metadata": {},
   "outputs": [
    {
     "name": "stdout",
     "output_type": "stream",
     "text": [
      "592\n"
     ]
    }
   ],
   "source": [
    "import itertools\n",
    "n = 15\n",
    "count = 0\n",
    "a = list(range(10))\n",
    "z = itertools.product(a, repeat=4)\n",
    "for x in z:\n",
    "    if sum(x) == n:\n",
    "        count += 1\n",
    "\n",
    "print(count)"
   ]
  },
  {
   "cell_type": "code",
   "execution_count": 6,
   "metadata": {},
   "outputs": [
    {
     "name": "stdout",
     "output_type": "stream",
     "text": [
      "592\n"
     ]
    }
   ],
   "source": [
    "n = 15\n",
    "i = 0\n",
    "for a in range (10):\n",
    "    for b in range(10):\n",
    "        for c in range (10):\n",
    "            if 0 <= n-(a+b+c) <= 9 :# d = n-(a+b+c) \n",
    "                i += 1\n",
    "print(i)"
   ]
  },
  {
   "cell_type": "markdown",
   "metadata": {},
   "source": [
    "## 38 Write a Python program to print the number of prime numbers which are less than or equal to a given integer.\n"
   ]
  },
  {
   "cell_type": "code",
   "execution_count": 8,
   "metadata": {},
   "outputs": [
    {
     "ename": "KeyboardInterrupt",
     "evalue": "",
     "output_type": "error",
     "traceback": [
      "\u001b[1;31m---------------------------------------------------------------------------\u001b[0m",
      "\u001b[1;31mKeyboardInterrupt\u001b[0m                         Traceback (most recent call last)",
      "\u001b[1;32m<ipython-input-8-44c04b626f04>\u001b[0m in \u001b[0;36m<module>\u001b[1;34m\u001b[0m\n\u001b[0;32m     14\u001b[0m             \u001b[0ma\u001b[0m \u001b[1;33m=\u001b[0m \u001b[0mint\u001b[0m\u001b[1;33m(\u001b[0m\u001b[0minput\u001b[0m\u001b[1;33m(\u001b[0m\u001b[1;34m\"Enter a number: \"\u001b[0m\u001b[1;33m)\u001b[0m\u001b[1;33m)\u001b[0m\u001b[1;33m\u001b[0m\u001b[1;33m\u001b[0m\u001b[0m\n\u001b[0;32m     15\u001b[0m             \u001b[0mprint\u001b[0m\u001b[1;33m(\u001b[0m\u001b[0mprime\u001b[0m\u001b[1;33m(\u001b[0m\u001b[0ma\u001b[0m\u001b[1;33m)\u001b[0m\u001b[1;33m)\u001b[0m\u001b[1;33m\u001b[0m\u001b[1;33m\u001b[0m\u001b[0m\n\u001b[1;32m---> 16\u001b[1;33m \u001b[0mprime\u001b[0m\u001b[1;33m(\u001b[0m\u001b[1;36m19\u001b[0m\u001b[1;33m)\u001b[0m\u001b[1;33m\u001b[0m\u001b[1;33m\u001b[0m\u001b[0m\n\u001b[0m",
      "\u001b[1;32m<ipython-input-8-44c04b626f04>\u001b[0m in \u001b[0;36mprime\u001b[1;34m(a)\u001b[0m\n\u001b[0;32m      3\u001b[0m     \u001b[1;32mwhile\u001b[0m \u001b[0ma\u001b[0m \u001b[1;33m>\u001b[0m \u001b[1;36m2\u001b[0m\u001b[1;33m:\u001b[0m\u001b[1;33m\u001b[0m\u001b[1;33m\u001b[0m\u001b[0m\n\u001b[0;32m      4\u001b[0m         \u001b[1;32mfor\u001b[0m \u001b[0mi\u001b[0m \u001b[1;32min\u001b[0m \u001b[0mrange\u001b[0m\u001b[1;33m(\u001b[0m\u001b[1;36m2\u001b[0m\u001b[1;33m,\u001b[0m\u001b[0ma\u001b[0m\u001b[1;33m)\u001b[0m\u001b[1;33m:\u001b[0m\u001b[1;33m\u001b[0m\u001b[1;33m\u001b[0m\u001b[0m\n\u001b[1;32m----> 5\u001b[1;33m             \u001b[0mb\u001b[0m \u001b[1;33m=\u001b[0m \u001b[0mi\u001b[0m\u001b[1;33m\u001b[0m\u001b[1;33m\u001b[0m\u001b[0m\n\u001b[0m\u001b[0;32m      6\u001b[0m         \u001b[1;32mfor\u001b[0m \u001b[0mj\u001b[0m \u001b[1;32min\u001b[0m \u001b[0mrange\u001b[0m\u001b[1;33m(\u001b[0m\u001b[1;36m2\u001b[0m\u001b[1;33m,\u001b[0m\u001b[0mb\u001b[0m\u001b[1;33m-\u001b[0m\u001b[1;36m1\u001b[0m\u001b[1;33m)\u001b[0m\u001b[1;33m:\u001b[0m\u001b[1;33m\u001b[0m\u001b[1;33m\u001b[0m\u001b[0m\n\u001b[0;32m      7\u001b[0m             \u001b[1;32mif\u001b[0m \u001b[0mb\u001b[0m \u001b[1;33m%\u001b[0m \u001b[0mj\u001b[0m \u001b[1;33m==\u001b[0m \u001b[1;36m0\u001b[0m\u001b[1;33m:\u001b[0m\u001b[1;33m\u001b[0m\u001b[1;33m\u001b[0m\u001b[0m\n",
      "\u001b[1;31mKeyboardInterrupt\u001b[0m: "
     ]
    }
   ],
   "source": [
    "def prime(a):\n",
    "    list = []\n",
    "    while a > 2:\n",
    "        for i in range(2,a):\n",
    "            b = i\n",
    "        for j in range(2,b-1):\n",
    "            if b % j == 0:\n",
    "                break\n",
    "            else:\n",
    "                list.append(b)\n",
    "                a -= 1\n",
    "                return list\n",
    "\n",
    "            a = int(input(\"Enter a number: \"))\n",
    "            print(prime(a))\n",
    "prime(19)"
   ]
  },
  {
   "cell_type": "markdown",
   "metadata": {},
   "source": [
    "## 39. Write a program to compute the radius and the central coordinate (x, y) of a circle which is constructed by three given points on the plane surface\n"
   ]
  },
  {
   "cell_type": "code",
   "execution_count": 9,
   "metadata": {},
   "outputs": [
    {
     "name": "stdout",
     "output_type": "stream",
     "text": [
      "Input three coordinate of the circle:\n",
      "10 20 30 40 50 60\n"
     ]
    },
    {
     "ename": "ZeroDivisionError",
     "evalue": "float division by zero",
     "output_type": "error",
     "traceback": [
      "\u001b[1;31m---------------------------------------------------------------------------\u001b[0m",
      "\u001b[1;31mZeroDivisionError\u001b[0m                         Traceback (most recent call last)",
      "\u001b[1;32m<ipython-input-9-a0d71ff9cf24>\u001b[0m in \u001b[0;36m<module>\u001b[1;34m\u001b[0m\n\u001b[0;32m     13\u001b[0m \u001b[0mG\u001b[0m \u001b[1;33m=\u001b[0m \u001b[0mx3\u001b[0m\u001b[1;33m**\u001b[0m\u001b[1;36m2\u001b[0m \u001b[1;33m+\u001b[0m \u001b[0my3\u001b[0m\u001b[1;33m**\u001b[0m\u001b[1;36m2\u001b[0m\u001b[1;33m\u001b[0m\u001b[1;33m\u001b[0m\u001b[0m\n\u001b[0;32m     14\u001b[0m \u001b[1;31m#----------------------------\u001b[0m\u001b[1;33m\u001b[0m\u001b[1;33m\u001b[0m\u001b[1;33m\u001b[0m\u001b[0m\n\u001b[1;32m---> 15\u001b[1;33m \u001b[0mC\u001b[0m \u001b[1;33m=\u001b[0m \u001b[1;33m(\u001b[0m\u001b[1;33m(\u001b[0m\u001b[1;33m(\u001b[0m\u001b[0mG\u001b[0m\u001b[1;33m-\u001b[0m\u001b[0mE\u001b[0m\u001b[1;33m)\u001b[0m\u001b[1;33m*\u001b[0m\u001b[1;33m(\u001b[0m\u001b[0mx2\u001b[0m\u001b[1;33m-\u001b[0m\u001b[0mx1\u001b[0m\u001b[1;33m)\u001b[0m\u001b[1;33m)\u001b[0m\u001b[1;33m-\u001b[0m\u001b[1;33m(\u001b[0m\u001b[1;33m(\u001b[0m\u001b[0mF\u001b[0m\u001b[1;33m-\u001b[0m\u001b[0mE\u001b[0m\u001b[1;33m)\u001b[0m\u001b[1;33m*\u001b[0m\u001b[1;33m(\u001b[0m\u001b[0mx3\u001b[0m\u001b[1;33m-\u001b[0m\u001b[0mx1\u001b[0m\u001b[1;33m)\u001b[0m\u001b[1;33m)\u001b[0m\u001b[1;33m)\u001b[0m \u001b[1;33m/\u001b[0m \u001b[1;33m(\u001b[0m\u001b[1;33m(\u001b[0m\u001b[1;33m(\u001b[0m\u001b[0my3\u001b[0m\u001b[1;33m-\u001b[0m\u001b[0my1\u001b[0m\u001b[1;33m)\u001b[0m\u001b[1;33m*\u001b[0m\u001b[1;33m(\u001b[0m\u001b[0mx2\u001b[0m\u001b[1;33m-\u001b[0m\u001b[0mx1\u001b[0m\u001b[1;33m)\u001b[0m\u001b[1;33m)\u001b[0m\u001b[1;33m-\u001b[0m\u001b[1;33m(\u001b[0m\u001b[1;33m(\u001b[0m\u001b[0my2\u001b[0m\u001b[1;33m-\u001b[0m\u001b[0my1\u001b[0m\u001b[1;33m)\u001b[0m\u001b[1;33m*\u001b[0m\u001b[1;33m(\u001b[0m\u001b[0mx3\u001b[0m\u001b[1;33m-\u001b[0m\u001b[0mx1\u001b[0m\u001b[1;33m)\u001b[0m\u001b[1;33m)\u001b[0m\u001b[1;33m)\u001b[0m\u001b[1;33m\u001b[0m\u001b[1;33m\u001b[0m\u001b[0m\n\u001b[0m\u001b[0;32m     16\u001b[0m \u001b[0mB\u001b[0m \u001b[1;33m=\u001b[0m \u001b[1;33m(\u001b[0m\u001b[0mF\u001b[0m\u001b[1;33m-\u001b[0m\u001b[0mE\u001b[0m\u001b[1;33m-\u001b[0m\u001b[1;33m(\u001b[0m\u001b[0mC\u001b[0m\u001b[1;33m*\u001b[0m\u001b[1;33m(\u001b[0m\u001b[0my2\u001b[0m\u001b[1;33m-\u001b[0m\u001b[0my1\u001b[0m\u001b[1;33m)\u001b[0m\u001b[1;33m)\u001b[0m\u001b[1;33m)\u001b[0m \u001b[1;33m/\u001b[0m \u001b[1;33m(\u001b[0m\u001b[0mx2\u001b[0m\u001b[1;33m-\u001b[0m\u001b[0mx1\u001b[0m\u001b[1;33m)\u001b[0m\u001b[1;33m\u001b[0m\u001b[1;33m\u001b[0m\u001b[0m\n\u001b[0;32m     17\u001b[0m \u001b[0mA\u001b[0m \u001b[1;33m=\u001b[0m \u001b[0mE\u001b[0m \u001b[1;33m-\u001b[0m \u001b[0mB\u001b[0m\u001b[1;33m*\u001b[0m\u001b[0mx1\u001b[0m \u001b[1;33m-\u001b[0m \u001b[0mC\u001b[0m\u001b[1;33m*\u001b[0m\u001b[0my1\u001b[0m\u001b[1;33m\u001b[0m\u001b[1;33m\u001b[0m\u001b[0m\n",
      "\u001b[1;31mZeroDivisionError\u001b[0m: float division by zero"
     ]
    }
   ],
   "source": [
    "print(\"Input three coordinate of the circle:\")\n",
    "x1, y1, x2, y2, x3, y3 = map(float, input().split())\n",
    "\n",
    "#----------------------------\n",
    "# (x-xm)**2 +(y-ym)**2 = r**2\n",
    "# x**2 -2*xm*x +xm**2 +y**2 - 2*ym*y +ym**2 = r**2\n",
    "#A := r**2 - xm**2 -ym**2\n",
    "#B := 2*xm\n",
    "#C := 2*ym\n",
    "#----------------------------\n",
    "E = x1**2 + y1**2\n",
    "F = x2**2 + y2**2\n",
    "G = x3**2 + y3**2\n",
    "#----------------------------\n",
    "C = (((G-E)*(x2-x1))-((F-E)*(x3-x1))) / (((y3-y1)*(x2-x1))-((y2-y1)*(x3-x1)))\n",
    "B = (F-E-(C*(y2-y1))) / (x2-x1)\n",
    "A = E - B*x1 - C*y1\n",
    "\n",
    "xm = B/2\n",
    "ym = C/2\n",
    "r = (A + xm**2 + ym**2)**.5\n",
    "\n",
    "print('Radius of the said circle: {:.3f}'.format(r))\n",
    "print('Central coordinate (x, y) of the circle: {:.3f} {:.3f}'.format(xm,ym))"
   ]
  },
  {
   "cell_type": "code",
   "execution_count": 10,
   "metadata": {},
   "outputs": [
    {
     "name": "stdout",
     "output_type": "stream",
     "text": [
      "Input three coordinate of the circle:\n",
      "10 20 30 30 10 20\n"
     ]
    },
    {
     "ename": "ZeroDivisionError",
     "evalue": "float division by zero",
     "output_type": "error",
     "traceback": [
      "\u001b[1;31m---------------------------------------------------------------------------\u001b[0m",
      "\u001b[1;31mZeroDivisionError\u001b[0m                         Traceback (most recent call last)",
      "\u001b[1;32m<ipython-input-10-2659dcd9d8d0>\u001b[0m in \u001b[0;36m<module>\u001b[1;34m\u001b[0m\n\u001b[0;32m      5\u001b[0m \u001b[0mb\u001b[0m \u001b[1;33m=\u001b[0m \u001b[1;33m(\u001b[0m\u001b[0mx3\u001b[0m\u001b[1;33m-\u001b[0m\u001b[0mx1\u001b[0m\u001b[1;33m)\u001b[0m\u001b[1;33m**\u001b[0m\u001b[1;36m2\u001b[0m \u001b[1;33m+\u001b[0m \u001b[1;33m(\u001b[0m\u001b[0my3\u001b[0m\u001b[1;33m-\u001b[0m\u001b[0my1\u001b[0m\u001b[1;33m)\u001b[0m\u001b[1;33m**\u001b[0m\u001b[1;36m2\u001b[0m\u001b[1;33m\u001b[0m\u001b[1;33m\u001b[0m\u001b[0m\n\u001b[0;32m      6\u001b[0m \u001b[0ms\u001b[0m \u001b[1;33m=\u001b[0m \u001b[1;36m2\u001b[0m\u001b[1;33m*\u001b[0m\u001b[1;33m(\u001b[0m\u001b[0ma\u001b[0m\u001b[1;33m*\u001b[0m\u001b[0mb\u001b[0m \u001b[1;33m+\u001b[0m \u001b[0mb\u001b[0m\u001b[1;33m*\u001b[0m\u001b[0mc\u001b[0m \u001b[1;33m+\u001b[0m \u001b[0mc\u001b[0m\u001b[1;33m*\u001b[0m\u001b[0ma\u001b[0m\u001b[1;33m)\u001b[0m \u001b[1;33m-\u001b[0m \u001b[1;33m(\u001b[0m\u001b[0ma\u001b[0m\u001b[1;33m*\u001b[0m\u001b[0ma\u001b[0m \u001b[1;33m+\u001b[0m \u001b[0mb\u001b[0m\u001b[1;33m*\u001b[0m\u001b[0mb\u001b[0m \u001b[1;33m+\u001b[0m \u001b[0mc\u001b[0m\u001b[1;33m*\u001b[0m\u001b[0mc\u001b[0m\u001b[1;33m)\u001b[0m\u001b[1;33m\u001b[0m\u001b[1;33m\u001b[0m\u001b[0m\n\u001b[1;32m----> 7\u001b[1;33m \u001b[0mpx\u001b[0m \u001b[1;33m=\u001b[0m \u001b[1;33m(\u001b[0m\u001b[0ma\u001b[0m\u001b[1;33m*\u001b[0m\u001b[1;33m(\u001b[0m\u001b[0mb\u001b[0m\u001b[1;33m+\u001b[0m\u001b[0mc\u001b[0m\u001b[1;33m-\u001b[0m\u001b[0ma\u001b[0m\u001b[1;33m)\u001b[0m\u001b[1;33m*\u001b[0m\u001b[0mx1\u001b[0m \u001b[1;33m+\u001b[0m \u001b[0mb\u001b[0m\u001b[1;33m*\u001b[0m\u001b[1;33m(\u001b[0m\u001b[0mc\u001b[0m\u001b[1;33m+\u001b[0m\u001b[0ma\u001b[0m\u001b[1;33m-\u001b[0m\u001b[0mb\u001b[0m\u001b[1;33m)\u001b[0m\u001b[1;33m*\u001b[0m\u001b[0mx2\u001b[0m \u001b[1;33m+\u001b[0m \u001b[0mc\u001b[0m\u001b[1;33m*\u001b[0m\u001b[1;33m(\u001b[0m\u001b[0ma\u001b[0m\u001b[1;33m+\u001b[0m\u001b[0mb\u001b[0m\u001b[1;33m-\u001b[0m\u001b[0mc\u001b[0m\u001b[1;33m)\u001b[0m\u001b[1;33m*\u001b[0m\u001b[0mx3\u001b[0m\u001b[1;33m)\u001b[0m \u001b[1;33m/\u001b[0m \u001b[0ms\u001b[0m\u001b[1;33m\u001b[0m\u001b[1;33m\u001b[0m\u001b[0m\n\u001b[0m\u001b[0;32m      8\u001b[0m \u001b[0mpy\u001b[0m \u001b[1;33m=\u001b[0m \u001b[1;33m(\u001b[0m\u001b[0ma\u001b[0m\u001b[1;33m*\u001b[0m\u001b[1;33m(\u001b[0m\u001b[0mb\u001b[0m\u001b[1;33m+\u001b[0m\u001b[0mc\u001b[0m\u001b[1;33m-\u001b[0m\u001b[0ma\u001b[0m\u001b[1;33m)\u001b[0m\u001b[1;33m*\u001b[0m\u001b[0my1\u001b[0m \u001b[1;33m+\u001b[0m \u001b[0mb\u001b[0m\u001b[1;33m*\u001b[0m\u001b[1;33m(\u001b[0m\u001b[0mc\u001b[0m\u001b[1;33m+\u001b[0m\u001b[0ma\u001b[0m\u001b[1;33m-\u001b[0m\u001b[0mb\u001b[0m\u001b[1;33m)\u001b[0m\u001b[1;33m*\u001b[0m\u001b[0my2\u001b[0m \u001b[1;33m+\u001b[0m \u001b[0mc\u001b[0m\u001b[1;33m*\u001b[0m\u001b[1;33m(\u001b[0m\u001b[0ma\u001b[0m\u001b[1;33m+\u001b[0m\u001b[0mb\u001b[0m\u001b[1;33m-\u001b[0m\u001b[0mc\u001b[0m\u001b[1;33m)\u001b[0m\u001b[1;33m*\u001b[0m\u001b[0my3\u001b[0m\u001b[1;33m)\u001b[0m \u001b[1;33m/\u001b[0m \u001b[0ms\u001b[0m\u001b[1;33m\u001b[0m\u001b[1;33m\u001b[0m\u001b[0m\n\u001b[0;32m      9\u001b[0m \u001b[0mar\u001b[0m \u001b[1;33m=\u001b[0m \u001b[0ma\u001b[0m\u001b[1;33m**\u001b[0m\u001b[1;36m0.5\u001b[0m\u001b[1;33m\u001b[0m\u001b[1;33m\u001b[0m\u001b[0m\n",
      "\u001b[1;31mZeroDivisionError\u001b[0m: float division by zero"
     ]
    }
   ],
   "source": [
    "print(\"Input three coordinate of the circle:\")\n",
    "x1, y1, x2, y2, x3, y3 = map(float, input().split())\n",
    "c = (x1-x2)**2 + (y1-y2)**2\n",
    "a = (x2-x3)**2 + (y2-y3)**2\n",
    "b = (x3-x1)**2 + (y3-y1)**2\n",
    "s = 2*(a*b + b*c + c*a) - (a*a + b*b + c*c) \n",
    "px = (a*(b+c-a)*x1 + b*(c+a-b)*x2 + c*(a+b-c)*x3) / s\n",
    "py = (a*(b+c-a)*y1 + b*(c+a-b)*y2 + c*(a+b-c)*y3) / s \n",
    "ar = a**0.5\n",
    "br = b**0.5\n",
    "cr = c**0.5 \n",
    "r = ar*br*cr / ((ar+br+cr)*(-ar+br+cr)*(ar-br+cr)*(ar+br-cr))**0.5\n",
    "print(\"Radius of the said circle:\")\n",
    "print(\"{:>.3f}\".format(r))\n",
    "print(\"Central coordinate (x, y) of the circle:\")\n",
    "print(\"{:>.3f}\".format(px),\"{:>.3f}\".format(py))\n"
   ]
  },
  {
   "cell_type": "markdown",
   "metadata": {},
   "source": [
    "## 40 Write a Python program to check whether a point (x,y) is in a triangle or not. There is a triangle formed by three points.\n"
   ]
  },
  {
   "cell_type": "code",
   "execution_count": null,
   "metadata": {},
   "outputs": [],
   "source": [
    "#print(\"Input x1,y1,x2,y2,x3,y3,xp,yp:\")\n",
    "x1,y1,x2,y2,x3,y3,xp,yp = map(float, input().split())\n",
    "c1 = (x2-x1)*(yp-y1)-(y2-y1)*(xp-x1)\n",
    "c2 = (x3-x2)*(yp-y2)-(y3-y2)*(xp-x2)\n",
    "c3 = (x1-x3)*(yp-y3)-(y1-y3)*(xp-x3)\n",
    "if (c1<0 and c2<0 and c3<0) or (c1>0 and c2>0 and c3>0):\n",
    "    print(\"The point is in the triangle.\")\n",
    "else:\n",
    "    print(\"The point is outside the triangle.\")"
   ]
  },
  {
   "cell_type": "markdown",
   "metadata": {},
   "source": [
    "## 41 Write a Python program to compute and print sum of two given integers (more than or equal to zero). If given integers or the sum have more than 80 digits, print \"overflow\".\n"
   ]
  },
  {
   "cell_type": "code",
   "execution_count": 1,
   "metadata": {},
   "outputs": [
    {
     "name": "stdout",
     "output_type": "stream",
     "text": [
      "Input first integer:\n",
      "10\n",
      "Input second integer:\n",
      "20\n",
      "Sum of the two integers:  30\n"
     ]
    }
   ],
   "source": [
    "print(\"Input first integer:\")\n",
    "x = int(input())\n",
    "print(\"Input second integer:\")\n",
    "y = int(input())\n",
    "if x >= 10 ** 80 or y >= 10 ** 80 or x + y >= 10 ** 80:\n",
    "    print(\"Overflow!\")\n",
    "else:\n",
    "    print(\"Sum of the two integers: \",x + y)\n"
   ]
  },
  {
   "cell_type": "code",
   "execution_count": 2,
   "metadata": {},
   "outputs": [
    {
     "name": "stdout",
     "output_type": "stream",
     "text": [
      "Input first integer:\n",
      "10\n",
      "Input second integer:\n",
      "20\n",
      "Sum of the two integers: 30\n"
     ]
    }
   ],
   "source": [
    "print(\"Input first integer:\")\n",
    "a=int(input())\n",
    "print(\"Input second integer:\")\n",
    "b=int(input())\n",
    "if len(str(a))>80 or len(str(b))>80 or len(str(a+b))>80:\n",
    "    print(\"Overflow\")\n",
    "else:\n",
    "    print(\"Sum of the two integers:\",a+b)"
   ]
  },
  {
   "cell_type": "markdown",
   "metadata": {},
   "source": [
    "## 42 Write a Python program that accepts six numbers as input and sorts them in descending order.\n"
   ]
  },
  {
   "cell_type": "code",
   "execution_count": 3,
   "metadata": {},
   "outputs": [
    {
     "name": "stdout",
     "output_type": "stream",
     "text": [
      "Input six integers:\n",
      " 10 20 11 55 10 33\n",
      "After sorting the said ntegers:\n",
      "55 33 20 11 10 10\n"
     ]
    }
   ],
   "source": [
    "print(\"Input six integers:\")\n",
    "nums = list(map(int, input().split()))\n",
    "nums.sort()\n",
    "nums.reverse()\n",
    "print(\"After sorting the said ntegers:\")\n",
    "print(*nums)"
   ]
  },
  {
   "cell_type": "code",
   "execution_count": 4,
   "metadata": {},
   "outputs": [
    {
     "name": "stdout",
     "output_type": "stream",
     "text": [
      "10\n",
      "20\n",
      "20\n",
      "14\n",
      "55\n",
      "5\n",
      "['55', '5', '20', '20', '14', '10']\n"
     ]
    }
   ],
   "source": [
    "print(sorted([input() for i in range(6)], reverse=True))\n"
   ]
  },
  {
   "cell_type": "markdown",
   "metadata": {},
   "source": [
    "## 43. Write a Python program to test whether two lines PQ and RS are parallel. The four points are P(x1, y1), Q(x2, y2), R(x3, y3), S(x4, y4).\n"
   ]
  },
  {
   "cell_type": "code",
   "execution_count": 6,
   "metadata": {},
   "outputs": [
    {
     "name": "stdout",
     "output_type": "stream",
     "text": [
      "Input x1,y1,x2,y2,x3,y3,xp,yp:\n",
      "10 20 10 30 10 20 40 50 \n",
      "PQ and RS are not parallel\n"
     ]
    }
   ],
   "source": [
    "print(\"Input x1,y1,x2,y2,x3,y3,xp,yp:\")\n",
    "x1, y1,x2, y2, x3, y3, x4, y4 = map(float, input().split())\n",
    "print('PQ and RS are parallel.' if abs((x2 - x1)*(y4 - y3) - (x4 - x3)*(y2 - y1)) < 1e-10 else 'PQ and RS are not parallel')\n"
   ]
  },
  {
   "cell_type": "markdown",
   "metadata": {},
   "source": [
    "## 46 Write a Python program to that reads a date (from 2016/1/1 to 2016/12/31) and prints the day of the date. Jan. 1, 2016, is Friday. Note that 2016 is a leap year.\n"
   ]
  },
  {
   "cell_type": "code",
   "execution_count": 8,
   "metadata": {},
   "outputs": [
    {
     "name": "stdout",
     "output_type": "stream",
     "text": [
      "Input month and date (separated by a single space):\n",
      "10 10\n",
      "Name of the date:  Monday\n"
     ]
    }
   ],
   "source": [
    "from datetime import date\n",
    "print(\"Input month and date (separated by a single space):\")\n",
    "m, d = map(int, input().split())\n",
    "weeks = {1:'Monday',2:'Tuesday',3:'Wednesday',4:'Thursday',5:'Friday',6:'Saturday',7:'Sunday'}\n",
    "w = date.isoweekday(date(2016, m, d))\n",
    "print(\"Name of the date: \",weeks[w])\n"
   ]
  },
  {
   "cell_type": "markdown",
   "metadata": {},
   "source": [
    "## 47 Write a Python program which reads a text (only alphabetical characters and spaces.) and prints two words. The first one is the word which is arise most frequently in the text. The second one is the word which has the maximum number of letters.\n"
   ]
  },
  {
   "cell_type": "code",
   "execution_count": 9,
   "metadata": {},
   "outputs": [
    {
     "name": "stdout",
     "output_type": "stream",
     "text": [
      "Input a text in a line.\n",
      "nouran\n",
      "\n",
      "Most frequent text and the word which has the maximum number of letters.\n",
      "nouran nouran\n"
     ]
    }
   ],
   "source": [
    "import collections\n",
    "print(\"Input a text in a line.\")\n",
    "text_list = list(map(str, input().split()))\n",
    "sc = collections.Counter(text_list)\n",
    "common_word = sc.most_common()[0][0]\n",
    "max_char = \"\"\n",
    "for s in text_list:\n",
    "    if len(max_char) < len(s):\n",
    "        max_char = s\n",
    "print(\"\\nMost frequent text and the word which has the maximum number of letters.\")\n",
    "print(common_word, max_char)\n"
   ]
  },
  {
   "cell_type": "markdown",
   "metadata": {},
   "source": [
    "## 50 Write a Python program to replace a string \"Python\" with \"Java\" and \"Java\" with \"Python\" in a given string.\n"
   ]
  },
  {
   "cell_type": "code",
   "execution_count": 10,
   "metadata": {},
   "outputs": [
    {
     "name": "stdout",
     "output_type": "stream",
     "text": [
      "Input a text with two words \"Python\" and \"Java\" : python java\n"
     ]
    }
   ],
   "source": [
    "n = input('Input a text with two words \"Python\" and \"Java\" : ')\n",
    "new = n.split()\n",
    "for i in new:\n",
    "    if i=='Python':\n",
    "        new[new.index(i)] = 'java'\n",
    "    elif i=='Java':\n",
    "        new[new.index(i)] = 'python'\n",
    "        result = ' '.join(new)\n",
    "        print(result)"
   ]
  },
  {
   "cell_type": "markdown",
   "metadata": {},
   "source": [
    "## 51 Write a Python program to find the difference between the largest integer and the smallest integer which are created by 8 numbers from 0 to 9. The number that can be rearranged shall start with 0 as in 00135668. \n"
   ]
  },
  {
   "cell_type": "code",
   "execution_count": 11,
   "metadata": {},
   "outputs": [
    {
     "name": "stdout",
     "output_type": "stream",
     "text": [
      "Input an integer created by 8 numbers from 0 to 9.:\n",
      "01234565\n",
      "Difference between the largest and the smallest integer from the given integer:\n",
      "64308654\n"
     ]
    }
   ],
   "source": [
    "print(\"Input an integer created by 8 numbers from 0 to 9.:\")\n",
    "num = list(input())\n",
    "print(\"Difference between the largest and the smallest integer from the given integer:\")\n",
    "print(int(\"\".join(sorted(num,reverse=True))) - int(\"\".join(sorted(num))))\n"
   ]
  },
  {
   "cell_type": "markdown",
   "metadata": {},
   "source": [
    "## VP to get the prime number\n"
   ]
  },
  {
   "cell_type": "code",
   "execution_count": 12,
   "metadata": {},
   "outputs": [
    {
     "data": {
      "text/plain": [
       "True"
      ]
     },
     "execution_count": 12,
     "metadata": {},
     "output_type": "execute_result"
    }
   ],
   "source": [
    "import timeit\n",
    "def is_prime(n):\n",
    "    for i in range(2, int(n**(1/2))+1):\n",
    "        if n%i == 0:\n",
    "            return False\n",
    "    return True\n",
    "is_prime(19)"
   ]
  },
  {
   "cell_type": "markdown",
   "metadata": {},
   "source": [
    "## 52 Write a Python program to compute the sum of first n given prime numbers. \n"
   ]
  },
  {
   "cell_type": "code",
   "execution_count": null,
   "metadata": {},
   "outputs": [
    {
     "name": "stdout",
     "output_type": "stream",
     "text": [
      "Input a number (n≤10000) to compute the sum:(0 to exit)\n",
      "999\n",
      "Sum of first 999 prime numbers:\n",
      "3674994\n",
      "5555\n",
      "Sum of first 5555 prime numbers:\n",
      "143086552\n",
      "121254\n",
      "Sum of first 121254 prime numbers:\n",
      "498682193\n",
      "10000000\n",
      "Sum of first 10000000 prime numbers:\n",
      "498682193\n"
     ]
    }
   ],
   "source": [
    "MAX = 105000\n",
    "print(\"Input a number (n≤10000) to compute the sum:(0 to exit)\") \n",
    "is_prime = [True for _ in range(MAX)]\n",
    "is_prime[0] = is_prime[1] = False\n",
    "for i in range(2, int(MAX ** (1 / 2)) + 1):\n",
    "  if is_prime[i]:\n",
    "    for j in range(i ** 2, MAX, i):\n",
    "      is_prime[j] = False \n",
    "primes = [i for i in range(MAX) if is_prime[i]] \n",
    "while True:\n",
    "  n = int(input())\n",
    "  if not n:\n",
    "    break\n",
    "  print(\"Sum of first\",n,\"prime numbers:\")\n",
    "  print(sum(primes[:n]))\n",
    "    "
   ]
  },
  {
   "cell_type": "markdown",
   "metadata": {},
   "source": [
    "## 54 if you draw a straight line on a plane, the plane is divided into two regions. For example, if you pull two straight lines in parallel, you get three areas, and if you draw vertically one to the other you get 4 areas.\n"
   ]
  },
  {
   "cell_type": "code",
   "execution_count": null,
   "metadata": {},
   "outputs": [],
   "source": [
    "while True:\n",
    "    print(\"Input number of straight lines (o to exit): \")\n",
    "    n=int(input())\n",
    "    if n<=0:\n",
    "        break\n",
    "    print(\"Number of regions:\") \n",
    "    print((n*n+n+2)//2)\n"
   ]
  },
  {
   "cell_type": "code",
   "execution_count": 1,
   "metadata": {},
   "outputs": [
    {
     "data": {
      "text/plain": [
       "16"
      ]
     },
     "execution_count": 1,
     "metadata": {},
     "output_type": "execute_result"
    }
   ],
   "source": [
    "def L(n):\n",
    "    if n == 1: \n",
    "        return 2\n",
    "    return L(n-1) + n\n",
    "L(5)"
   ]
  },
  {
   "cell_type": "code",
   "execution_count": 2,
   "metadata": {},
   "outputs": [
    {
     "name": "stdout",
     "output_type": "stream",
     "text": [
      " Input coordinates => 10 20 10 14\n"
     ]
    },
    {
     "ename": "IndexError",
     "evalue": "list index out of range",
     "output_type": "error",
     "traceback": [
      "\u001b[1;31m---------------------------------------------------------------------------\u001b[0m",
      "\u001b[1;31mIndexError\u001b[0m                                Traceback (most recent call last)",
      "\u001b[1;32m<ipython-input-2-6d27252b8393>\u001b[0m in \u001b[0;36m<module>\u001b[1;34m\u001b[0m\n\u001b[0;32m     18\u001b[0m         \u001b[0mprint\u001b[0m\u001b[1;33m(\u001b[0m\u001b[1;34m\" AB and CD are not orthogonal \"\u001b[0m\u001b[1;33m)\u001b[0m\u001b[1;33m\u001b[0m\u001b[1;33m\u001b[0m\u001b[0m\n\u001b[0;32m     19\u001b[0m \u001b[1;33m\u001b[0m\u001b[0m\n\u001b[1;32m---> 20\u001b[1;33m \u001b[0morthogonal\u001b[0m\u001b[1;33m(\u001b[0m\u001b[1;33m)\u001b[0m\u001b[1;33m\u001b[0m\u001b[1;33m\u001b[0m\u001b[0m\n\u001b[0m",
      "\u001b[1;32m<ipython-input-2-6d27252b8393>\u001b[0m in \u001b[0;36morthogonal\u001b[1;34m()\u001b[0m\n\u001b[0;32m      6\u001b[0m     \u001b[0mY_1\u001b[0m \u001b[1;33m=\u001b[0m \u001b[0mfloat\u001b[0m\u001b[1;33m(\u001b[0m\u001b[0minput_coordinates_of_points\u001b[0m\u001b[1;33m[\u001b[0m\u001b[1;36m3\u001b[0m\u001b[1;33m]\u001b[0m\u001b[1;33m)\u001b[0m \u001b[1;33m-\u001b[0m \u001b[0mfloat\u001b[0m\u001b[1;33m(\u001b[0m\u001b[0minput_coordinates_of_points\u001b[0m\u001b[1;33m[\u001b[0m\u001b[1;36m1\u001b[0m\u001b[1;33m]\u001b[0m\u001b[1;33m)\u001b[0m\u001b[1;33m\u001b[0m\u001b[1;33m\u001b[0m\u001b[0m\n\u001b[0;32m      7\u001b[0m \u001b[1;33m\u001b[0m\u001b[0m\n\u001b[1;32m----> 8\u001b[1;33m     \u001b[0mX_2\u001b[0m \u001b[1;33m=\u001b[0m \u001b[0mfloat\u001b[0m\u001b[1;33m(\u001b[0m\u001b[0minput_coordinates_of_points\u001b[0m\u001b[1;33m[\u001b[0m\u001b[1;36m6\u001b[0m\u001b[1;33m]\u001b[0m\u001b[1;33m)\u001b[0m \u001b[1;33m-\u001b[0m \u001b[0mfloat\u001b[0m\u001b[1;33m(\u001b[0m\u001b[0minput_coordinates_of_points\u001b[0m\u001b[1;33m[\u001b[0m\u001b[1;36m4\u001b[0m\u001b[1;33m]\u001b[0m\u001b[1;33m)\u001b[0m\u001b[1;33m\u001b[0m\u001b[1;33m\u001b[0m\u001b[0m\n\u001b[0m\u001b[0;32m      9\u001b[0m \u001b[1;33m\u001b[0m\u001b[0m\n\u001b[0;32m     10\u001b[0m     \u001b[0mY_2\u001b[0m \u001b[1;33m=\u001b[0m \u001b[0mfloat\u001b[0m\u001b[1;33m(\u001b[0m\u001b[0minput_coordinates_of_points\u001b[0m\u001b[1;33m[\u001b[0m\u001b[1;36m7\u001b[0m\u001b[1;33m]\u001b[0m\u001b[1;33m)\u001b[0m \u001b[1;33m-\u001b[0m \u001b[0mfloat\u001b[0m\u001b[1;33m(\u001b[0m\u001b[0minput_coordinates_of_points\u001b[0m\u001b[1;33m[\u001b[0m\u001b[1;36m5\u001b[0m\u001b[1;33m]\u001b[0m\u001b[1;33m)\u001b[0m\u001b[1;33m\u001b[0m\u001b[1;33m\u001b[0m\u001b[0m\n",
      "\u001b[1;31mIndexError\u001b[0m: list index out of range"
     ]
    }
   ],
   "source": [
    "def orthogonal():\n",
    "    input_coordinates_of_points = (input(\" Input coordinates => \")).split(\" \")\n",
    "\n",
    "    X_1 = float(input_coordinates_of_points[2]) - float(input_coordinates_of_points[0])\n",
    "\n",
    "    Y_1 = float(input_coordinates_of_points[3]) - float(input_coordinates_of_points[1])\n",
    "\n",
    "    X_2 = float(input_coordinates_of_points[6]) - float(input_coordinates_of_points[4])\n",
    "\n",
    "    Y_2 = float(input_coordinates_of_points[7]) - float(input_coordinates_of_points[5])\n",
    "\n",
    "    k_1 = Y_1 / X_1\n",
    "    k_2 = Y_2 / X_2\n",
    "\n",
    "    if k_1 * k_2 == -1:\n",
    "        print(\" AB and CD are orthogonal \")\n",
    "    else:\n",
    "        print(\" AB and CD are not orthogonal \")\n",
    "\n",
    "orthogonal()"
   ]
  },
  {
   "cell_type": "markdown",
   "metadata": {},
   "source": [
    "## 58 Write a Python program to restore the original string by entering the compressed string with this rule. However, the # character does not appear in the restored character string. \n"
   ]
  },
  {
   "cell_type": "code",
   "execution_count": 3,
   "metadata": {},
   "outputs": [
    {
     "name": "stdout",
     "output_type": "stream",
     "text": [
      "Original text: XY#6Z1#4023\n",
      "XYZZZZZZ1000023\n",
      "Original text: #39+1=1#30\n",
      "999+1=1000\n"
     ]
    }
   ],
   "source": [
    "def restore_original_str(a1):\n",
    "  result = \"\"\n",
    "  ind = 0\n",
    "  end = len(a1)\n",
    "  while ind < end:\n",
    "    if a1[ind] == \"#\":\n",
    "      result += a1[ind + 2] * int(a1[ind + 1])\n",
    "      ind += 3\n",
    "    else:\n",
    "      result += a1[ind]\n",
    "      ind += 1\n",
    "  return result\n",
    "print(\"Original text:\",\"XY#6Z1#4023\")\n",
    "print(restore_original_str(\"XY#6Z1#4023\"))\n",
    "print(\"Original text:\",\"#39+1=1#30\")\n",
    "print(restore_original_str(\"#39+1=1#30\"))\n"
   ]
  },
  {
   "cell_type": "markdown",
   "metadata": {},
   "source": [
    "## 59 Write a Python program that compute the area of the polygon . The vertices have the names vertex 1, vertex 2, vertex 3, ... vertex n according to the order of edge connections.\n"
   ]
  },
  {
   "cell_type": "code",
   "execution_count": 4,
   "metadata": {},
   "outputs": [
    {
     "name": "stdout",
     "output_type": "stream",
     "text": [
      "0.5\n"
     ]
    }
   ],
   "source": [
    "def poly_area(c):\n",
    "  add = []\n",
    "  for i in range(0, (len(c) - 2), 2):\n",
    "    add.append(c[i] * c[i + 3] - c[i + 1] * c[i + 2])\n",
    "    add.append(c[len(c) - 2] * c[1] - c[len(c) - 1] * c[0])\n",
    "    return abs(sum(add) / 2)\n",
    "\n",
    "print(poly_area([1, 0, 0, 0, 1, 1, 2, 0, -1, 1]))"
   ]
  },
  {
   "cell_type": "markdown",
   "metadata": {},
   "source": [
    "## 60 Write a Python program to cut out words of 3 to 6 characters length from a given sentence not more than 1024 characters. \n"
   ]
  },
  {
   "cell_type": "code",
   "execution_count": 5,
   "metadata": {},
   "outputs": [
    {
     "name": "stdout",
     "output_type": "stream",
     "text": [
      "Input a sentence (1024 characters. max.)\n",
      "ahmed,elsayed,ebrahim\n",
      "3 to 6 characters length of words:\n",
      "ahmed\n"
     ]
    }
   ],
   "source": [
    "print(\"Input a sentence (1024 characters. max.)\")\n",
    "yy = input()\n",
    "yy = yy.replace(\",\", \" \")\n",
    "yy = yy.replace(\".\", \" \")\n",
    "print(\"3 to 6 characters length of words:\")\n",
    "print(*[y for y in yy.split() if 3 <= len(y) <= 6])\n"
   ]
  },
  {
   "cell_type": "code",
   "execution_count": null,
   "metadata": {},
   "outputs": [],
   "source": []
  }
 ],
 "metadata": {
  "kernelspec": {
   "display_name": "Python 3",
   "language": "python",
   "name": "python3"
  },
  "language_info": {
   "codemirror_mode": {
    "name": "ipython",
    "version": 3
   },
   "file_extension": ".py",
   "mimetype": "text/x-python",
   "name": "python",
   "nbconvert_exporter": "python",
   "pygments_lexer": "ipython3",
   "version": "3.7.4"
  }
 },
 "nbformat": 4,
 "nbformat_minor": 2
}
