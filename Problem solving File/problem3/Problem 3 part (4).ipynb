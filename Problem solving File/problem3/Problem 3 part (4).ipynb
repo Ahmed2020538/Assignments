{
 "cells": [
  {
   "cell_type": "markdown",
   "metadata": {},
   "source": [
    "## 62. Write a Python program to find the number of combinations that satisfy p + q + r + s = n where n is a given number <= 4000 and p, q, r, s in the range of 0 to 1000. \n"
   ]
  },
  {
   "cell_type": "code",
   "execution_count": null,
   "metadata": {},
   "outputs": [],
   "source": [
    "from collections import Counter\n",
    "print(\"Input a positive integer: (ctrl+d to exit)\") \n",
    "pair_dict = Counter()\n",
    "for i in range(2001):\n",
    "  pair_dict[i] = min(i, 2000 - i) + 1 \n",
    " \n",
    "while True:\n",
    "  try:\n",
    "    n = int(input())\n",
    "    ans = 0\n",
    "    for i in range(n + 1):\n",
    "      ans += pair_dict[i] * pair_dict[n - i]\n",
    "    print(\"Number of combinations of a,b,c,d:\",ans) \n",
    "  except EOFError:\n",
    "    break\n"
   ]
  },
  {
   "cell_type": "markdown",
   "metadata": {},
   "source": [
    "## 63. Write a Python program which adds up columns and rows of given table as shown in the specified figure.\n"
   ]
  },
  {
   "cell_type": "code",
   "execution_count": null,
   "metadata": {},
   "outputs": [
    {
     "name": "stdout",
     "output_type": "stream",
     "text": [
      "Input number of rows/columns (0 to exit)\n"
     ]
    }
   ],
   "source": [
    "while True:\n",
    "    print(\"Input number of rows/columns (0 to exit)\")\n",
    "    n = int(input())\n",
    "    if n == 0:\n",
    "        break\n",
    "    print(\"Input cell value:\")\n",
    "    x = []\n",
    "    for i in range(n):\n",
    "        x.append([int(num) for num in input().split()])\n",
    "\n",
    "    for i in range(n):\n",
    "        sum = 0\n",
    "        for j in range(n):\n",
    "            sum += x[i][j]\n",
    "        x[i].append(sum)\n",
    "\n",
    "    x.append([])\n",
    "    for i in range(n + 1):\n",
    "        sum = 0\n",
    "        for j in range(n):\n",
    "            sum += x[j][i]\n",
    "        x[n].append(sum)\n",
    "    print(\"Result:\")\n",
    "    for i in range(n + 1):\n",
    "        for j in range(n + 1):\n",
    "            print('{0:>5}'.format(x[i][j]), end=\"\")\n",
    "        print()"
   ]
  },
  {
   "cell_type": "markdown",
   "metadata": {},
   "source": [
    "## 64 Given a list of numbers and a number k, write a Python program to check whether the sum of any two numbers from the list is equal to k or not.\n"
   ]
  },
  {
   "cell_type": "code",
   "execution_count": 24,
   "metadata": {},
   "outputs": [
    {
     "name": "stdout",
     "output_type": "stream",
     "text": [
      "True\n"
     ]
    }
   ],
   "source": [
    "def check_sum(nums, k):   \n",
    "    for i in range(len(nums)):\n",
    "        for j in range(i+1, len(nums)):\n",
    "            if nums[i] + nums[j] == k:\n",
    "                return True\n",
    "    return False\n",
    "print(check_sum([12, 5, 0, 5], 10))"
   ]
  },
  {
   "cell_type": "code",
   "execution_count": 23,
   "metadata": {},
   "outputs": [
    {
     "ename": "TypeError",
     "evalue": "'list' object is not callable",
     "output_type": "error",
     "traceback": [
      "\u001b[1;31m---------------------------------------------------------------------------\u001b[0m",
      "\u001b[1;31mTypeError\u001b[0m                                 Traceback (most recent call last)",
      "\u001b[1;32m<ipython-input-23-e35e0812e65e>\u001b[0m in \u001b[0;36m<module>\u001b[1;34m\u001b[0m\n\u001b[0;32m     12\u001b[0m     \u001b[1;32mreturn\u001b[0m \u001b[0many\u001b[0m\u001b[1;33m(\u001b[0m\u001b[0mfilter\u001b[0m\u001b[1;33m(\u001b[0m\u001b[1;32mlambda\u001b[0m \u001b[0mx\u001b[0m\u001b[1;33m:\u001b[0m \u001b[0msum\u001b[0m\u001b[1;33m(\u001b[0m\u001b[0mx\u001b[0m\u001b[1;33m)\u001b[0m \u001b[1;33m==\u001b[0m \u001b[0mk\u001b[0m\u001b[1;33m,\u001b[0m \u001b[0mcomb\u001b[0m\u001b[1;33m)\u001b[0m\u001b[1;33m)\u001b[0m\u001b[1;33m\u001b[0m\u001b[1;33m\u001b[0m\u001b[0m\n\u001b[0;32m     13\u001b[0m \u001b[1;33m\u001b[0m\u001b[0m\n\u001b[1;32m---> 14\u001b[1;33m \u001b[0mprint\u001b[0m\u001b[1;33m(\u001b[0m\u001b[0msum_of_two\u001b[0m\u001b[1;33m(\u001b[0m\u001b[0mlst\u001b[0m\u001b[1;33m,\u001b[0m \u001b[0mk\u001b[0m\u001b[1;33m)\u001b[0m\u001b[1;33m)\u001b[0m\u001b[1;33m\u001b[0m\u001b[1;33m\u001b[0m\u001b[0m\n\u001b[0m\u001b[0;32m     15\u001b[0m \u001b[0mprint\u001b[0m\u001b[1;33m(\u001b[0m\u001b[0msum_of_two\u001b[0m\u001b[1;33m(\u001b[0m\u001b[0mlst2\u001b[0m\u001b[1;33m,\u001b[0m\u001b[0mk2\u001b[0m\u001b[1;33m)\u001b[0m\u001b[1;33m)\u001b[0m\u001b[1;33m\u001b[0m\u001b[1;33m\u001b[0m\u001b[0m\n\u001b[0;32m     16\u001b[0m \u001b[1;33m\u001b[0m\u001b[0m\n",
      "\u001b[1;32m<ipython-input-23-e35e0812e65e>\u001b[0m in \u001b[0;36msum_of_two\u001b[1;34m(lst, k)\u001b[0m\n\u001b[0;32m      7\u001b[0m \u001b[1;33m\u001b[0m\u001b[0m\n\u001b[0;32m      8\u001b[0m \u001b[1;32mdef\u001b[0m \u001b[0msum_of_two\u001b[0m\u001b[1;33m(\u001b[0m\u001b[0mlst\u001b[0m\u001b[1;33m,\u001b[0m \u001b[0mk\u001b[0m\u001b[1;33m)\u001b[0m\u001b[1;33m:\u001b[0m\u001b[1;33m\u001b[0m\u001b[1;33m\u001b[0m\u001b[0m\n\u001b[1;32m----> 9\u001b[1;33m     \u001b[0mcomb\u001b[0m \u001b[1;33m=\u001b[0m \u001b[0mlist\u001b[0m\u001b[1;33m(\u001b[0m\u001b[0mcombinations\u001b[0m\u001b[1;33m(\u001b[0m\u001b[0mlst\u001b[0m\u001b[1;33m,\u001b[0m \u001b[1;36m2\u001b[0m\u001b[1;33m)\u001b[0m\u001b[1;33m)\u001b[0m\u001b[1;33m\u001b[0m\u001b[1;33m\u001b[0m\u001b[0m\n\u001b[0m\u001b[0;32m     10\u001b[0m \u001b[1;31m# alternative\u001b[0m\u001b[1;33m\u001b[0m\u001b[1;33m\u001b[0m\u001b[1;33m\u001b[0m\u001b[0m\n\u001b[0;32m     11\u001b[0m \u001b[1;31m# return bool(len([i for i in comb if sum(i) == k]))\u001b[0m\u001b[1;33m\u001b[0m\u001b[1;33m\u001b[0m\u001b[1;33m\u001b[0m\u001b[0m\n",
      "\u001b[1;31mTypeError\u001b[0m: 'list' object is not callable"
     ]
    }
   ],
   "source": [
    "from itertools import combinations\n",
    "\n",
    "lst = [1, 15, 11, 5]\n",
    "lst2 = [1, 1, 0]\n",
    "k = 22\n",
    "k2 = 0\n",
    "\n",
    "def sum_of_two(lst, k):\n",
    "    comb = list(combinations(lst, 2))\n",
    "# alternative\n",
    "# return bool(len([i for i in comb if sum(i) == k]))\n",
    "    return any(filter(lambda x: sum(x) == k, comb))\n",
    "\n",
    "print(sum_of_two(lst, k))\n",
    "print(sum_of_two(lst2,k2))\n",
    "            "
   ]
  },
  {
   "cell_type": "markdown",
   "metadata": {},
   "source": [
    "## 65 Write a Python program to find the longest word in set of words which is a subsequence of a given string.\n"
   ]
  },
  {
   "cell_type": "code",
   "execution_count": 22,
   "metadata": {},
   "outputs": [
    {
     "name": "stdout",
     "output_type": "stream",
     "text": [
      "Gren\n",
      "exercises\n"
     ]
    }
   ],
   "source": [
    "def longest_word_sequence(s, d):\n",
    "\tlong_word = \"\"\n",
    "\t\n",
    "\tfor word in d: \n",
    "\t\ttemp_word = ''\t\n",
    "\t\tj = 0\n",
    "\t\tfor letter in word: \n",
    "\n",
    "\t\t\tfor i in range(j, len(s)): \n",
    "\n",
    "\t\t\t\tif letter == s[i]: \n",
    "\t\t\t\t\ttemp_word += letter \n",
    "\t\t\t\t\tj = i                  \n",
    "\t\t\t\t\tbreak\n",
    "\t\t\t\telse:\t\t\t\t\n",
    "\t\t\t\t\tcontinue        \n",
    "\n",
    "\t\tif (temp_word) == word and len(long_word) < len(temp_word):\n",
    "\t\t\tlong_word = temp_word\n",
    "\n",
    "\t\telse:\n",
    "\t\t\tcontinue\n",
    "\treturn long_word\n",
    "\n",
    "\n",
    "print(longest_word_sequence(\"Green\", {\"Gn\", \"Gren\", \"ree\", \"en\"}))\n",
    "print(longest_word_sequence(\"pythonexercises\", {\"py\", \"ex\", \"exercises\"}))\n"
   ]
  },
  {
   "cell_type": "markdown",
   "metadata": {},
   "source": [
    "## 66 Write a Python program to check whether a number is \"happy\" or not.\n"
   ]
  },
  {
   "cell_type": "code",
   "execution_count": 21,
   "metadata": {},
   "outputs": [
    {
     "name": "stdout",
     "output_type": "stream",
     "text": [
      "True\n",
      "True\n"
     ]
    }
   ],
   "source": [
    "def is_Happy_num(num):       \n",
    "    while num != 1:\n",
    "        \n",
    "        num = str(num)\n",
    "        sum_square = 0\n",
    "        \n",
    "        for i in num:\n",
    "            sum_square += int(i) ** 2\n",
    "        \n",
    "        num = sum_square\n",
    "    \n",
    "    return True\n",
    "\n",
    "print(is_Happy_num(7))\n",
    "print(is_Happy_num(932))\n"
   ]
  },
  {
   "cell_type": "markdown",
   "metadata": {},
   "source": [
    "## 67 Write a Python program to find and print the first 10 happy numbers.\n"
   ]
  },
  {
   "cell_type": "code",
   "execution_count": 20,
   "metadata": {},
   "outputs": [
    {
     "name": "stdout",
     "output_type": "stream",
     "text": [
      "[1, 7, 10, 13, 19, 23, 28, 31, 32, 44]\n"
     ]
    }
   ],
   "source": [
    "def happy_numbers(n):\n",
    "    past = set()\t\t\t\n",
    "    while n != 1:\n",
    "        n = sum(int(i)**2 for i in str(n))\n",
    "        if n in past:\n",
    "            return False\n",
    "        past.add(n)\n",
    "    return True\n",
    "print([x for x in range(500) if happy_numbers(x)][:10])"
   ]
  },
  {
   "cell_type": "markdown",
   "metadata": {},
   "source": [
    "## 68 Write a Python program to count the number of prime numbers less than a given non-negative number.\n"
   ]
  },
  {
   "cell_type": "code",
   "execution_count": 19,
   "metadata": {},
   "outputs": [
    {
     "name": "stdout",
     "output_type": "stream",
     "text": [
      "4\n",
      "25\n"
     ]
    }
   ],
   "source": [
    "def count_Primes_nums(n):\n",
    "    ctr = 0\n",
    "    \n",
    "    for num in range(n):\n",
    "        if num <= 1:\n",
    "            continue\n",
    "        for i in range(2, num):\n",
    "            if (num % i) == 0:\n",
    "                break\n",
    "        else:\n",
    "            ctr += 1\n",
    "\n",
    "    return ctr\n",
    "\n",
    "print(count_Primes_nums(10))\n",
    "print(count_Primes_nums(100))"
   ]
  },
  {
   "cell_type": "code",
   "execution_count": 17,
   "metadata": {},
   "outputs": [
    {
     "name": "stdout",
     "output_type": "stream",
     "text": [
      "Enter a number: 20\n"
     ]
    },
    {
     "ename": "TypeError",
     "evalue": "'list' object is not callable",
     "output_type": "error",
     "traceback": [
      "\u001b[1;31m---------------------------------------------------------------------------\u001b[0m",
      "\u001b[1;31mTypeError\u001b[0m                                 Traceback (most recent call last)",
      "\u001b[1;32m<ipython-input-17-ef8940520958>\u001b[0m in \u001b[0;36m<module>\u001b[1;34m\u001b[0m\n\u001b[0;32m      9\u001b[0m             \u001b[0ml\u001b[0m\u001b[1;33m.\u001b[0m\u001b[0mappend\u001b[0m\u001b[1;33m(\u001b[0m\u001b[0mi\u001b[0m\u001b[1;33m)\u001b[0m\u001b[1;33m\u001b[0m\u001b[1;33m\u001b[0m\u001b[0m\n\u001b[0;32m     10\u001b[0m         \u001b[1;32mif\u001b[0m \u001b[0mlen\u001b[0m\u001b[1;33m(\u001b[0m\u001b[0ml\u001b[0m\u001b[1;33m)\u001b[0m\u001b[1;33m==\u001b[0m\u001b[1;36m2\u001b[0m \u001b[1;32mand\u001b[0m \u001b[0mnewnum\u001b[0m\u001b[1;33m==\u001b[0m\u001b[0ml\u001b[0m\u001b[1;33m[\u001b[0m\u001b[1;36m1\u001b[0m\u001b[1;33m]\u001b[0m\u001b[1;33m:\u001b[0m\u001b[1;33m\u001b[0m\u001b[1;33m\u001b[0m\u001b[0m\n\u001b[1;32m---> 11\u001b[1;33m             \u001b[0mprint\u001b[0m\u001b[1;33m(\u001b[0m\u001b[0mlist\u001b[0m\u001b[1;33m(\u001b[0m\u001b[1;33m{\u001b[0m\u001b[0mnewnum\u001b[0m\u001b[1;33m}\u001b[0m\u001b[1;33m)\u001b[0m\u001b[1;33m)\u001b[0m\u001b[1;33m\u001b[0m\u001b[1;33m\u001b[0m\u001b[0m\n\u001b[0m",
      "\u001b[1;31mTypeError\u001b[0m: 'list' object is not callable"
     ]
    }
   ],
   "source": [
    "num=int(input(\"Enter a number: \"))\n",
    "\n",
    "for j in range(0,num):\n",
    "    newnum=num-j\n",
    "#print(newnum)\n",
    "    l=[]\n",
    "    for i in range(1,newnum+1):\n",
    "        if newnum%i==0:\n",
    "            l.append(i)\n",
    "        if len(l)==2 and newnum==l[1]:\n",
    "            print(list({newnum}))"
   ]
  },
  {
   "cell_type": "markdown",
   "metadata": {},
   "source": [
    "## 69 Write a Python program to check if two given strings are isomorphic to each other or not.\n"
   ]
  },
  {
   "cell_type": "code",
   "execution_count": 16,
   "metadata": {},
   "outputs": [
    {
     "name": "stdout",
     "output_type": "stream",
     "text": [
      "Enter first word: mido\n",
      "Enter second word: ali\n",
      "\n",
      "\n",
      "False\n"
     ]
    }
   ],
   "source": [
    "word1=input(\"Enter first word: \")\n",
    "word2=input(\"Enter second word: \")\n",
    "\n",
    "dict1={}\n",
    "dict2={}\n",
    "\n",
    "for ind,letter in enumerate(word1):\n",
    "    if letter not in dict1:\n",
    "        dict1[ind]=word1.count(letter)\n",
    "#print(dict1)\n",
    "\n",
    "print()\n",
    "for ind,letter in enumerate(word2):\n",
    "    if letter not in dict2:\n",
    "        dict2[ind]=word2.count(letter)\n",
    "#print(dict2)\n",
    "\n",
    "print()\n",
    "\n",
    "if dict1==dict2:\n",
    "    print(\"True\")\n",
    "else:\n",
    "    print(\"False\")"
   ]
  },
  {
   "cell_type": "code",
   "execution_count": 15,
   "metadata": {},
   "outputs": [
    {
     "data": {
      "text/plain": [
       "'abc'"
      ]
     },
     "execution_count": 15,
     "metadata": {},
     "output_type": "execute_result"
    }
   ],
   "source": [
    "str1 = \"abcdefgh\"\n",
    "str2 = \"abcefgh\"\n",
    "\n",
    "def longest_prefix(str1, str2):\n",
    "    touple_res = zip(str1, str2)\n",
    "    return ''.join(i[0] for i in touple_res if i[0] == i[1])\n",
    "\n",
    "    print(longest_prefix(str1, str2))\n",
    "longest_prefix(\"abcdefgh\", \"abcefgh\")"
   ]
  },
  {
   "cell_type": "markdown",
   "metadata": {},
   "source": [
    "## 72 Write a Python program to reverse only the vowels of a given string.\n"
   ]
  },
  {
   "cell_type": "code",
   "execution_count": 14,
   "metadata": {},
   "outputs": [
    {
     "name": "stdout",
     "output_type": "stream",
     "text": [
      "Enter 1st word: ahmed\n",
      "ehm#d\n",
      "ehmad\n"
     ]
    }
   ],
   "source": [
    "word=input(\"Enter 1st word: \")\n",
    "\n",
    "index=[]\n",
    "letters=[]\n",
    "for ind,letter in enumerate(word):\n",
    "    if letter in \"aeiouAEIOU\":\n",
    "        index.append(ind)\n",
    "        letters.append(letter)\n",
    "        #print(index)\n",
    "        #print(letters)\n",
    "\n",
    "for i in range(len(word)):\n",
    "    if word[i] in \"aeiouAEIOU\":\n",
    "            word=word.replace(word[i],\"#\",1)\n",
    "#print(word)\n",
    "for i in range(len(letters)):\n",
    "    word=word.replace(\"#\",letters[-i-1], 1)\n",
    "    print(word)"
   ]
  },
  {
   "cell_type": "markdown",
   "metadata": {},
   "source": [
    "## 73 Write a Python program to remove the duplicate elements of a given array of numbers such that each element appear only once and return the new length of the given array.\n"
   ]
  },
  {
   "cell_type": "code",
   "execution_count": 13,
   "metadata": {},
   "outputs": [
    {
     "name": "stdout",
     "output_type": "stream",
     "text": [
      "{1, 3, 5, 7, 10}\n",
      "5\n"
     ]
    }
   ],
   "source": [
    "list=[1,3,3,3,3,5,7,10,10]\n",
    "print(set(list))\n",
    "print(len(set(list)))"
   ]
  },
  {
   "cell_type": "code",
   "execution_count": 12,
   "metadata": {},
   "outputs": [
    {
     "name": "stdout",
     "output_type": "stream",
     "text": [
      "5\n",
      "4\n"
     ]
    }
   ],
   "source": [
    "def remove_duplicates(nums):\n",
    "    for i in range (len(nums)-1, 0, -1):\n",
    "        if nums[i] == nums[i-1]:\n",
    "            del nums[i-1]\n",
    "    return len(nums)\n",
    "\n",
    "print(remove_duplicates([0,0,1,1,2,2,3,3,4,4,4]))\n",
    "print(remove_duplicates([1, 2, 2, 3, 4, 4]))"
   ]
  },
  {
   "cell_type": "markdown",
   "metadata": {},
   "source": [
    "## 74 Write a Python program to calculate the maximum profit from selling and buying values of stock. An array of numbers represent the stock prices in chronological order.\n",
    "## For example, given [8, 10, 7, 5, 7, 15], the function will return 10, since the buying value of the stock is 5 dollars and sell value is 15 dollars."
   ]
  },
  {
   "cell_type": "code",
   "execution_count": 11,
   "metadata": {},
   "outputs": [
    {
     "name": "stdout",
     "output_type": "stream",
     "text": [
      "10\n",
      "7\n",
      "0\n"
     ]
    }
   ],
   "source": [
    "def buy_and_sell(stock_price):\n",
    "    max_profit_val, current_max_val = 0, 0 \n",
    "    for price in reversed(stock_price):                       \n",
    "        current_max_val = max(current_max_val, price)          \n",
    "        potential_profit = current_max_val - price          \n",
    "        max_profit_val = max(potential_profit, max_profit_val)\n",
    "\n",
    "    return max_profit_val\n",
    "\n",
    "print(buy_and_sell([8, 10, 7, 5, 7, 15]))\n",
    "print(buy_and_sell([1, 2, 8, 1])) #7\n",
    "print(buy_and_sell([]))\n"
   ]
  },
  {
   "cell_type": "code",
   "execution_count": 10,
   "metadata": {},
   "outputs": [
    {
     "name": "stdout",
     "output_type": "stream",
     "text": [
      "10\n"
     ]
    }
   ],
   "source": [
    "stock_prices = [8, 10, 7, 5, 7, 15]\n",
    "stock_prices.sort()\n",
    "print(stock_prices[-1] - stock_prices[0])\n"
   ]
  },
  {
   "cell_type": "markdown",
   "metadata": {},
   "source": [
    "## 75 Write a Python program to remove all instances of a given value from a given array of integers and find the length of the new array.\n"
   ]
  },
  {
   "cell_type": "code",
   "execution_count": 9,
   "metadata": {},
   "outputs": [
    {
     "name": "stdout",
     "output_type": "stream",
     "text": [
      "6\n",
      "0\n",
      "5\n",
      "0\n"
     ]
    }
   ],
   "source": [
    " def remove_element(array_nums, val):\n",
    "    i = 0\n",
    "    while i < len(array_nums):\n",
    "        if array_nums[i] == val:\n",
    "            array_nums.remove(array_nums[i])\n",
    "\n",
    "        else:\n",
    "            i += 1\n",
    "\n",
    "    return len(array_nums)\n",
    "print(remove_element([1, 2, 3, 4, 5, 6, 7, 5], 5))\n",
    "print(remove_element([10,10,10,10,10], 10)) \n",
    "print(remove_element([10,10,10,10,10], 20)) \n",
    "print(remove_element([], 1))\n"
   ]
  },
  {
   "cell_type": "markdown",
   "metadata": {},
   "source": [
    "## 76 Write a Python program to find the starting and ending position of a given value in a given array of integers, sorted in ascending order.\n"
   ]
  },
  {
   "cell_type": "code",
   "execution_count": 8,
   "metadata": {},
   "outputs": [
    {
     "name": "stdout",
     "output_type": "stream",
     "text": [
      "[0, 5]\n",
      "[0, 0]\n",
      "[0, 3]\n"
     ]
    }
   ],
   "source": [
    "def search_Range(array_nums, target_val):\n",
    "  result_arra = []\n",
    "  start_pos = 0\n",
    "  end_pos = 0\n",
    "  for i in range(len(array_nums)):\n",
    "      if target_val == array_nums[i] and start_pos == -1:\n",
    "          start_pos = i\n",
    "          end_pos = i\n",
    "      elif target_val == array_nums[i] and start_pos != -1:\n",
    "          end_pos = i\n",
    "  result_arra.append(start_pos)\n",
    "  result_arra.append(end_pos)\n",
    "  return result_arra\n",
    "print(search_Range([5, 7, 7, 8, 8, 8], 8))\n",
    "print(search_Range([1, 3, 6, 9, 13, 14], 4))\n",
    "print(search_Range([5, 7, 7, 8, 10], 8))\n"
   ]
  },
  {
   "cell_type": "markdown",
   "metadata": {},
   "source": [
    "## 77 Write a Python program to find the maximum profit in one transaction i.e., buy one and sell one share of the stock from the given price value of the said array. You cannot sell a stock before you buy one.\n"
   ]
  },
  {
   "cell_type": "code",
   "execution_count": 7,
   "metadata": {},
   "outputs": [
    {
     "name": "stdout",
     "output_type": "stream",
     "text": [
      "35\n"
     ]
    }
   ],
   "source": [
    " def max_profit(stock_price):\n",
    "\tmax_profit_amt = 0\n",
    "\n",
    "\tfor i in range(len(stock_price)):\n",
    "\t\tprofit_amt = 0\n",
    "\t\tfor j in range(i+1, len(stock_price)):\n",
    "\t\t\tprofit_amt = stock_price[j] - stock_price[i]\n",
    "\t\t\tif  profit_amt > max_profit_amt:\n",
    "\t\t\t\tmax_profit_amt = profit_amt\n",
    "\treturn max_profit_amt\n",
    "\n",
    "print(max_profit([224, 236, 247, 258, 259, 225]))\n"
   ]
  },
  {
   "cell_type": "markdown",
   "metadata": {},
   "source": [
    "## 78 Write a Python program to print a given N by M matrix of numbers line by line in forward > backwards > forward >... order.\n"
   ]
  },
  {
   "cell_type": "code",
   "execution_count": 6,
   "metadata": {},
   "outputs": [
    {
     "name": "stdout",
     "output_type": "stream",
     "text": [
      "1\n",
      "2\n",
      "3\n",
      "4\n",
      "8\n",
      "7\n",
      "6\n",
      "5\n",
      "0\n",
      "6\n",
      "2\n",
      "8\n",
      "2\n",
      "0\n",
      "3\n",
      "2\n"
     ]
    }
   ],
   "source": [
    " def print_matrix(nums):\n",
    "    flag = True \n",
    "    \n",
    "    for line in nums:\n",
    "\n",
    "        if flag == True: \n",
    "            i = 0\n",
    "            while i < len(line):\n",
    "                print(line[i])\n",
    "                i += 1\n",
    "            flag = False\n",
    "\n",
    "        else: \n",
    "            i = -1\n",
    "            while i > -1 * len(line) - 1:\n",
    "                print(line[i])\n",
    "                i = i - 1\n",
    "            flag = True\n",
    "print_matrix([[1, 2, 3, 4],\n",
    "              [5, 6, 7, 8],\n",
    "              [0, 6, 2, 8],\n",
    "              [2, 3, 0, 2]])\n"
   ]
  },
  {
   "cell_type": "markdown",
   "metadata": {},
   "source": [
    "## 79 Write a Python program to compute the largest product of three integers from a given list of integers.\n"
   ]
  },
  {
   "cell_type": "code",
   "execution_count": 4,
   "metadata": {},
   "outputs": [],
   "source": [
    "def matrix(matrix):\n",
    "    read_matrix = []\n",
    "    for i in matrix:\n",
    "        if (matrix.index(i))%2 == 0:\n",
    "            read_matrix.extend(i)\n",
    "        else:\n",
    "            read_matrix.extend(i[::-1])\n",
    "    print(*read_matrix, sep = '\\n')"
   ]
  },
  {
   "cell_type": "code",
   "execution_count": 5,
   "metadata": {},
   "outputs": [
    {
     "data": {
      "text/plain": [
       "4000"
      ]
     },
     "execution_count": 5,
     "metadata": {},
     "output_type": "execute_result"
    }
   ],
   "source": [
    "from itertools import combinations\n",
    "from functools import reduce\n",
    "\n",
    "import operator\n",
    "\n",
    "def largest_product_of_three(lst):\n",
    "    return max([(reduce(operator.mul, list(i))) for i in list(combinations(lst, 3))])\n",
    "largest_product_of_three([-10, -20, 20, 1])"
   ]
  },
  {
   "cell_type": "markdown",
   "metadata": {},
   "source": [
    "## 80 Write a Python program to find the first missing positive integer that does not exist in a given list.\n"
   ]
  },
  {
   "cell_type": "code",
   "execution_count": 1,
   "metadata": {},
   "outputs": [
    {
     "name": "stdout",
     "output_type": "stream",
     "text": [
      "4\n",
      "3\n",
      "8\n",
      "4\n"
     ]
    }
   ],
   "source": [
    "def first_missing_number(nums):\n",
    "    if len(nums) == 0:\n",
    "        return 1\n",
    "        \n",
    "    nums.sort()\n",
    "    smallest_int_num = 0\n",
    "    \n",
    "    for i in range(len(nums) - 1):\n",
    "\n",
    "        if nums[i] <= 0 or nums[i] == nums[i + 1]:\n",
    "            continue\n",
    "        else:\n",
    "            if nums[i + 1] - nums[i] != 1:\n",
    "                smallest_int_num = nums[i] + 1\n",
    "                return smallest_int_num    \n",
    "    if smallest_int_num == 0:\n",
    "        smallest_int_num = nums[-1] + 1\n",
    "    return smallest_int_num\n",
    "\n",
    "print(first_missing_number([2, 3, 7, 6, 8, -1, -10, 15, 16])) \n",
    "print(first_missing_number([1, 2, 4, -7, 6, 8, 1, -10, 15]))\n",
    "print(first_missing_number([1, 2, 3, 4, 5, 6, 7]))\n",
    "print(first_missing_number([-2, -3, -1, 1, 2, 3]))\n"
   ]
  },
  {
   "cell_type": "code",
   "execution_count": null,
   "metadata": {},
   "outputs": [],
   "source": []
  }
 ],
 "metadata": {
  "kernelspec": {
   "display_name": "Python 3",
   "language": "python",
   "name": "python3"
  },
  "language_info": {
   "codemirror_mode": {
    "name": "ipython",
    "version": 3
   },
   "file_extension": ".py",
   "mimetype": "text/x-python",
   "name": "python",
   "nbconvert_exporter": "python",
   "pygments_lexer": "ipython3",
   "version": "3.7.4"
  }
 },
 "nbformat": 4,
 "nbformat_minor": 2
}
