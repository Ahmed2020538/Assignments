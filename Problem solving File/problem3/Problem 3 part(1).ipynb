{
 "cells": [
  {
   "cell_type": "markdown",
   "metadata": {},
   "source": [
    "## 1 Write a Python function that takes a sequence of numbers and determines whether all the numbers are different from each other.\n"
   ]
  },
  {
   "cell_type": "code",
   "execution_count": 1,
   "metadata": {},
   "outputs": [
    {
     "name": "stdout",
     "output_type": "stream",
     "text": [
      "The test of First list of data is :: True\n",
      "==========================================\n",
      "The test of Second list of data is :: False\n"
     ]
    }
   ],
   "source": [
    "def test_distinct(data) :\n",
    "    return len(data) == len(set(data))\n",
    "T1 = test_distinct([10,20,30,40,50])\n",
    "T2 = test_distinct([10,20,10,30,50])\n",
    "print(f\"The test of First list of data is :: {T1}\")\n",
    "print(\"==========================================\")\n",
    "print(f\"The test of Second list of data is :: {T2}\")"
   ]
  },
  {
   "cell_type": "markdown",
   "metadata": {},
   "source": [
    "## 2 Write a Python program to create all possible strings by using 'a', 'e', 'i', 'o', 'u'. Use the characters exactly once.\n"
   ]
  },
  {
   "cell_type": "code",
   "execution_count": 6,
   "metadata": {},
   "outputs": [
    {
     "name": "stdout",
     "output_type": "stream",
     "text": [
      "FACDEB\n"
     ]
    }
   ],
   "source": [
    "from random import shuffle\n",
    "lis = [\"A\" , \"B\" , \"C\" , \"D\" ,\"E\" ,\"F\"]\n",
    "char_list = shuffle(lis)\n",
    "print(\"\".join(lis))\n"
   ]
  },
  {
   "cell_type": "code",
   "execution_count": 8,
   "metadata": {},
   "outputs": [
    {
     "data": {
      "text/plain": [
       "'the shutile of the lis is :: ACFEBD'"
      ]
     },
     "execution_count": 8,
     "metadata": {},
     "output_type": "execute_result"
    }
   ],
   "source": [
    "from random import shuffle\n",
    "def string (lis) :\n",
    "    shuffle(lis)\n",
    "    return f\"the shutile of the lis is :: {''.join(lis)}\"\n",
    "string([\"A\" , \"B\" , \"C\" , \"D\" ,\"E\" ,\"F\"])\n",
    "    \n",
    "    "
   ]
  },
  {
   "cell_type": "markdown",
   "metadata": {},
   "source": [
    "## 3 Write a Python program to remove and print every third number from a list of numbers until the list becomes empty.\n"
   ]
  },
  {
   "cell_type": "code",
   "execution_count": 11,
   "metadata": {},
   "outputs": [
    {
     "name": "stdout",
     "output_type": "stream",
     "text": [
      "The remove value is ::  30\n",
      "The remove value is ::  60\n",
      "The remove value is ::  90\n",
      "The remove value is ::  20\n",
      "The remove value is ::  70\n",
      "The remove value is ::  10\n",
      "The remove value is ::  80\n",
      "The remove value is ::  50\n",
      "The remove value is ::  100\n",
      "The remove value is ::  40\n"
     ]
    }
   ],
   "source": [
    "def removal (lis) :\n",
    "    pos = 3-1\n",
    "    idx = 0\n",
    "    len_lis = len(lis)\n",
    "    while len_lis > 0  :\n",
    "        idx = (pos+idx) % (len_lis)\n",
    "        print(f\"The remove value is ::  {lis.pop(idx)}\")\n",
    "        len_lis -= 1\n",
    "removal([10,20,30,40,50,60,70,80,90,100])"
   ]
  },
  {
   "cell_type": "markdown",
   "metadata": {},
   "source": [
    "## 5 Write a Python program to create the combinations of 3 digit combo.\n"
   ]
  },
  {
   "cell_type": "code",
   "execution_count": 3,
   "metadata": {},
   "outputs": [
    {
     "name": "stdout",
     "output_type": "stream",
     "text": [
      "9999\n"
     ]
    }
   ],
   "source": [
    "lis = []\n",
    "for n in range(10000) :\n",
    "    n = str(n).zfill(4)\n",
    "print(n)\n",
    "lis.append(n)"
   ]
  },
  {
   "cell_type": "markdown",
   "metadata": {},
   "source": [
    "## 6 Write a Python program to print a long text, convert the string to a list and print all the words and their frequencies.\n"
   ]
  },
  {
   "cell_type": "code",
   "execution_count": 5,
   "metadata": {},
   "outputs": [
    {
     "name": "stdout",
     "output_type": "stream",
     "text": [
      "The String_Words  Is  :: United States Declaration of Independence\n",
      "From Wikipedia, the free encyclopedia\n",
      "The United States Declaration of Independence is the statement\n",
      "adopted by the Second Continental Congress meeting at the Pennsylvania State\n",
      "House (Independence Hall) in Philadelphia on July 4, 1776, which announced\n",
      "that the thirteen American colonies, then at war with the Kingdom of Great\n",
      "Britain, regarded themselves as thirteen independent sovereign states, no longer\n",
      "under British rule. These states would found a new nation – the United States of\n",
      "America. John Adams was a leader in pushing for independence, which was passed\n",
      "on July 2 with no opposing vote cast. A committee of five had already drafted the\n",
      "formal declaration, to be ready when Congress voted on independence.\n",
      "\n",
      "John Adams persuaded the committee to select Thomas Jefferson to compose the original\n",
      "draft of the document, which Congress would edit to produce the final version.\n",
      "The Declaration was ultimately a formal explanation of why Congress had voted on July\n",
      "2 to declare independence from Great Britain, more than a year after the outbreak of\n",
      "the American Revolutionary War. The next day, Adams wrote to his wife Abigail: \"The\n",
      "Second Day of July 1776, will be the most memorable Epocha, in the History of America.\"\n",
      "But Independence Day is actually celebrated on July 4, the date that the Declaration of\n",
      "Independence was approved.\n",
      "\n",
      "After ratifying the text on July 4, Congress issued the Declaration of Independence in\n",
      "several forms. It was initially published as the printed Dunlap broadside that was widely\n",
      "distributed and read to the public. The source copy used for this printing has been lost,\n",
      "and may have been a copy in Thomas Jefferson's hand.[5] Jefferson's original draft, complete\n",
      "with changes made by John Adams and Benjamin Franklin, and Jefferson's notes of changes made\n",
      "by Congress, are preserved at the Library of Congress. The best-known version of the Declaration\n",
      "is a signed copy that is displayed at the National Archives in Washington, D.C., and which is\n",
      "popularly regarded as the official document. This engrossed copy was ordered by Congress on\n",
      "July 19 and signed primarily on August 2.\n",
      "\n",
      "The sources and interpretation of the Declaration have been the subject of much scholarly inquiry.\n",
      "The Declaration justified the independence of the United States by listing colonial grievances against\n",
      "King George III, and by asserting certain natural and legal rights, including a right of revolution.\n",
      "Having served its original purpose in announcing independence, references to the text of the\n",
      "Declaration were few in the following years. Abraham Lincoln made it the centerpiece of his rhetoric\n",
      "(as in the Gettysburg Address of 1863) and his policies. Since then, it has become a well-known statement\n",
      "on human rights, particularly its second sentence:\n",
      "\n",
      "We hold these truths to be self-evident, that all men are created equal, that they are endowed by their\n",
      "Creator with certain unalienable Rights, that among these are Life, Liberty and the pursuit of Happiness.\n",
      "\n",
      "This has been called \"one of the best-known sentences in the English language\", containing \"the most potent\n",
      "and consequential words in American history\". The passage came to represent a moral standard to which\n",
      "the United States should strive. This view was notably promoted by Abraham Lincoln, who considered the\n",
      "Declaration to be the foundation of his political philosophy and argued that it is a statement of principles\n",
      "through which the United States Constitution should be interpreted.\n",
      "\n",
      "The U.S. Declaration of Independence inspired many other similar documents in other countries, the first\n",
      "being the 1789 Declaration of Flanders issued during the Brabant Revolution in the Austrian Netherlands\n",
      "(modern-day Belgium). It also served as the primary model for numerous declarations of independence across\n",
      "Europe and Latin America, as well as Africa (Liberia) and Oceania (New Zealand) during the first half of the\n",
      "19th century.\n",
      "========================================\n",
      "========================================\n",
      "The List of Words are :: ['United', 'States', 'Declaration', 'of', 'Independence', 'From', 'Wikipedia,', 'the', 'free', 'encyclopedia', 'The', 'United', 'States', 'Declaration', 'of', 'Independence', 'is', 'the', 'statement', 'adopted', 'by', 'the', 'Second', 'Continental', 'Congress', 'meeting', 'at', 'the', 'Pennsylvania', 'State', 'House', '(Independence', 'Hall)', 'in', 'Philadelphia', 'on', 'July', '4,', '1776,', 'which', 'announced', 'that', 'the', 'thirteen', 'American', 'colonies,', 'then', 'at', 'war', 'with', 'the', 'Kingdom', 'of', 'Great', 'Britain,', 'regarded', 'themselves', 'as', 'thirteen', 'independent', 'sovereign', 'states,', 'no', 'longer', 'under', 'British', 'rule.', 'These', 'states', 'would', 'found', 'a', 'new', 'nation', '–', 'the', 'United', 'States', 'of', 'America.', 'John', 'Adams', 'was', 'a', 'leader', 'in', 'pushing', 'for', 'independence,', 'which', 'was', 'passed', 'on', 'July', '2', 'with', 'no', 'opposing', 'vote', 'cast.', 'A', 'committee', 'of', 'five', 'had', 'already', 'drafted', 'the', 'formal', 'declaration,', 'to', 'be', 'ready', 'when', 'Congress', 'voted', 'on', 'independence.', 'John', 'Adams', 'persuaded', 'the', 'committee', 'to', 'select', 'Thomas', 'Jefferson', 'to', 'compose', 'the', 'original', 'draft', 'of', 'the', 'document,', 'which', 'Congress', 'would', 'edit', 'to', 'produce', 'the', 'final', 'version.', 'The', 'Declaration', 'was', 'ultimately', 'a', 'formal', 'explanation', 'of', 'why', 'Congress', 'had', 'voted', 'on', 'July', '2', 'to', 'declare', 'independence', 'from', 'Great', 'Britain,', 'more', 'than', 'a', 'year', 'after', 'the', 'outbreak', 'of', 'the', 'American', 'Revolutionary', 'War.', 'The', 'next', 'day,', 'Adams', 'wrote', 'to', 'his', 'wife', 'Abigail:', '\"The', 'Second', 'Day', 'of', 'July', '1776,', 'will', 'be', 'the', 'most', 'memorable', 'Epocha,', 'in', 'the', 'History', 'of', 'America.\"', 'But', 'Independence', 'Day', 'is', 'actually', 'celebrated', 'on', 'July', '4,', 'the', 'date', 'that', 'the', 'Declaration', 'of', 'Independence', 'was', 'approved.', 'After', 'ratifying', 'the', 'text', 'on', 'July', '4,', 'Congress', 'issued', 'the', 'Declaration', 'of', 'Independence', 'in', 'several', 'forms.', 'It', 'was', 'initially', 'published', 'as', 'the', 'printed', 'Dunlap', 'broadside', 'that', 'was', 'widely', 'distributed', 'and', 'read', 'to', 'the', 'public.', 'The', 'source', 'copy', 'used', 'for', 'this', 'printing', 'has', 'been', 'lost,', 'and', 'may', 'have', 'been', 'a', 'copy', 'in', 'Thomas', \"Jefferson's\", 'hand.[5]', \"Jefferson's\", 'original', 'draft,', 'complete', 'with', 'changes', 'made', 'by', 'John', 'Adams', 'and', 'Benjamin', 'Franklin,', 'and', \"Jefferson's\", 'notes', 'of', 'changes', 'made', 'by', 'Congress,', 'are', 'preserved', 'at', 'the', 'Library', 'of', 'Congress.', 'The', 'best-known', 'version', 'of', 'the', 'Declaration', 'is', 'a', 'signed', 'copy', 'that', 'is', 'displayed', 'at', 'the', 'National', 'Archives', 'in', 'Washington,', 'D.C.,', 'and', 'which', 'is', 'popularly', 'regarded', 'as', 'the', 'official', 'document.', 'This', 'engrossed', 'copy', 'was', 'ordered', 'by', 'Congress', 'on', 'July', '19', 'and', 'signed', 'primarily', 'on', 'August', '2.', 'The', 'sources', 'and', 'interpretation', 'of', 'the', 'Declaration', 'have', 'been', 'the', 'subject', 'of', 'much', 'scholarly', 'inquiry.', 'The', 'Declaration', 'justified', 'the', 'independence', 'of', 'the', 'United', 'States', 'by', 'listing', 'colonial', 'grievances', 'against', 'King', 'George', 'III,', 'and', 'by', 'asserting', 'certain', 'natural', 'and', 'legal', 'rights,', 'including', 'a', 'right', 'of', 'revolution.', 'Having', 'served', 'its', 'original', 'purpose', 'in', 'announcing', 'independence,', 'references', 'to', 'the', 'text', 'of', 'the', 'Declaration', 'were', 'few', 'in', 'the', 'following', 'years.', 'Abraham', 'Lincoln', 'made', 'it', 'the', 'centerpiece', 'of', 'his', 'rhetoric', '(as', 'in', 'the', 'Gettysburg', 'Address', 'of', '1863)', 'and', 'his', 'policies.', 'Since', 'then,', 'it', 'has', 'become', 'a', 'well-known', 'statement', 'on', 'human', 'rights,', 'particularly', 'its', 'second', 'sentence:', 'We', 'hold', 'these', 'truths', 'to', 'be', 'self-evident,', 'that', 'all', 'men', 'are', 'created', 'equal,', 'that', 'they', 'are', 'endowed', 'by', 'their', 'Creator', 'with', 'certain', 'unalienable', 'Rights,', 'that', 'among', 'these', 'are', 'Life,', 'Liberty', 'and', 'the', 'pursuit', 'of', 'Happiness.', 'This', 'has', 'been', 'called', '\"one', 'of', 'the', 'best-known', 'sentences', 'in', 'the', 'English', 'language\",', 'containing', '\"the', 'most', 'potent', 'and', 'consequential', 'words', 'in', 'American', 'history\".', 'The', 'passage', 'came', 'to', 'represent', 'a', 'moral', 'standard', 'to', 'which', 'the', 'United', 'States', 'should', 'strive.', 'This', 'view', 'was', 'notably', 'promoted', 'by', 'Abraham', 'Lincoln,', 'who', 'considered', 'the', 'Declaration', 'to', 'be', 'the', 'foundation', 'of', 'his', 'political', 'philosophy', 'and', 'argued', 'that', 'it', 'is', 'a', 'statement', 'of', 'principles', 'through', 'which', 'the', 'United', 'States', 'Constitution', 'should', 'be', 'interpreted.', 'The', 'U.S.', 'Declaration', 'of', 'Independence', 'inspired', 'many', 'other', 'similar', 'documents', 'in', 'other', 'countries,', 'the', 'first', 'being', 'the', '1789', 'Declaration', 'of', 'Flanders', 'issued', 'during', 'the', 'Brabant', 'Revolution', 'in', 'the', 'Austrian', 'Netherlands', '(modern-day', 'Belgium).', 'It', 'also', 'served', 'as', 'the', 'primary', 'model', 'for', 'numerous', 'declarations', 'of', 'independence', 'across', 'Europe', 'and', 'Latin', 'America,', 'as', 'well', 'as', 'Africa', '(Liberia)', 'and', 'Oceania', '(New', 'Zealand)', 'during', 'the', 'first', 'half', 'of', 'the', '19th', 'century.']\n",
      "========================================\n",
      "========================================\n",
      "The Words and thier lists are :: [('United', 6), ('States', 6), ('Declaration', 12), ('of', 30), ('Independence', 6), ('From', 1), ('Wikipedia,', 1), ('the', 49), ('free', 1), ('encyclopedia', 1), ('The', 9), ('United', 6), ('States', 6), ('Declaration', 12), ('of', 30), ('Independence', 6), ('is', 6), ('the', 49), ('statement', 3), ('adopted', 1), ('by', 8), ('the', 49), ('Second', 2), ('Continental', 1), ('Congress', 6), ('meeting', 1), ('at', 4), ('the', 49), ('Pennsylvania', 1), ('State', 1), ('House', 1), ('(Independence', 1), ('Hall)', 1), ('in', 13), ('Philadelphia', 1), ('on', 9), ('July', 7), ('4,', 3), ('1776,', 2), ('which', 6), ('announced', 1), ('that', 8), ('the', 49), ('thirteen', 2), ('American', 3), ('colonies,', 1), ('then', 1), ('at', 4), ('war', 1), ('with', 4), ('the', 49), ('Kingdom', 1), ('of', 30), ('Great', 2), ('Britain,', 2), ('regarded', 2), ('themselves', 1), ('as', 6), ('thirteen', 2), ('independent', 1), ('sovereign', 1), ('states,', 1), ('no', 2), ('longer', 1), ('under', 1), ('British', 1), ('rule.', 1), ('These', 1), ('states', 1), ('would', 2), ('found', 1), ('a', 10), ('new', 1), ('nation', 1), ('–', 1), ('the', 49), ('United', 6), ('States', 6), ('of', 30), ('America.', 1), ('John', 3), ('Adams', 4), ('was', 8), ('a', 10), ('leader', 1), ('in', 13), ('pushing', 1), ('for', 3), ('independence,', 2), ('which', 6), ('was', 8), ('passed', 1), ('on', 9), ('July', 7), ('2', 2), ('with', 4), ('no', 2), ('opposing', 1), ('vote', 1), ('cast.', 1), ('A', 1), ('committee', 2), ('of', 30), ('five', 1), ('had', 2), ('already', 1), ('drafted', 1), ('the', 49), ('formal', 2), ('declaration,', 1), ('to', 12), ('be', 5), ('ready', 1), ('when', 1), ('Congress', 6), ('voted', 2), ('on', 9), ('independence.', 1), ('John', 3), ('Adams', 4), ('persuaded', 1), ('the', 49), ('committee', 2), ('to', 12), ('select', 1), ('Thomas', 2), ('Jefferson', 1), ('to', 12), ('compose', 1), ('the', 49), ('original', 3), ('draft', 1), ('of', 30), ('the', 49), ('document,', 1), ('which', 6), ('Congress', 6), ('would', 2), ('edit', 1), ('to', 12), ('produce', 1), ('the', 49), ('final', 1), ('version.', 1), ('The', 9), ('Declaration', 12), ('was', 8), ('ultimately', 1), ('a', 10), ('formal', 2), ('explanation', 1), ('of', 30), ('why', 1), ('Congress', 6), ('had', 2), ('voted', 2), ('on', 9), ('July', 7), ('2', 2), ('to', 12), ('declare', 1), ('independence', 3), ('from', 1), ('Great', 2), ('Britain,', 2), ('more', 1), ('than', 1), ('a', 10), ('year', 1), ('after', 1), ('the', 49), ('outbreak', 1), ('of', 30), ('the', 49), ('American', 3), ('Revolutionary', 1), ('War.', 1), ('The', 9), ('next', 1), ('day,', 1), ('Adams', 4), ('wrote', 1), ('to', 12), ('his', 4), ('wife', 1), ('Abigail:', 1), ('\"The', 1), ('Second', 2), ('Day', 2), ('of', 30), ('July', 7), ('1776,', 2), ('will', 1), ('be', 5), ('the', 49), ('most', 2), ('memorable', 1), ('Epocha,', 1), ('in', 13), ('the', 49), ('History', 1), ('of', 30), ('America.\"', 1), ('But', 1), ('Independence', 6), ('Day', 2), ('is', 6), ('actually', 1), ('celebrated', 1), ('on', 9), ('July', 7), ('4,', 3), ('the', 49), ('date', 1), ('that', 8), ('the', 49), ('Declaration', 12), ('of', 30), ('Independence', 6), ('was', 8), ('approved.', 1), ('After', 1), ('ratifying', 1), ('the', 49), ('text', 2), ('on', 9), ('July', 7), ('4,', 3), ('Congress', 6), ('issued', 2), ('the', 49), ('Declaration', 12), ('of', 30), ('Independence', 6), ('in', 13), ('several', 1), ('forms.', 1), ('It', 2), ('was', 8), ('initially', 1), ('published', 1), ('as', 6), ('the', 49), ('printed', 1), ('Dunlap', 1), ('broadside', 1), ('that', 8), ('was', 8), ('widely', 1), ('distributed', 1), ('and', 15), ('read', 1), ('to', 12), ('the', 49), ('public.', 1), ('The', 9), ('source', 1), ('copy', 4), ('used', 1), ('for', 3), ('this', 1), ('printing', 1), ('has', 3), ('been', 4), ('lost,', 1), ('and', 15), ('may', 1), ('have', 2), ('been', 4), ('a', 10), ('copy', 4), ('in', 13), ('Thomas', 2), (\"Jefferson's\", 3), ('hand.[5]', 1), (\"Jefferson's\", 3), ('original', 3), ('draft,', 1), ('complete', 1), ('with', 4), ('changes', 2), ('made', 3), ('by', 8), ('John', 3), ('Adams', 4), ('and', 15), ('Benjamin', 1), ('Franklin,', 1), ('and', 15), (\"Jefferson's\", 3), ('notes', 1), ('of', 30), ('changes', 2), ('made', 3), ('by', 8), ('Congress,', 1), ('are', 4), ('preserved', 1), ('at', 4), ('the', 49), ('Library', 1), ('of', 30), ('Congress.', 1), ('The', 9), ('best-known', 2), ('version', 1), ('of', 30), ('the', 49), ('Declaration', 12), ('is', 6), ('a', 10), ('signed', 2), ('copy', 4), ('that', 8), ('is', 6), ('displayed', 1), ('at', 4), ('the', 49), ('National', 1), ('Archives', 1), ('in', 13), ('Washington,', 1), ('D.C.,', 1), ('and', 15), ('which', 6), ('is', 6), ('popularly', 1), ('regarded', 2), ('as', 6), ('the', 49), ('official', 1), ('document.', 1), ('This', 3), ('engrossed', 1), ('copy', 4), ('was', 8), ('ordered', 1), ('by', 8), ('Congress', 6), ('on', 9), ('July', 7), ('19', 1), ('and', 15), ('signed', 2), ('primarily', 1), ('on', 9), ('August', 1), ('2.', 1), ('The', 9), ('sources', 1), ('and', 15), ('interpretation', 1), ('of', 30), ('the', 49), ('Declaration', 12), ('have', 2), ('been', 4), ('the', 49), ('subject', 1), ('of', 30), ('much', 1), ('scholarly', 1), ('inquiry.', 1), ('The', 9), ('Declaration', 12), ('justified', 1), ('the', 49), ('independence', 3), ('of', 30), ('the', 49), ('United', 6), ('States', 6), ('by', 8), ('listing', 1), ('colonial', 1), ('grievances', 1), ('against', 1), ('King', 1), ('George', 1), ('III,', 1), ('and', 15), ('by', 8), ('asserting', 1), ('certain', 2), ('natural', 1), ('and', 15), ('legal', 1), ('rights,', 2), ('including', 1), ('a', 10), ('right', 1), ('of', 30), ('revolution.', 1), ('Having', 1), ('served', 2), ('its', 2), ('original', 3), ('purpose', 1), ('in', 13), ('announcing', 1), ('independence,', 2), ('references', 1), ('to', 12), ('the', 49), ('text', 2), ('of', 30), ('the', 49), ('Declaration', 12), ('were', 1), ('few', 1), ('in', 13), ('the', 49), ('following', 1), ('years.', 1), ('Abraham', 2), ('Lincoln', 1), ('made', 3), ('it', 3), ('the', 49), ('centerpiece', 1), ('of', 30), ('his', 4), ('rhetoric', 1), ('(as', 1), ('in', 13), ('the', 49), ('Gettysburg', 1), ('Address', 1), ('of', 30), ('1863)', 1), ('and', 15), ('his', 4), ('policies.', 1), ('Since', 1), ('then,', 1), ('it', 3), ('has', 3), ('become', 1), ('a', 10), ('well-known', 1), ('statement', 3), ('on', 9), ('human', 1), ('rights,', 2), ('particularly', 1), ('its', 2), ('second', 1), ('sentence:', 1), ('We', 1), ('hold', 1), ('these', 2), ('truths', 1), ('to', 12), ('be', 5), ('self-evident,', 1), ('that', 8), ('all', 1), ('men', 1), ('are', 4), ('created', 1), ('equal,', 1), ('that', 8), ('they', 1), ('are', 4), ('endowed', 1), ('by', 8), ('their', 1), ('Creator', 1), ('with', 4), ('certain', 2), ('unalienable', 1), ('Rights,', 1), ('that', 8), ('among', 1), ('these', 2), ('are', 4), ('Life,', 1), ('Liberty', 1), ('and', 15), ('the', 49), ('pursuit', 1), ('of', 30), ('Happiness.', 1), ('This', 3), ('has', 3), ('been', 4), ('called', 1), ('\"one', 1), ('of', 30), ('the', 49), ('best-known', 2), ('sentences', 1), ('in', 13), ('the', 49), ('English', 1), ('language\",', 1), ('containing', 1), ('\"the', 1), ('most', 2), ('potent', 1), ('and', 15), ('consequential', 1), ('words', 1), ('in', 13), ('American', 3), ('history\".', 1), ('The', 9), ('passage', 1), ('came', 1), ('to', 12), ('represent', 1), ('a', 10), ('moral', 1), ('standard', 1), ('to', 12), ('which', 6), ('the', 49), ('United', 6), ('States', 6), ('should', 2), ('strive.', 1), ('This', 3), ('view', 1), ('was', 8), ('notably', 1), ('promoted', 1), ('by', 8), ('Abraham', 2), ('Lincoln,', 1), ('who', 1), ('considered', 1), ('the', 49), ('Declaration', 12), ('to', 12), ('be', 5), ('the', 49), ('foundation', 1), ('of', 30), ('his', 4), ('political', 1), ('philosophy', 1), ('and', 15), ('argued', 1), ('that', 8), ('it', 3), ('is', 6), ('a', 10), ('statement', 3), ('of', 30), ('principles', 1), ('through', 1), ('which', 6), ('the', 49), ('United', 6), ('States', 6), ('Constitution', 1), ('should', 2), ('be', 5), ('interpreted.', 1), ('The', 9), ('U.S.', 1), ('Declaration', 12), ('of', 30), ('Independence', 6), ('inspired', 1), ('many', 1), ('other', 2), ('similar', 1), ('documents', 1), ('in', 13), ('other', 2), ('countries,', 1), ('the', 49), ('first', 2), ('being', 1), ('the', 49), ('1789', 1), ('Declaration', 12), ('of', 30), ('Flanders', 1), ('issued', 2), ('during', 2), ('the', 49), ('Brabant', 1), ('Revolution', 1), ('in', 13), ('the', 49), ('Austrian', 1), ('Netherlands', 1), ('(modern-day', 1), ('Belgium).', 1), ('It', 2), ('also', 1), ('served', 2), ('as', 6), ('the', 49), ('primary', 1), ('model', 1), ('for', 3), ('numerous', 1), ('declarations', 1), ('of', 30), ('independence', 3), ('across', 1), ('Europe', 1), ('and', 15), ('Latin', 1), ('America,', 1), ('as', 6), ('well', 1), ('as', 6), ('Africa', 1), ('(Liberia)', 1), ('and', 15), ('Oceania', 1), ('(New', 1), ('Zealand)', 1), ('during', 2), ('the', 49), ('first', 2), ('half', 1), ('of', 30), ('the', 49), ('19th', 1), ('century.', 1)]\n"
     ]
    }
   ],
   "source": [
    "string_words = '''United States Declaration of Independence\n",
    "From Wikipedia, the free encyclopedia\n",
    "The United States Declaration of Independence is the statement\n",
    "adopted by the Second Continental Congress meeting at the Pennsylvania State\n",
    "House (Independence Hall) in Philadelphia on July 4, 1776, which announced\n",
    "that the thirteen American colonies, then at war with the Kingdom of Great\n",
    "Britain, regarded themselves as thirteen independent sovereign states, no longer\n",
    "under British rule. These states would found a new nation – the United States of\n",
    "America. John Adams was a leader in pushing for independence, which was passed\n",
    "on July 2 with no opposing vote cast. A committee of five had already drafted the\n",
    "formal declaration, to be ready when Congress voted on independence.\n",
    "\n",
    "John Adams persuaded the committee to select Thomas Jefferson to compose the original\n",
    "draft of the document, which Congress would edit to produce the final version.\n",
    "The Declaration was ultimately a formal explanation of why Congress had voted on July\n",
    "2 to declare independence from Great Britain, more than a year after the outbreak of\n",
    "the American Revolutionary War. The next day, Adams wrote to his wife Abigail: \"The\n",
    "Second Day of July 1776, will be the most memorable Epocha, in the History of America.\"\n",
    "But Independence Day is actually celebrated on July 4, the date that the Declaration of\n",
    "Independence was approved.\n",
    "\n",
    "After ratifying the text on July 4, Congress issued the Declaration of Independence in\n",
    "several forms. It was initially published as the printed Dunlap broadside that was widely\n",
    "distributed and read to the public. The source copy used for this printing has been lost,\n",
    "and may have been a copy in Thomas Jefferson's hand.[5] Jefferson's original draft, complete\n",
    "with changes made by John Adams and Benjamin Franklin, and Jefferson's notes of changes made\n",
    "by Congress, are preserved at the Library of Congress. The best-known version of the Declaration\n",
    "is a signed copy that is displayed at the National Archives in Washington, D.C., and which is\n",
    "popularly regarded as the official document. This engrossed copy was ordered by Congress on\n",
    "July 19 and signed primarily on August 2.\n",
    "\n",
    "The sources and interpretation of the Declaration have been the subject of much scholarly inquiry.\n",
    "The Declaration justified the independence of the United States by listing colonial grievances against\n",
    "King George III, and by asserting certain natural and legal rights, including a right of revolution.\n",
    "Having served its original purpose in announcing independence, references to the text of the\n",
    "Declaration were few in the following years. Abraham Lincoln made it the centerpiece of his rhetoric\n",
    "(as in the Gettysburg Address of 1863) and his policies. Since then, it has become a well-known statement\n",
    "on human rights, particularly its second sentence:\n",
    "\n",
    "We hold these truths to be self-evident, that all men are created equal, that they are endowed by their\n",
    "Creator with certain unalienable Rights, that among these are Life, Liberty and the pursuit of Happiness.\n",
    "\n",
    "This has been called \"one of the best-known sentences in the English language\", containing \"the most potent\n",
    "and consequential words in American history\". The passage came to represent a moral standard to which\n",
    "the United States should strive. This view was notably promoted by Abraham Lincoln, who considered the\n",
    "Declaration to be the foundation of his political philosophy and argued that it is a statement of principles\n",
    "through which the United States Constitution should be interpreted.\n",
    "\n",
    "The U.S. Declaration of Independence inspired many other similar documents in other countries, the first\n",
    "being the 1789 Declaration of Flanders issued during the Brabant Revolution in the Austrian Netherlands\n",
    "(modern-day Belgium). It also served as the primary model for numerous declarations of independence across\n",
    "Europe and Latin America, as well as Africa (Liberia) and Oceania (New Zealand) during the first half of the\n",
    "19th century.'''\n",
    "\n",
    "Words = string_words.split()\n",
    "Words_fre  = [Words.count(i) for i in Words]\n",
    "\n",
    "print(f\"The String_Words  Is  :: {string_words}\")\n",
    "print(\"========================================\")\n",
    "print(\"========================================\")\n",
    "print(f\"The List of Words are :: {Words}\")\n",
    "print(\"========================================\")\n",
    "print(\"========================================\")\n",
    "print(f\"The Words and thier lists are :: {str ( list ( zip ( Words , Words_fre ) ) ) }\")"
   ]
  },
  {
   "cell_type": "markdown",
   "metadata": {},
   "source": [
    "## 8 Write a Python program to get the top stories from Google news.\n"
   ]
  },
  {
   "cell_type": "code",
   "execution_count": 6,
   "metadata": {},
   "outputs": [
    {
     "name": "stdout",
     "output_type": "stream",
     "text": [
      "President Donald Trump raises more than $170 million since Election Day as he pushes baseless fraud claims - CNN\n",
      "https://news.google.com/__i/rss/rd/articles/CBMieWh0dHBzOi8vd3d3LmNubi5jb20vMjAyMC8xMi8wMS9wb2xpdGljcy9wcmVzaWRlbnQtZG9uYWxkLXRydW1wLXJhaXNlcy1tb3JlLXRoYW4tMTcwLW1pbGxpb24tc2luY2UtZWxlY3Rpb24tZGF5L2luZGV4Lmh0bWzSAX1odHRwczovL2FtcC5jbm4uY29tL2Nubi8yMDIwLzEyLzAxL3BvbGl0aWNzL3ByZXNpZGVudC1kb25hbGQtdHJ1bXAtcmFpc2VzLW1vcmUtdGhhbi0xNzAtbWlsbGlvbi1zaW5jZS1lbGVjdGlvbi1kYXkvaW5kZXguaHRtbA?oc=5\n",
      "Tue, 01 Dec 2020 14:23:00 GMT\n",
      "------------------------------------------------------------\n",
      "Live updates: Biden to appear with economic team in Delaware; Trump lashes out at GOP governors - The Washington Post\n",
      "https://news.google.com/__i/rss/rd/articles/CBMiW2h0dHBzOi8vd3d3Lndhc2hpbmd0b25wb3N0LmNvbS9wb2xpdGljcy8yMDIwLzEyLzAxL2pvZS1iaWRlbi10cnVtcC10cmFuc2l0aW9uLWxpdmUtdXBkYXRlcy_SAWpodHRwczovL3d3dy53YXNoaW5ndG9ucG9zdC5jb20vcG9saXRpY3MvMjAyMC8xMi8wMS9qb2UtYmlkZW4tdHJ1bXAtdHJhbnNpdGlvbi1saXZlLXVwZGF0ZXMvP291dHB1dFR5cGU9YW1w?oc=5\n",
      "Tue, 01 Dec 2020 15:05:00 GMT\n",
      "------------------------------------------------------------\n",
      "Lawmakers unveiling bipartisan coronavirus stimulus package as stalemate drags on - CNBC\n",
      "https://news.google.com/__i/rss/rd/articles/CBMiX2h0dHBzOi8vd3d3LmNuYmMuY29tLzIwMjAvMTIvMDEvY29yb25hdmlydXMtc3RpbXVsdXMtdXBkYXRlLXNlbmF0b3JzLXRvLXVudmVpbC1yZWxpZWYtYmlsbC5odG1s0gFjaHR0cHM6Ly93d3cuY25iYy5jb20vYW1wLzIwMjAvMTIvMDEvY29yb25hdmlydXMtc3RpbXVsdXMtdXBkYXRlLXNlbmF0b3JzLXRvLXVudmVpbC1yZWxpZWYtYmlsbC5odG1s?oc=5\n",
      "Tue, 01 Dec 2020 14:12:00 GMT\n",
      "------------------------------------------------------------\n",
      "Lindsey Graham Calls Neera Tanden a 'Nut Job' as Republicans Signal Confirmation Battle - Newsweek\n",
      "https://news.google.com/__i/rss/rd/articles/CBMicWh0dHBzOi8vd3d3Lm5ld3N3ZWVrLmNvbS9saW5kc2V5LWdyYWhhbS1jYWxscy1uZWVyYS10YW5kZW4tbnV0LWpvYi1yZXB1YmxpY2Fucy1zaWduYWwtY29uZmlybWF0aW9uLWJhdHRsZS0xNTUxMzQ00gF3aHR0cHM6Ly93d3cubmV3c3dlZWsuY29tL2xpbmRzZXktZ3JhaGFtLWNhbGxzLW5lZXJhLXRhbmRlbi1udXQtam9iLXJlcHVibGljYW5zLXNpZ25hbC1jb25maXJtYXRpb24tYmF0dGxlLTE1NTEzNDQ_YW1wPTE?oc=5\n",
      "Tue, 01 Dec 2020 05:02:11 GMT\n",
      "------------------------------------------------------------\n",
      "Democrats have a rural America problem that's hurting them on the Hill - Fox News\n",
      "https://news.google.com/__i/rss/rd/articles/CBMiY2h0dHBzOi8vd3d3LmZveG5ld3MuY29tL21lZGlhL2RlbW9jcmF0cy1oYXZlLWEtcnVyYWwtYW1lcmljYS1wcm9ibGVtLXRoYXRzLWh1cnRpbmctdGhlbS1vbi10aGUtaGlsbNIBAA?oc=5\n",
      "Tue, 01 Dec 2020 07:58:38 GMT\n",
      "------------------------------------------------------------\n",
      "Trump lawyer: ex-election security chief Krebs should be 'taken out and shot' - The Guardian\n",
      "https://news.google.com/__i/rss/rd/articles/CBMicmh0dHBzOi8vd3d3LnRoZWd1YXJkaWFuLmNvbS91cy1uZXdzLzIwMjAvZGVjLzAxL3RydW1wLWxhd3llci1qb2UtZGlnZW5vdmEtZWxlY3Rpb24tc2VjdXJpdHktY2hpZWYtY2hyaXMta3JlYnMtc2hvdNIBcmh0dHBzOi8vYW1wLnRoZWd1YXJkaWFuLmNvbS91cy1uZXdzLzIwMjAvZGVjLzAxL3RydW1wLWxhd3llci1qb2UtZGlnZW5vdmEtZWxlY3Rpb24tc2VjdXJpdHktY2hpZWYtY2hyaXMta3JlYnMtc2hvdA?oc=5\n",
      "Tue, 01 Dec 2020 12:08:00 GMT\n",
      "------------------------------------------------------------\n",
      "Pence tells governors coronavirus vaccine distribution could begin in two weeks - CBS News\n",
      "https://news.google.com/__i/rss/rd/articles/CBMiW2h0dHBzOi8vd3d3LmNic25ld3MuY29tL25ld3MvY292aWQtMTktdmFjY2luZS1kaXN0cmlidXRpb24tcGVuY2UtdGVsbHMtZ292ZXJub3JzLXR3by13ZWVrcy_SAV9odHRwczovL3d3dy5jYnNuZXdzLmNvbS9hbXAvbmV3cy9jb3ZpZC0xOS12YWNjaW5lLWRpc3RyaWJ1dGlvbi1wZW5jZS10ZWxscy1nb3Zlcm5vcnMtdHdvLXdlZWtzLw?oc=5\n",
      "Tue, 01 Dec 2020 12:57:00 GMT\n",
      "------------------------------------------------------------\n",
      "Biden’s Cabinet Picks, Part 1: Janet Yellen - The New York Times\n",
      "https://news.google.com/__i/rss/rd/articles/CBMiUWh0dHBzOi8vd3d3Lm55dGltZXMuY29tLzIwMjAvMTIvMDEvcG9kY2FzdHMvdGhlLWRhaWx5L2pvZS1iaWRlbi1qYW5ldC15ZWxsZW4uaHRtbNIBVWh0dHBzOi8vd3d3Lm55dGltZXMuY29tLzIwMjAvMTIvMDEvcG9kY2FzdHMvdGhlLWRhaWx5L2pvZS1iaWRlbi1qYW5ldC15ZWxsZW4uYW1wLmh0bWw?oc=5\n",
      "Tue, 01 Dec 2020 15:03:12 GMT\n",
      "------------------------------------------------------------\n",
      "Melania Trump unveils Christmas decorations for final holiday season in White House - CBS News\n",
      "https://news.google.com/__i/rss/rd/articles/CBMiVWh0dHBzOi8vd3d3LmNic25ld3MuY29tL25ld3MvbWVsYW5pYS10cnVtcC11bnZlaWxzLXdoaXRlLWhvdXNlLWNocmlzdG1hcy1kZWNvcmF0aW9ucy_SAVlodHRwczovL3d3dy5jYnNuZXdzLmNvbS9hbXAvbmV3cy9tZWxhbmlhLXRydW1wLXVudmVpbHMtd2hpdGUtaG91c2UtY2hyaXN0bWFzLWRlY29yYXRpb25zLw?oc=5\n",
      "Tue, 01 Dec 2020 13:05:00 GMT\n",
      "------------------------------------------------------------\n",
      "Dr. Anthony Fauci updates timeline for fans returning to stadiums to watch games in person amid coronavirus p - NJ.com\n",
      "https://news.google.com/__i/rss/rd/articles/CBMimAFodHRwczovL3d3dy5uai5jb20vZ2lhbnRzLzIwMjAvMTIvZHItYW50aG9ueS1mYXVjaS11cGRhdGVzLXRpbWVsaW5lLWZhbnMtd2lsbC1yZXR1cm4tdG8tc3RhZGl1bXMtdG8td2F0Y2gtZ2FtZXMtaW4tcGVyc29uLWFtaWQtY29yb25hdmlydXMtcGFuZGVtaWMuaHRtbNIBpwFodHRwczovL3d3dy5uai5jb20vZ2lhbnRzLzIwMjAvMTIvZHItYW50aG9ueS1mYXVjaS11cGRhdGVzLXRpbWVsaW5lLWZhbnMtd2lsbC1yZXR1cm4tdG8tc3RhZGl1bXMtdG8td2F0Y2gtZ2FtZXMtaW4tcGVyc29uLWFtaWQtY29yb25hdmlydXMtcGFuZGVtaWMuaHRtbD9vdXRwdXRUeXBlPWFtcA?oc=5\n",
      "Tue, 01 Dec 2020 13:06:00 GMT\n",
      "------------------------------------------------------------\n",
      "At least two dead and several injured in Germany after car hits pedestrians, police say - CNN\n",
      "https://news.google.com/__i/rss/rd/articles/CBMiVGh0dHBzOi8vd3d3LmNubi5jb20vMjAyMC8xMi8wMS9ldXJvcGUvZ2VybWFueS10cmllci1jYXItaW5jaWRlbnQtZ3JtLWludGwvaW5kZXguaHRtbNIBWGh0dHBzOi8vYW1wLmNubi5jb20vY25uLzIwMjAvMTIvMDEvZXVyb3BlL2dlcm1hbnktdHJpZXItY2FyLWluY2lkZW50LWdybS1pbnRsL2luZGV4Lmh0bWw?oc=5\n",
      "Tue, 01 Dec 2020 14:34:00 GMT\n",
      "------------------------------------------------------------\n",
      "CDC panel is set to vote Tuesday on who gets coronavirus vaccine first - CNBC\n",
      "https://news.google.com/__i/rss/rd/articles/CBMiZ2h0dHBzOi8vd3d3LmNuYmMuY29tLzIwMjAvMTEvMzAvY292aWQtdmFjY2luZS1jZGMtcGFuZWwtc2V0LXR1ZXNkYXktdG8tdm90ZS13aG8tZ2V0cy12YWNjaW5lLWZpcnN0Lmh0bWzSAWtodHRwczovL3d3dy5jbmJjLmNvbS9hbXAvMjAyMC8xMS8zMC9jb3ZpZC12YWNjaW5lLWNkYy1wYW5lbC1zZXQtdHVlc2RheS10by12b3RlLXdoby1nZXRzLXZhY2NpbmUtZmlyc3QuaHRtbA?oc=5\n",
      "Tue, 01 Dec 2020 12:31:00 GMT\n",
      "------------------------------------------------------------\n",
      "Armed Robbers Attack Brazilian City Early Tuesday - NPR\n",
      "https://news.google.com/__i/rss/rd/articles/CBMieWh0dHBzOi8vd3d3Lm5wci5vcmcvMjAyMC8xMi8wMS85NDA0MjI2MDQvYXNzYWlsYW50cy1hdHRhY2stY2l0eS1pbi1zb3V0aGVybi1icmF6aWwtaW4tc2VyaWVzLW9mLWJyYXplbi1lYXJseS1tb3JuaW5nLWhlaXPSAQA?oc=5\n",
      "Tue, 01 Dec 2020 11:52:21 GMT\n",
      "------------------------------------------------------------\n",
      "'Stop the madness,' Tigray leader urges Ethiopia's PM - The Associated Press\n",
      "https://news.google.com/__i/rss/rd/articles/CBMiVWh0dHBzOi8vYXBuZXdzLmNvbS9hcnRpY2xlL2V0aGlvcGlhLWFiaXktYWhtZWQta2VueWEtNzllNWMwMDU5OWM1Zjg2MTNlZGE4OWFiOTcyZjIzYTXSAQA?oc=5\n",
      "Mon, 30 Nov 2020 13:02:18 GMT\n",
      "------------------------------------------------------------\n",
      "Zoom, Tesla, Moderna: What to Watch When the Stock Market Opens Today - The Wall Street Journal\n",
      "https://news.google.com/__i/rss/rd/articles/CBMia2h0dHBzOi8vd3d3Lndzai5jb20vYXJ0aWNsZXMvem9vbS10ZXNsYS1tb2Rlcm5hLXdoYXQtdG8td2F0Y2gtd2hlbi10aGUtc3RvY2stbWFya2V0LW9wZW5zLXRvZGF5LTExNjA2ODI1MzA20gEA?oc=5\n",
      "Tue, 01 Dec 2020 14:06:00 GMT\n",
      "------------------------------------------------------------\n",
      "Online sales reach $10.8 billion on Cyber Monday, the biggest U.S. e-commerce day ever, Adobe says - CNBC\n",
      "https://news.google.com/__i/rss/rd/articles/CBMiYWh0dHBzOi8vd3d3LmNuYmMuY29tLzIwMjAvMTIvMDEvaG9saWRheS0yMDIwLXNob3BwZXJzLXNwZW5kLTEwcG9pbnQ4LWJpbGxpb24tb24tY3liZXItbW9uZGF5Lmh0bWzSAWVodHRwczovL3d3dy5jbmJjLmNvbS9hbXAvMjAyMC8xMi8wMS9ob2xpZGF5LTIwMjAtc2hvcHBlcnMtc3BlbmQtMTBwb2ludDgtYmlsbGlvbi1vbi1jeWJlci1tb25kYXkuaHRtbA?oc=5\n",
      "Tue, 01 Dec 2020 14:24:00 GMT\n",
      "------------------------------------------------------------\n",
      "Powell and Mnuchin to Offer Starkly Different Views on Risks: Live Updates - The New York Times\n",
      "https://news.google.com/__i/rss/rd/articles/CBMiR2h0dHBzOi8vd3d3Lm55dGltZXMuY29tL2xpdmUvMjAyMC8xMi8wMS9idXNpbmVzcy91cy1lY29ub215LWNvcm9uYXZpcnVz0gFQaHR0cHM6Ly93d3cubnl0aW1lcy5jb20vbGl2ZS8yMDIwLzEyLzAxL2J1c2luZXNzL3VzLWVjb25vbXktY29yb25hdmlydXMuYW1wLmh0bWw?oc=5\n",
      "Tue, 01 Dec 2020 15:14:00 GMT\n",
      "------------------------------------------------------------\n",
      "Starbucks offering free coffee for frontline workers in December - Fox News\n",
      "https://news.google.com/__i/rss/rd/articles/CBMiU2h0dHBzOi8vd3d3LmZveG5ld3MuY29tL2Zvb2QtZHJpbmsvc3RhcmJ1Y2tzLWZyZWUtY29mZmVlLWZyb250bGluZS13b3JrZXJzLWRlY2VtYmVy0gFXaHR0cHM6Ly93d3cuZm94bmV3cy5jb20vZm9vZC1kcmluay9zdGFyYnVja3MtZnJlZS1jb2ZmZWUtZnJvbnRsaW5lLXdvcmtlcnMtZGVjZW1iZXIuYW1w?oc=5\n",
      "Tue, 01 Dec 2020 11:42:42 GMT\n",
      "------------------------------------------------------------\n",
      "Super Nintendo World is opening at Universal Studios Japan in February. Here's a sneak peek - CNN\n",
      "https://news.google.com/__i/rss/rd/articles/CBMiU2h0dHBzOi8vd3d3LmNubi5jb20vdHJhdmVsL2FydGljbGUvc3VwZXItbmludGVuZG8td29ybGQtbmV3LW9wZW5pbmctZGF0ZS9pbmRleC5odG1s0gFPaHR0cHM6Ly93d3cuY25uLmNvbS90cmF2ZWwvYW1wL3N1cGVyLW5pbnRlbmRvLXdvcmxkLW5ldy1vcGVuaW5nLWRhdGUvaW5kZXguaHRtbA?oc=5\n",
      "Tue, 01 Dec 2020 11:45:49 GMT\n",
      "------------------------------------------------------------\n",
      "Nvidia GeForce RTX 3060 Ti review: faster than 2080 Super, easily beats 1080 Ti - Eurogamer.net\n",
      "https://news.google.com/__i/rss/rd/articles/CBMiWGh0dHBzOi8vd3d3LmV1cm9nYW1lci5uZXQvYXJ0aWNsZXMvZGlnaXRhbGZvdW5kcnktMjAyMC1udmlkaWEtZ2Vmb3JjZS1ydHgtMzA2MC10aS1yZXZpZXfSAVNodHRwczovL3d3dy5ldXJvZ2FtZXIubmV0L2FtcC9kaWdpdGFsZm91bmRyeS0yMDIwLW52aWRpYS1nZWZvcmNlLXJ0eC0zMDYwLXRpLXJldmlldw?oc=5\n",
      "Tue, 01 Dec 2020 14:03:33 GMT\n",
      "------------------------------------------------------------\n",
      "The best Google Play Store apps and games of 2020 have been announced - Android Police\n",
      "https://news.google.com/__i/rss/rd/articles/CBMib2h0dHBzOi8vd3d3LmFuZHJvaWRwb2xpY2UuY29tLzIwMjAvMTIvMDEvdGhlLWJlc3QtZ29vZ2xlLXBsYXktc3RvcmUtYXBwcy1hbmQtZ2FtZXMtb2YtMjAyMC1oYXZlLWJlZW4tYW5ub3VuY2VkL9IBc2h0dHBzOi8vd3d3LmFuZHJvaWRwb2xpY2UuY29tLzIwMjAvMTIvMDEvdGhlLWJlc3QtZ29vZ2xlLXBsYXktc3RvcmUtYXBwcy1hbmQtZ2FtZXMtb2YtMjAyMC1oYXZlLWJlZW4tYW5ub3VuY2VkLz9hbXA?oc=5\n",
      "Tue, 01 Dec 2020 13:00:00 GMT\n",
      "------------------------------------------------------------\n",
      "Xbox Operating Sytem Update Lets Players Preload Game Pass Games - IGN - IGN\n",
      "https://news.google.com/__i/rss/rd/articles/CBMiSmh0dHBzOi8vd3d3Lmlnbi5jb20vYXJ0aWNsZXMveGJveC11cGRhdGUtZHluYW1pYy10aGVtZXMtZ2FtZS1wYXNzLXByZWxvYWRz0gFQaHR0cHM6Ly93d3cuaWduLmNvbS9hcnRpY2xlcy94Ym94LXVwZGF0ZS1keW5hbWljLXRoZW1lcy1nYW1lLXBhc3MtcHJlbG9hZHM_YW1wPTE?oc=5\n",
      "Tue, 01 Dec 2020 13:58:51 GMT\n",
      "------------------------------------------------------------\n",
      "Helena Bonham Carter says 'The Crown' should stress it is fiction - Page Six\n",
      "https://news.google.com/__i/rss/rd/articles/CBMiX2h0dHBzOi8vcGFnZXNpeC5jb20vMjAyMC8xMS8zMC9oZWxlbmEtYm9uaGFtLWNhcnRlci1zYXlzLXRoZS1jcm93bi1zaG91bGQtc3RyZXNzLWl0LWlzLWZpY3Rpb24v0gFjaHR0cHM6Ly9wYWdlc2l4LmNvbS8yMDIwLzExLzMwL2hlbGVuYS1ib25oYW0tY2FydGVyLXNheXMtdGhlLWNyb3duLXNob3VsZC1zdHJlc3MtaXQtaXMtZmljdGlvbi9hbXAv?oc=5\n",
      "Tue, 01 Dec 2020 04:06:00 GMT\n",
      "------------------------------------------------------------\n",
      "For 4th Year, Vanity Fair Asks Billie Eilish Same Questions - Newser\n",
      "https://news.google.com/__i/rss/rd/articles/CBMiaGh0dHBzOi8vd3d3Lm5ld3Nlci5jb20vc3RvcnkvMjk5NDM5L3Zhbml0eS1mYWlyLWFza2VkLWJpbGxpZS1laWxpc2gtdGhlLXNhbWUtcXVlc3Rpb25zLWZvci00dGgteWVhci5odG1s0gFoaHR0cHM6Ly9hbXAubmV3c2VyLmNvbS9zdG9yeS8yOTk0MzkvdmFuaXR5LWZhaXItYXNrZWQtYmlsbGllLWVpbGlzaC10aGUtc2FtZS1xdWVzdGlvbnMtZm9yLTR0aC15ZWFyLmh0bWw?oc=5\n",
      "Tue, 01 Dec 2020 10:33:00 GMT\n",
      "------------------------------------------------------------\n",
      "New cut of Godfather Part 3 salvages Francis Ford Coppola’s film - Polygon\n",
      "https://news.google.com/__i/rss/rd/articles/CBMicWh0dHBzOi8vd3d3LnBvbHlnb24uY29tLzIwMjAvMTIvMS8yMTc1NTAzNi9nb2RmYXRoZXItcGFydC0zLW5ldy12ZXJzaW9uLWN1dC1yZXZpZXctY29kYS1kZWF0aC1vZi1taWNoYWVsLWNvcmxlb25l0gF-aHR0cHM6Ly93d3cucG9seWdvbi5jb20vcGxhdGZvcm0vYW1wLzIwMjAvMTIvMS8yMTc1NTAzNi9nb2RmYXRoZXItcGFydC0zLW5ldy12ZXJzaW9uLWN1dC1yZXZpZXctY29kYS1kZWF0aC1vZi1taWNoYWVsLWNvcmxlb25l?oc=5\n",
      "Tue, 01 Dec 2020 14:13:10 GMT\n",
      "------------------------------------------------------------\n",
      "Machine Gun Kelly on undergoing therapy for drug abuse: “The commitment to change is inspiring” - NME\n",
      "https://news.google.com/__i/rss/rd/articles/CBMigwFodHRwczovL3d3dy5ubWUuY29tL25ld3MvbXVzaWMvbWFjaGluZS1ndW4ta2VsbHktb24tdW5kZXJnb2luZy10aGVyYXB5LWZvci1kcnVnLWFidXNlLXRoZS1jb21taXRtZW50LXRvLWNoYW5nZS1pcy1pbnNwaXJpbmctMjgyOTA0N9IBhwFodHRwczovL3d3dy5ubWUuY29tL25ld3MvbXVzaWMvbWFjaGluZS1ndW4ta2VsbHktb24tdW5kZXJnb2luZy10aGVyYXB5LWZvci1kcnVnLWFidXNlLXRoZS1jb21taXRtZW50LXRvLWNoYW5nZS1pcy1pbnNwaXJpbmctMjgyOTA0Nz9hbXA?oc=5\n",
      "Tue, 01 Dec 2020 10:06:00 GMT\n",
      "------------------------------------------------------------\n",
      "Pittsburgh Steelers-Baltimore Ravens Game Postponed To Wednesday - CBS Pittsburgh\n",
      "https://news.google.com/__i/rss/rd/articles/CBMiV2h0dHBzOi8vcGl0dHNidXJnaC5jYnNsb2NhbC5jb20vMjAyMC8xMi8wMS9yYXZlbnMtdnMtc3RlZWxlcnMtY291bGQtYmUtcG9zdHBvbmVkLWFnYWluL9IBW2h0dHBzOi8vcGl0dHNidXJnaC5jYnNsb2NhbC5jb20vMjAyMC8xMi8wMS9yYXZlbnMtdnMtc3RlZWxlcnMtY291bGQtYmUtcG9zdHBvbmVkLWFnYWluL2FtcC8?oc=5\n",
      "Tue, 01 Dec 2020 12:45:00 GMT\n",
      "------------------------------------------------------------\n",
      "Morning Report: Daniel Cormier believes Jake Paul ‘beats up’ Dillon Danis in a boxing match, Danis responds - MMA Fighting\n",
      "https://news.google.com/__i/rss/rd/articles/CBMijQFodHRwczovL3d3dy5tbWFmaWdodGluZy5jb20vMjAyMC8xMi8xLzIxNzU0ODc1L21vcm5pbmctcmVwb3J0LWRhbmllbC1jb3JtaWVyLWpha2UtcGF1bC1iZWF0cy11cC1kaWxsb24tZGFuaXMtaW4tYS1ib3hpbmctbWF0Y2gtZGFuaXMtcmVzcG9uZHPSAZoBaHR0cHM6Ly93d3cubW1hZmlnaHRpbmcuY29tL3BsYXRmb3JtL2FtcC8yMDIwLzEyLzEvMjE3NTQ4NzUvbW9ybmluZy1yZXBvcnQtZGFuaWVsLWNvcm1pZXItamFrZS1wYXVsLWJlYXRzLXVwLWRpbGxvbi1kYW5pcy1pbi1hLWJveGluZy1tYXRjaC1kYW5pcy1yZXNwb25kcw?oc=5\n",
      "Tue, 01 Dec 2020 13:00:00 GMT\n",
      "------------------------------------------------------------\n",
      "Jimmie Ward, Javon Kinlaw Highlight 49ers Top Performers vs. Rams - 49ers.com\n",
      "https://news.google.com/__i/rss/rd/articles/CBMiYGh0dHBzOi8vd3d3LjQ5ZXJzLmNvbS9uZXdzL2ppbW1pZS13YXJkLWphdm9uLWtpbmxhdy1kZWViby1zYW11ZWwtcmljaGFyZC1zaGVybWFuLWdvZmYtNDllcnMtcmFtc9IBAA?oc=5\n",
      "Mon, 30 Nov 2020 23:21:12 GMT\n",
      "------------------------------------------------------------\n",
      "NFL Power Rankings Week 13 - 1-32 poll, plus the most important game left for each team - ESPN\n",
      "https://news.google.com/__i/rss/rd/articles/CBMidGh0dHBzOi8vd3d3LmVzcG4uY29tL25mbC9zdG9yeS9fL2lkLzMwNDIyOTE5L25mbC1wb3dlci1yYW5raW5ncy13ZWVrLTEzLTEtMzItcG9sbC1wbHVzLW1vc3QtaW1wb3J0YW50LWdhbWUtbGVmdC10ZWFt0gGBAWh0dHBzOi8vd3d3LmVzcG4uY29tL25mbC9zdG9yeS9fL2lkLzMwNDIyOTE5L25mbC1wb3dlci1yYW5raW5ncy13ZWVrLTEzLTEtMzItcG9sbC1wbHVzLW1vc3QtaW1wb3J0YW50LWdhbWUtbGVmdC10ZWFtP3BsYXRmb3JtPWFtcA?oc=5\n",
      "Tue, 01 Dec 2020 11:48:26 GMT\n",
      "------------------------------------------------------------\n",
      "Giant Arecibo radio telescope collapses in Puerto Rico - The Guardian\n",
      "https://news.google.com/__i/rss/rd/articles/CBMiW2h0dHBzOi8vd3d3LnRoZWd1YXJkaWFuLmNvbS93b3JsZC8yMDIwL2RlYy8wMS9hcmVjaWJvLXJhZGlvLXRlbGVzY29wZS1jb2xsYXBzZXMtcHVlcnRvLXJpY2_SAVtodHRwczovL2FtcC50aGVndWFyZGlhbi5jb20vd29ybGQvMjAyMC9kZWMvMDEvYXJlY2liby1yYWRpby10ZWxlc2NvcGUtY29sbGFwc2VzLXB1ZXJ0by1yaWNv?oc=5\n",
      "Tue, 01 Dec 2020 14:17:00 GMT\n",
      "------------------------------------------------------------\n",
      "AI system solves 50-year-old protein folding problem in hours - Livescience.com\n",
      "https://news.google.com/__i/rss/rd/articles/CBMiUWh0dHBzOi8vd3d3LmxpdmVzY2llbmNlLmNvbS9hcnRpZmljaWFsLWludGVsbGlnZW5jZS1wcm90ZWluLWZvbGRpbmctZGVlcG1pbmQuaHRtbNIBVWh0dHBzOi8vd3d3LmxpdmVzY2llbmNlLmNvbS9hbXAvYXJ0aWZpY2lhbC1pbnRlbGxpZ2VuY2UtcHJvdGVpbi1mb2xkaW5nLWRlZXBtaW5kLmh0bWw?oc=5\n",
      "Tue, 01 Dec 2020 12:00:00 GMT\n",
      "------------------------------------------------------------\n",
      "Sprawling 8-mile-long 'canvas' of ice age beasts discovered hidden in Amazon rainforest - Livescience.com\n",
      "https://news.google.com/__i/rss/rd/articles/CBMiOGh0dHBzOi8vd3d3LmxpdmVzY2llbmNlLmNvbS9pY2UtYWdlLXJvY2stYXJ0LWFtYXpvbi5odG1s0gE8aHR0cHM6Ly93d3cubGl2ZXNjaWVuY2UuY29tL2FtcC9pY2UtYWdlLXJvY2stYXJ0LWFtYXpvbi5odG1s?oc=5\n",
      "Tue, 01 Dec 2020 12:00:00 GMT\n",
      "------------------------------------------------------------\n",
      "Astronomers Just Mapped 1 Million Previously Unknown Galaxies, And You Can Take a Tour - ScienceAlert\n",
      "https://news.google.com/__i/rss/rd/articles/CBMiXmh0dHBzOi8vd3d3LnNjaWVuY2VhbGVydC5jb20vdGFrZS1hLXZpcnR1YWwtdG91ci1vZi1hLW1pbGxpb24tcHJldmlvdXNseS11bmRpc2NvdmVyZWQtZ2FsYXhpZXPSAWJodHRwczovL3d3dy5zY2llbmNlYWxlcnQuY29tL3Rha2UtYS12aXJ0dWFsLXRvdXItb2YtYS1taWxsaW9uLXByZXZpb3VzbHktdW5kaXNjb3ZlcmVkLWdhbGF4aWVzL2FtcA?oc=5\n",
      "Tue, 01 Dec 2020 00:34:10 GMT\n",
      "------------------------------------------------------------\n",
      "Who Will Get the Coronavirus Vaccine First? - The New York Times\n",
      "https://news.google.com/__i/rss/rd/articles/CBMiT2h0dHBzOi8vd3d3Lm55dGltZXMuY29tLzIwMjAvMTIvMDEvaGVhbHRoL2NvdmlkLXZhY2NpbmUtZGlzdHJpYnV0aW9uLWZpcnN0Lmh0bWzSAVNodHRwczovL3d3dy5ueXRpbWVzLmNvbS8yMDIwLzEyLzAxL2hlYWx0aC9jb3ZpZC12YWNjaW5lLWRpc3RyaWJ1dGlvbi1maXJzdC5hbXAuaHRtbA?oc=5\n",
      "Tue, 01 Dec 2020 10:00:00 GMT\n",
      "------------------------------------------------------------\n",
      "Mexico in ‘bad shape’ with coronavirus pandemic, WHO chief warns - Fox News\n",
      "https://news.google.com/__i/rss/rd/articles/CBMiP2h0dHBzOi8vd3d3LmZveG5ld3MuY29tL2hlYWx0aC93aG8tbWV4aWNvLWJhZC1zaGFwZS1jb3JvbmF2aXJ1c9IBQ2h0dHBzOi8vd3d3LmZveG5ld3MuY29tL2hlYWx0aC93aG8tbWV4aWNvLWJhZC1zaGFwZS1jb3JvbmF2aXJ1cy5hbXA?oc=5\n",
      "Tue, 01 Dec 2020 13:40:03 GMT\n",
      "------------------------------------------------------------\n",
      "Study: COVID-19 Reached US Earlier Than Health Officials Previously Thought : Coronavirus Updates - NPR\n",
      "https://news.google.com/__i/rss/rd/articles/CBMikAFodHRwczovL3d3dy5ucHIub3JnL3NlY3Rpb25zL2Nvcm9uYXZpcnVzLWxpdmUtdXBkYXRlcy8yMDIwLzEyLzAxLzk0MDM5NTY1MS9jb3JvbmF2aXJ1cy13YXMtaW4tdS1zLXdlZWtzLWVhcmxpZXItdGhhbi1wcmV2aW91c2x5LWtub3duLXN0dWR5LXNheXPSAQA?oc=5\n",
      "Tue, 01 Dec 2020 07:50:31 GMT\n",
      "------------------------------------------------------------\n",
      "Michigan Couple Married for 47 Years Die From COVID-19 on the Same Day - NBC 7 San Diego\n",
      "https://news.google.com/__i/rss/rd/articles/CBMifGh0dHBzOi8vd3d3Lm5iY3NhbmRpZWdvLmNvbS9uZXdzL2Nvcm9uYXZpcnVzL21pY2hpZ2FuLWNvdXBsZS1tYXJyaWVkLWZvci00Ny15ZWFycy1kaWUtZnJvbS1jb3ZpZC0xOS1vbi10aGUtc2FtZS1kYXkvNTYwNTU5OS_SAYsBaHR0cHM6Ly93d3cubmJjc2FuZGllZ28uY29tL25ld3MvbmF0aW9uYWwtaW50ZXJuYXRpb25hbC9taWNoaWdhbi1jb3VwbGUtbWFycmllZC1mb3ItNDcteWVhcnMtZGllLWZyb20tY292aWQtMTktb24tdGhlLXNhbWUtZGF5LzI0NTc4NTkvP2FtcA?oc=5\n",
      "Tue, 01 Dec 2020 05:25:00 GMT\n",
      "------------------------------------------------------------\n"
     ]
    }
   ],
   "source": [
    "import bs4\n",
    "from bs4 import BeautifulSoup as soup\n",
    "from urllib.request import urlopen\n",
    "\n",
    "news_url=\"https://news.google.com/news/rss\"\n",
    "Client=urlopen(news_url)\n",
    "xml_page=Client.read()\n",
    "Client.close()\n",
    "\n",
    "soup_page=soup(xml_page,\"xml\")\n",
    "news_list=soup_page.findAll(\"item\")\n",
    "# Print news title, url and publish date\n",
    "for news in news_list:\n",
    "    print(news.title.text)\n",
    "    print(news.link.text)\n",
    "    print(news.pubDate.text)\n",
    "    print(\"-\"*60)"
   ]
  },
  {
   "cell_type": "markdown",
   "metadata": {},
   "source": [
    "## 10 Write a Python program to display some information about the OS where the script is running.\n"
   ]
  },
  {
   "cell_type": "code",
   "execution_count": 7,
   "metadata": {},
   "outputs": [
    {
     "name": "stdout",
     "output_type": "stream",
     "text": [
      "architecture ::('64bit', 'WindowsPE')\n",
      "linux_distribution ::('', '', '')\n",
      "mac_ver ::('', ('', '', ''), '')\n",
      "machine ::AMD64\n",
      "node ::DESKTOP-H1N7ERP\n",
      "platform ::Windows-10-10.0.18362-SP0\n",
      "processor ::Intel64 Family 6 Model 60 Stepping 3, GenuineIntel\n",
      "python_build ::('default', 'Aug  9 2019 18:34:13')\n",
      "python_compiler ::MSC v.1915 64 bit (AMD64)\n",
      "python_version ::3.7.4\n",
      "release ::10\n",
      "system ::Windows\n",
      "uname ::uname_result(system='Windows', node='DESKTOP-H1N7ERP', release='10', version='10.0.18362', machine='AMD64', processor='Intel64 Family 6 Model 60 Stepping 3, GenuineIntel')\n",
      "version ::10.0.18362\n"
     ]
    },
    {
     "name": "stderr",
     "output_type": "stream",
     "text": [
      "C:\\ProgramData\\Anaconda3\\lib\\site-packages\\ipykernel_launcher.py:20: DeprecationWarning: dist() and linux_distribution() functions are deprecated in Python 3.5\n"
     ]
    }
   ],
   "source": [
    "import platform as p\n",
    "OS_Profile = ['architecture',\n",
    "        'linux_distribution',\n",
    "        'mac_ver',\n",
    "        'machine',\n",
    "        'node',\n",
    "        'platform',\n",
    "        'processor',\n",
    "        'python_build',\n",
    "        'python_compiler',\n",
    "        'python_version',\n",
    "        'release',\n",
    "        'system',\n",
    "        'uname',\n",
    "        'version',\n",
    "    \n",
    "]\n",
    "for pointer in OS_Profile :\n",
    "    if hasattr(p , pointer) :\n",
    "        print(pointer + \" ::\" + str(getattr(p , pointer)()))"
   ]
  },
  {
   "cell_type": "markdown",
   "metadata": {},
   "source": [
    "## 11 Write a Python program to check the sum of three elements (each from an array) from three arrays is equal to a target value. Print all those three-element combinations.\n"
   ]
  },
  {
   "cell_type": "code",
   "execution_count": 10,
   "metadata": {},
   "outputs": [
    {
     "name": "stdout",
     "output_type": "stream",
     "text": [
      "[(10, 20, 40), (10, 30, 30), (10, 40, 20), (20, 10, 40), (20, 20, 30), (20, 30, 20), (20, 40, 10), (20, 10, 40), (20, 20, 30), (20, 30, 20), (20, 40, 10), (20, 10, 40), (20, 20, 30), (20, 30, 20), (20, 40, 10)]\n",
      "======================================================================\n"
     ]
    },
    {
     "data": {
      "text/plain": [
       "[(10, 20, 40),\n",
       " (10, 30, 30),\n",
       " (10, 40, 20),\n",
       " (20, 10, 40),\n",
       " (20, 20, 30),\n",
       " (20, 30, 20),\n",
       " (20, 40, 10),\n",
       " (20, 10, 40),\n",
       " (20, 20, 30),\n",
       " (20, 30, 20),\n",
       " (20, 40, 10),\n",
       " (20, 10, 40),\n",
       " (20, 20, 30),\n",
       " (20, 30, 20),\n",
       " (20, 40, 10)]"
      ]
     },
     "execution_count": 10,
     "metadata": {},
     "output_type": "execute_result"
    }
   ],
   "source": [
    "X = [10, 20, 20, 20]\n",
    "Y = [10, 20, 30, 40]\n",
    "Z = [10, 30, 40, 20]\n",
    "\n",
    "print([( x , y , z ) for x in X for y in Y for z in Z if ( x + y + z ) == 70])\n",
    "print(\"======================================================================\")\n",
    "[( x , y , z ) for x in X for y in Y for z in Z if ( x + y + z ) == 70]"
   ]
  },
  {
   "cell_type": "code",
   "execution_count": 11,
   "metadata": {},
   "outputs": [
    {
     "name": "stdout",
     "output_type": "stream",
     "text": [
      "{(10, 20, 40)}\n",
      "{(10, 20, 40), (10, 30, 30)}\n",
      "{(10, 20, 40), (10, 30, 30), (10, 40, 20)}\n",
      "{(10, 20, 40), (10, 30, 30), (20, 10, 40), (10, 40, 20)}\n",
      "{(10, 20, 40), (10, 40, 20), (20, 10, 40), (10, 30, 30), (20, 20, 30)}\n",
      "{(10, 20, 40), (10, 40, 20), (20, 10, 40), (10, 30, 30), (20, 20, 30), (20, 30, 20)}\n",
      "{(10, 20, 40), (10, 40, 20), (20, 10, 40), (20, 40, 10), (10, 30, 30), (20, 20, 30), (20, 30, 20)}\n"
     ]
    }
   ],
   "source": [
    "from array import *\n",
    "X = array('i',[10, 20, 20, 20])\n",
    "Y = array('i',[10, 20, 30, 40])\n",
    "Z = array('i',[10, 30, 40, 20])\n",
    "target = 70\n",
    "lis = []\n",
    "for x in X :\n",
    "    for y in Y :\n",
    "        for z in Z :\n",
    "            if (x+y+z) == target and ( x, y , z ) not in lis :\n",
    "                lis.append(( x , y , z))\n",
    "                print(set(lis))"
   ]
  },
  {
   "cell_type": "markdown",
   "metadata": {},
   "source": [
    "## 12 Write a Python program to create all possible permutations from a given collection of distinct numbers.\n"
   ]
  },
  {
   "cell_type": "code",
   "execution_count": 12,
   "metadata": {},
   "outputs": [
    {
     "name": "stdout",
     "output_type": "stream",
     "text": [
      "(10, 20, 30)\n",
      "(10, 30, 20)\n",
      "(20, 10, 30)\n",
      "(20, 30, 10)\n",
      "(30, 10, 20)\n",
      "(30, 20, 10)\n"
     ]
    }
   ],
   "source": [
    "import itertools as it\n",
    "lis = [ 10 , 20 , 30]\n",
    "for i in it.permutations(lis) :\n",
    "    print(i)"
   ]
  },
  {
   "cell_type": "code",
   "execution_count": 13,
   "metadata": {},
   "outputs": [
    {
     "name": "stdout",
     "output_type": "stream",
     "text": [
      "[(10, 20, 30), (10, 30, 20), (20, 10, 30), (20, 30, 10), (30, 10, 20), (30, 20, 10)]\n"
     ]
    }
   ],
   "source": [
    "print(list(it.permutations(lis)))"
   ]
  },
  {
   "cell_type": "code",
   "execution_count": 19,
   "metadata": {},
   "outputs": [
    {
     "name": "stdout",
     "output_type": "stream",
     "text": [
      "Enter the nums of list plz :: 123\n"
     ]
    },
    {
     "data": {
      "text/plain": [
       "[('1', '2', '3'),\n",
       " ('1', '3', '2'),\n",
       " ('2', '1', '3'),\n",
       " ('2', '3', '1'),\n",
       " ('3', '1', '2'),\n",
       " ('3', '2', '1')]"
      ]
     },
     "execution_count": 19,
     "metadata": {},
     "output_type": "execute_result"
    }
   ],
   "source": [
    "def peru() :\n",
    "    Inpu = (input(\"Enter the nums of list plz :: \"))\n",
    "    return list(it.permutations(Inpu))\n",
    "\n",
    "peru()"
   ]
  },
  {
   "cell_type": "markdown",
   "metadata": {},
   "source": [
    "## 14 Write a Python program to add two positive integers without using the '+' operator. Go to the editor\n"
   ]
  },
  {
   "cell_type": "code",
   "execution_count": 20,
   "metadata": {},
   "outputs": [
    {
     "name": "stdout",
     "output_type": "stream",
     "text": [
      "Enter the value of X  Plz ::10\n",
      "Enter the value of Y  Plz ::20\n"
     ]
    },
    {
     "data": {
      "text/plain": [
       "30"
      ]
     },
     "execution_count": 20,
     "metadata": {},
     "output_type": "execute_result"
    }
   ],
   "source": [
    "import operator as o\n",
    "def summ () :\n",
    "    X = int(input(\"Enter the value of X  Plz ::\"))\n",
    "    Y = int(input(\"Enter the value of Y  Plz ::\"))\n",
    "    return o.add(X,Y)\n",
    "summ()"
   ]
  },
  {
   "cell_type": "code",
   "execution_count": 23,
   "metadata": {},
   "outputs": [
    {
     "data": {
      "text/plain": [
       "30"
      ]
     },
     "execution_count": 23,
     "metadata": {},
     "output_type": "execute_result"
    }
   ],
   "source": [
    "sum([10,20])"
   ]
  },
  {
   "cell_type": "markdown",
   "metadata": {},
   "source": [
    "## 15 Write a Python program to check the priority of the four operators (+, -, *, /).\n"
   ]
  },
  {
   "cell_type": "code",
   "execution_count": 24,
   "metadata": {},
   "outputs": [
    {
     "name": "stdout",
     "output_type": "stream",
     "text": [
      "True\n",
      "True\n",
      "False\n",
      "False\n",
      "True\n"
     ]
    }
   ],
   "source": [
    "from collections import deque\n",
    "import re\n",
    "\n",
    "__operators__ = \"+-/*\"\n",
    "__parenthesis__ = \"()\"\n",
    "__priority__ = {\n",
    "    '+': 0,\n",
    "    '-': 0,\n",
    "    '*': 1,\n",
    "    '/': 1,\n",
    "}\n",
    "\n",
    "def test_higher_priority(operator1, operator2):\n",
    "    return __priority__[operator1] >= __priority__[operator2]\n",
    "\n",
    "print(test_higher_priority('*','-'))\n",
    "print(test_higher_priority('+','-'))\n",
    "print(test_higher_priority('+','*'))\n",
    "print(test_higher_priority('+','/'))\n",
    "print(test_higher_priority('*','/'))\n"
   ]
  },
  {
   "cell_type": "code",
   "execution_count": null,
   "metadata": {},
   "outputs": [],
   "source": []
  }
 ],
 "metadata": {
  "kernelspec": {
   "display_name": "Python 3",
   "language": "python",
   "name": "python3"
  }
 },
 "nbformat": 4,
 "nbformat_minor": 2
}
