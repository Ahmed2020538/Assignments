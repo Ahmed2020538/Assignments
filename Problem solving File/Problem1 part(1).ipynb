{
 "cells": [
  {
   "cell_type": "markdown",
   "metadata": {},
   "source": [
    " 1 ::To get the python Version and info about it"
   ]
  },
  {
   "cell_type": "code",
   "execution_count": 1,
   "metadata": {},
   "outputs": [
    {
     "name": "stdout",
     "output_type": "stream",
     "text": [
      "The Python Version is :: 3.7.4 (default, Aug  9 2019, 18:34:13) [MSC v.1915 64 bit (AMD64)]\n",
      "=======================================\n",
      "The Python Version_info is :: sys.version_info(major=3, minor=7, micro=4, releaselevel='final', serial=0)\n"
     ]
    }
   ],
   "source": [
    "import sys \n",
    "print(f\"The Python Version is :: {sys.version}\")\n",
    "print(\"=======================================\")\n",
    "print(f\"The Python Version_info is :: {sys.version_info}\")"
   ]
  },
  {
   "cell_type": "markdown",
   "metadata": {},
   "source": [
    "2 :: To get the date now and  reformat it"
   ]
  },
  {
   "cell_type": "code",
   "execution_count": 4,
   "metadata": {},
   "outputs": [
    {
     "name": "stdout",
     "output_type": "stream",
     "text": [
      "the recurrent datetime is :: 2020-11-24 14:50:53.422561\n",
      "===============\n",
      "2020 _ 11 _ 24 ::: 14 : 50 : 53\n"
     ]
    }
   ],
   "source": [
    "import datetime as dt\n",
    "now = dt.datetime.now()\n",
    "print(f\"the recurrent datetime is :: {now}\")\n",
    "print(\"===============\")\n",
    "print(now.strftime(\"%Y _ %m _ %d ::: %H : %M : %S\"))"
   ]
  },
  {
   "cell_type": "markdown",
   "metadata": {},
   "source": [
    "3 :: Write a Python program which accepts the radius of a circle from the user and compute the area"
   ]
  },
  {
   "cell_type": "code",
   "execution_count": 1,
   "metadata": {},
   "outputs": [
    {
     "name": "stdout",
     "output_type": "stream",
     "text": [
      "Enter the redius plz ::89\n",
      "The area of ciricle = pi*r**2 = 24884.55540908475\n",
      "============================\n",
      "The area of ciricle = pi*r**2 = 24884\n"
     ]
    }
   ],
   "source": [
    "from math import pi\n",
    "r = float(input(\"Enter the redius plz ::\"))\n",
    "print(f\"The area of ciricle = pi*r**2 = {pi * r**2}\")\n",
    "print(\"============================\")\n",
    "print(f\"The area of ciricle = pi*r**2 = {int(pi * r**2)}\")"
   ]
  },
  {
   "cell_type": "markdown",
   "metadata": {},
   "source": [
    "4:: Write a Python program which accepts the user's first and last name and print them in reverse order with a space between them"
   ]
  },
  {
   "cell_type": "code",
   "execution_count": 4,
   "metadata": {},
   "outputs": [
    {
     "name": "stdout",
     "output_type": "stream",
     "text": [
      "Enter The First Name plz ::Ahmed\n",
      "Enter The Second Name plz ::Elsayed\n",
      "===========================\n",
      "The User Name is :: Ahmed Elsayed\n",
      "===========================\n",
      "The reverse of User Name is :: Elsayed Ahmed\n"
     ]
    }
   ],
   "source": [
    "fname = input(\"Enter The First Name plz ::\")\n",
    "sname = input(\"Enter The Second Name plz ::\")\n",
    "print(\"===========================\")\n",
    "print(f\"The User Name is :: {fname} {sname}\")\n",
    "print(\"===========================\")\n",
    "print(f\"The reverse of User Name is :: {sname} {fname}\")"
   ]
  },
  {
   "cell_type": "markdown",
   "metadata": {},
   "source": [
    " 5:: Write a Python program which accepts a sequence of comma-separated numbers from user and generate a list and a tuple with those numbers.\n"
   ]
  },
  {
   "cell_type": "code",
   "execution_count": 7,
   "metadata": {},
   "outputs": [
    {
     "name": "stdout",
     "output_type": "stream",
     "text": [
      "Enter diff numbers plz ::2,3,4,5,3,2,8,9,5\n",
      "Enter diff values plz ::1,2,43,4,5,6,7,8,9\n",
      "The list of nums is :: ['2', '3', '4', '5', '3', '2', '8', '9', '5']\n",
      "==========\n",
      "The Tuple of nums is :: ('2', '3', '4', '5', '3', '2', '8', '9', '5')\n",
      "==========\n",
      "The set of nums is :: {'3', '4', '5', '8', '2', '9'}\n",
      "===========\n",
      "Unpacking list into tuple and dict\n",
      "===============\n",
      "The unpacking list into Tuple is :: (('2',), ('3',), ('4',), ('5',), ('3',), ('2',), ('8',), ('9',), ('5',))\n",
      "=====================\n",
      "The unpacking list into dic is :: {'2': '6', '3': '5', '4': '43', '5': '9', '8': '7', '9': '8'}\n"
     ]
    }
   ],
   "source": [
    "nums = (input(\"Enter diff numbers plz ::\")).split(\",\")\n",
    "values= (input(\"Enter diff values plz ::\")).split(\",\")\n",
    "print(f\"The list of nums is :: {list(nums)}\")\n",
    "print(\"==========\")\n",
    "print(f\"The Tuple of nums is :: {tuple(nums)}\")\n",
    "print(\"==========\")\n",
    "print(f\"The set of nums is :: {set(nums)}\")\n",
    "#print(f\"The dict of nums is :: {dict(nums)}\")\n",
    "print(\"===========\")\n",
    "print(\"Unpacking list into tuple and dict\")\n",
    "print(\"===============\")\n",
    "print(f\"The unpacking list into Tuple is :: {tuple(zip(nums))}\")\n",
    "print(\"=====================\")\n",
    "print(f\"The unpacking list into dic is :: {dict(zip(nums,values))}\")\n"
   ]
  },
  {
   "cell_type": "markdown",
   "metadata": {},
   "source": [
    "6:: Write a Python program to accept a filename from the user and print the extension of that"
   ]
  },
  {
   "cell_type": "code",
   "execution_count": 14,
   "metadata": {},
   "outputs": [
    {
     "name": "stdout",
     "output_type": "stream",
     "text": [
      "Enter the text plz :: Ahmed Elsayed Ebrahim\n",
      "['Ahmed', 'Elsayed', 'Ebrahim']\n",
      "====\n",
      "Elsayed\n",
      "====\n",
      "Ahmed\n",
      "====\n",
      "Ebrahim\n"
     ]
    }
   ],
   "source": [
    "file = input(\"Enter the text plz :: \").split()\n",
    "print(file)\n",
    "print(\"====\")\n",
    "print(file[1])\n",
    "print(\"====\")\n",
    "print(file[0])\n",
    "print(\"====\")\n",
    "print(file[-1])"
   ]
  },
  {
   "cell_type": "code",
   "execution_count": 17,
   "metadata": {},
   "outputs": [
    {
     "name": "stdout",
     "output_type": "stream",
     "text": [
      "Who Are u ? ::Ahmed\n",
      "Hello Ahmed\n",
      "================\n",
      "Hello Ahmed\n"
     ]
    }
   ],
   "source": [
    "text = input(\"Who Are u ? ::\")\n",
    "print(\"Hello %s\" %(text,))\n",
    "print(\"================\")\n",
    "print(f\"Hello {text}\")"
   ]
  },
  {
   "cell_type": "markdown",
   "metadata": {},
   "source": [
    "7 :: Write a Python program to display the first and last colors from the following list"
   ]
  },
  {
   "cell_type": "code",
   "execution_count": 20,
   "metadata": {},
   "outputs": [
    {
     "name": "stdout",
     "output_type": "stream",
     "text": [
      "Red\n",
      "=====\n",
      "Gray\n"
     ]
    }
   ],
   "source": [
    "l_cols = [\"Red\" , \"yellow\" , \"Black\" , \"Whiet\" , \"Gray\"]\n",
    "print(l_cols[0])\n",
    "print(\"=====\")\n",
    "print(l_cols[-1])"
   ]
  },
  {
   "cell_type": "code",
   "execution_count": 21,
   "metadata": {},
   "outputs": [
    {
     "name": "stdout",
     "output_type": "stream",
     "text": [
      "Red Gray \n"
     ]
    }
   ],
   "source": [
    "print(\"%s %s \" %(l_cols[0] , l_cols[-1]))"
   ]
  },
  {
   "cell_type": "markdown",
   "metadata": {},
   "source": [
    "8 :: Write a Python program to display the examination schedule. (extract the date from exam_st_date)."
   ]
  },
  {
   "cell_type": "code",
   "execution_count": 31,
   "metadata": {},
   "outputs": [
    {
     "name": "stdout",
     "output_type": "stream",
     "text": [
      " the Examination is ::  :: (25, 11, 2020)\n",
      "======================================\n",
      "The Examination is 25/11/2020\n",
      "The Examination is 30/11/2020/10:30:10\n",
      "None\n"
     ]
    }
   ],
   "source": [
    "Exam_St_date = (25,11,2020)\n",
    "Exam_St_date1 = (30,11,2020,10,30,10)\n",
    "print(f\" the Examination is ::  :: {Exam_St_date}\")\n",
    "print(\"======================================\")\n",
    "print(\"The Examination is %i/%i/%i\" %(Exam_St_date))\n",
    "print(print(\"The Examination is %i/%i/%i/%i:%i:%i\" %(Exam_St_date1)))"
   ]
  },
  {
   "cell_type": "markdown",
   "metadata": {},
   "source": [
    "9:: Write a Python program that accepts an integer (n) and computes the value of n+nn+nnn."
   ]
  },
  {
   "cell_type": "code",
   "execution_count": 36,
   "metadata": {},
   "outputs": [
    {
     "name": "stdout",
     "output_type": "stream",
     "text": [
      "Enter the num plz :: 10\n",
      "102030\n"
     ]
    }
   ],
   "source": [
    "n = int(input(\"Enter the num plz :: \"))\n",
    "n1 = int(\"%s\" %n)\n",
    "n2 = int('%s%s' %(n,n))\n",
    "n3 = int(\"%s%s%s\" %(n,n,n))\n",
    "print(n1+n2+n3)\n",
    "\n"
   ]
  },
  {
   "cell_type": "markdown",
   "metadata": {},
   "source": [
    "10 :: Write a Python program to print the documents (syntax, description etc.) of Python built-in function(s)."
   ]
  },
  {
   "cell_type": "code",
   "execution_count": 38,
   "metadata": {},
   "outputs": [
    {
     "data": {
      "text/plain": [
       "'Return the absolute value of the argument.'"
      ]
     },
     "execution_count": 38,
     "metadata": {},
     "output_type": "execute_result"
    }
   ],
   "source": [
    "abs.__doc__"
   ]
  },
  {
   "cell_type": "code",
   "execution_count": null,
   "metadata": {},
   "outputs": [],
   "source": []
  }
 ],
 "metadata": {
  "kernelspec": {
   "display_name": "Python 3",
   "language": "python",
   "name": "python3"
  },
  "language_info": {
   "codemirror_mode": {
    "name": "ipython",
    "version": 3
   },
   "file_extension": ".py",
   "mimetype": "text/x-python",
   "name": "python",
   "nbconvert_exporter": "python",
   "pygments_lexer": "ipython3",
   "version": "3.7.4"
  }
 },
 "nbformat": 4,
 "nbformat_minor": 2
}
