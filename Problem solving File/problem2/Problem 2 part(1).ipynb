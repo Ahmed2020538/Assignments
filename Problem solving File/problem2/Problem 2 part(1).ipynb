{
 "cells": [
  {
   "cell_type": "markdown",
   "metadata": {},
   "source": [
    "## 51 Write a Python program to determine profiling of Python programs.\n"
   ]
  },
  {
   "cell_type": "code",
   "execution_count": 2,
   "metadata": {},
   "outputs": [
    {
     "name": "stdout",
     "output_type": "stream",
     "text": [
      "         4 function calls in 0.000 seconds\n",
      "\n",
      "   Ordered by: standard name\n",
      "\n",
      "   ncalls  tottime  percall  cumtime  percall filename:lineno(function)\n",
      "        1    0.000    0.000    0.000    0.000 <ipython-input-2-e36d4e6385f1>:2(summ)\n",
      "        1    0.000    0.000    0.000    0.000 <string>:1(<module>)\n",
      "        1    0.000    0.000    0.000    0.000 {built-in method builtins.exec}\n",
      "        1    0.000    0.000    0.000    0.000 {method 'disable' of '_lsprof.Profiler' objects}\n",
      "\n",
      "\n"
     ]
    }
   ],
   "source": [
    "import cProfile \n",
    "def summ () :\n",
    "    return(1+2)\n",
    "cProfile.run(\"summ()\")"
   ]
  },
  {
   "cell_type": "markdown",
   "metadata": {},
   "source": [
    "## 54 Write a Python program to get the current username.\n"
   ]
  },
  {
   "cell_type": "code",
   "execution_count": 4,
   "metadata": {},
   "outputs": [
    {
     "name": "stdout",
     "output_type": "stream",
     "text": [
      "Ahmed\n"
     ]
    }
   ],
   "source": [
    "import getpass as gts\n",
    "print(gts.getuser())"
   ]
  },
  {
   "cell_type": "markdown",
   "metadata": {},
   "source": [
    "## 55 Write a Python to find local IP addresses using Python's stdlib.\n"
   ]
  },
  {
   "cell_type": "code",
   "execution_count": 5,
   "metadata": {},
   "outputs": [
    {
     "name": "stdout",
     "output_type": "stream",
     "text": [
      "192.168.1.2\n"
     ]
    }
   ],
   "source": [
    "import socket\n",
    "print([l for l in ([ip for ip in socket.gethostbyname_ex(socket.gethostname())[2] \n",
    "if not ip.startswith(\"127.\")][:1], [[(s.connect(('8.8.8.8', 53)), \n",
    "s.getsockname()[0], s.close()) for s in [socket.socket(socket.AF_INET, \n",
    "socket.SOCK_DGRAM)]][0][1]]) if l][0][0])\n"
   ]
  },
  {
   "cell_type": "markdown",
   "metadata": {},
   "source": [
    "## 58 Write a python program to find the sum of the first n positive integers.\n"
   ]
  },
  {
   "cell_type": "code",
   "execution_count": 6,
   "metadata": {},
   "outputs": [
    {
     "name": "stdout",
     "output_type": "stream",
     "text": [
      "Enter The Num plz :: 8\n",
      "36\n"
     ]
    }
   ],
   "source": [
    "Num = int(input(\"Enter The Num plz :: \"))\n",
    "Sum_Num = (Num*(Num + 1))//2\n",
    "print(Sum_Num)"
   ]
  },
  {
   "cell_type": "markdown",
   "metadata": {},
   "source": [
    "## 59 Write a Python program to convert height (in feet and inches) to centimeters.\n"
   ]
  },
  {
   "cell_type": "code",
   "execution_count": 3,
   "metadata": {},
   "outputs": [
    {
     "name": "stdout",
     "output_type": "stream",
     "text": [
      "Enter The height in feet Plz ::10\n",
      "Enter the height in inches plz ::20\n",
      "The heigh in cm is :: 355.6\n",
      "=============================\n",
      "The hight in cm is 355\n"
     ]
    }
   ],
   "source": [
    "h_ft = int(input(\"Enter The height in feet Plz ::\"))\n",
    "h_inch = int(input(\"Enter the height in inches plz ::\"))\n",
    "h_inch += h_ft * 12\n",
    "h_cm = round(h_inch * 2.54 ,1)\n",
    "print(f\"The heigh in cm is :: {h_cm}\")\n",
    "print(\"=============================\")\n",
    "print(\"The hight in cm is %d\" %(h_cm))\n"
   ]
  },
  {
   "cell_type": "markdown",
   "metadata": {},
   "source": [
    "## 60 Write a Python program to calculate the hypotenuse of a right angled triangle.\n"
   ]
  },
  {
   "cell_type": "code",
   "execution_count": 1,
   "metadata": {},
   "outputs": [
    {
     "name": "stdout",
     "output_type": "stream",
     "text": [
      "Enter the first side of triangle plz ::10\n",
      "Enter The second side of triangle plz ::20\n",
      "The hypotenuse of the triangle is :: 22.360679774997898\n",
      "============================================\n",
      "The hypotenuse of the triangle is :: 22\n"
     ]
    }
   ],
   "source": [
    "from math import sqrt\n",
    "A = float(input(\"Enter the first side of triangle plz ::\"))\n",
    "B = float(input(\"Enter The second side of triangle plz ::\"))\n",
    "Hypo = sqrt(A**2 + B**2)\n",
    "print(f\"The hypotenuse of the triangle is :: {Hypo}\")\n",
    "print(\"============================================\")\n",
    "print(f\"The hypotenuse of the triangle is :: {int(Hypo)}\")"
   ]
  },
  {
   "cell_type": "markdown",
   "metadata": {},
   "source": [
    "## 61 Write a Python program to convert the distance (in feet) to inches, yards, and miles.\n"
   ]
  },
  {
   "cell_type": "code",
   "execution_count": 3,
   "metadata": {},
   "outputs": [
    {
     "name": "stdout",
     "output_type": "stream",
     "text": [
      "The distance in inchese is %i 1200 inches\n",
      "The distance in yards is %.2f yards. 33.333333333333336 yards\n",
      "The distance in miles is %.2f miles. 18.939393939393938 miles\n"
     ]
    }
   ],
   "source": [
    "def convert_dic (n) :\n",
    "    print(\"The distance in inchese is %i\" ,(n*12),'inches')\n",
    "    print(\"The distance in yards is %.2f yards.\" ,(n/3),'yards')\n",
    "    print(\"The distance in miles is %.2f miles.\" ,(n/5.280),'miles')\n",
    "    \n",
    "convert_dic(100)"
   ]
  },
  {
   "cell_type": "markdown",
   "metadata": {},
   "source": [
    "## 62 Write a Python program to convert all units of time into seconds.\n"
   ]
  },
  {
   "cell_type": "code",
   "execution_count": 4,
   "metadata": {},
   "outputs": [
    {
     "name": "stdout",
     "output_type": "stream",
     "text": [
      "Enter the days plz ::24\n",
      "Enter the houres plz ::12\n",
      "Enter the minuties plz ::60\n",
      "Enter the seconds plz :: 60\n",
      "The Time is :: 2120460\n"
     ]
    }
   ],
   "source": [
    "days = int(input(\"Enter the days plz ::\"))*3600*24\n",
    "houres = int(input(\"Enter the houres plz ::\"))*3600\n",
    "minuties = int(input(\"Enter the minuties plz ::\"))*60\n",
    "second = int(input(\"Enter the seconds plz :: \"))\n",
    "Time = days + houres + minuties + second\n",
    "print(f\"The Time is :: {Time}\")\n"
   ]
  },
  {
   "cell_type": "code",
   "execution_count": null,
   "metadata": {},
   "outputs": [],
   "source": []
  }
 ],
 "metadata": {
  "kernelspec": {
   "display_name": "Python 3",
   "language": "python",
   "name": "python3"
  },
  "language_info": {
   "codemirror_mode": {
    "name": "ipython",
    "version": 3
   },
   "file_extension": ".py",
   "mimetype": "text/x-python",
   "name": "python",
   "nbconvert_exporter": "python",
   "pygments_lexer": "ipython3",
   "version": "3.7.4"
  }
 },
 "nbformat": 4,
 "nbformat_minor": 2
}
