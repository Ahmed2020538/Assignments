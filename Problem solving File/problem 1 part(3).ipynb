{
 "cells": [
  {
   "cell_type": "markdown",
   "metadata": {},
   "source": [
    "21 :: Write a Python program to get the n (non-negative integer) copies of the first 2 characters of a given string. Return the n copies of the whole string if the length is less than 2"
   ]
  },
  {
   "cell_type": "code",
   "execution_count": 5,
   "metadata": {},
   "outputs": [
    {
     "data": {
      "text/plain": [
       "'abab'"
      ]
     },
     "execution_count": 5,
     "metadata": {},
     "output_type": "execute_result"
    }
   ],
   "source": [
    "def sub_string (txt , n) :\n",
    "    check = 2\n",
    "    if check > len(txt) :\n",
    "        check = len(txt)\n",
    "    sub_str = txt[:check]\n",
    "    \n",
    "    res = \"\"\n",
    "    \n",
    "    for i in range(n) :\n",
    "        res += sub_str\n",
    "    return res\n",
    "\n",
    "\n",
    "sub_string('abcdef', 2)\n",
    "        \n",
    "        "
   ]
  },
  {
   "cell_type": "code",
   "execution_count": 6,
   "metadata": {},
   "outputs": [
    {
     "data": {
      "text/plain": [
       "'ppp'"
      ]
     },
     "execution_count": 6,
     "metadata": {},
     "output_type": "execute_result"
    }
   ],
   "source": [
    "sub_string('p', 3)"
   ]
  },
  {
   "cell_type": "code",
   "execution_count": 7,
   "metadata": {},
   "outputs": [
    {
     "data": {
      "text/plain": [
       "'mu'"
      ]
     },
     "execution_count": 7,
     "metadata": {},
     "output_type": "execute_result"
    }
   ],
   "source": [
    "sub_string('muythgrdf', 1)"
   ]
  },
  {
   "cell_type": "code",
   "execution_count": 8,
   "metadata": {},
   "outputs": [
    {
     "data": {
      "text/plain": [
       "'mumu'"
      ]
     },
     "execution_count": 8,
     "metadata": {},
     "output_type": "execute_result"
    }
   ],
   "source": [
    "sub_string('muythgrdf', 2)"
   ]
  },
  {
   "cell_type": "code",
   "execution_count": 9,
   "metadata": {},
   "outputs": [
    {
     "name": "stdout",
     "output_type": "stream",
     "text": [
      "Enter tha txt Plz :: abcdef\n",
      "Enter The num of Copy :: 2\n",
      "The sub_string of text abcdef with num of copy 2 is :: abab\n"
     ]
    }
   ],
   "source": [
    "text = input(\"Enter tha txt Plz :: \")\n",
    "copy = int(input(\"Enter The num of Copy :: \"))\n",
    "print(f\"The sub_string of text {text} with num of copy {copy} is :: {text[ 0 : 2]*copy}\")"
   ]
  },
  {
   "cell_type": "code",
   "execution_count": 10,
   "metadata": {},
   "outputs": [
    {
     "name": "stdout",
     "output_type": "stream",
     "text": [
      "Enter tha txt Plz :: p\n",
      "Enter The num of Copy :: 3\n",
      "The sub_string of text p with num of copy 3 is :: ppp\n"
     ]
    }
   ],
   "source": [
    "text = input(\"Enter tha txt Plz :: \")\n",
    "copy = int(input(\"Enter The num of Copy :: \"))\n",
    "print(f\"The sub_string of text {text} with num of copy {copy} is :: {text[ 0 : 2]*copy}\")"
   ]
  },
  {
   "cell_type": "code",
   "execution_count": 11,
   "metadata": {},
   "outputs": [
    {
     "name": "stdout",
     "output_type": "stream",
     "text": [
      "Enter tha txt Plz :: muythgrdf\n",
      "Enter The num of Copy :: 3\n",
      "The sub_string of text muythgrdf with num of copy 3 is :: mumumu\n"
     ]
    }
   ],
   "source": [
    "text = input(\"Enter tha txt Plz :: \")\n",
    "copy = int(input(\"Enter The num of Copy :: \"))\n",
    "print(f\"The sub_string of text {text} with num of copy {copy} is :: {text[ 0 : 2]*copy}\")"
   ]
  },
  {
   "cell_type": "markdown",
   "metadata": {},
   "source": [
    "23 :: Write a Python program to test whether a passed letter is a vowel or not"
   ]
  },
  {
   "cell_type": "code",
   "execution_count": 21,
   "metadata": {},
   "outputs": [
    {
     "name": "stdout",
     "output_type": "stream",
     "text": [
      "Enter the txt plz ::ahmed\n",
      "True\n",
      "The character with in volwe T o string is :: a\n",
      "True\n",
      "The character with in volwe T o string is :: e\n",
      "True\n",
      "The character with in volwe T o string is :: d\n"
     ]
    }
   ],
   "source": [
    "string = input(\"Enter the txt plz ::\")\n",
    "T = \"abcdefg\"\n",
    "for i in string :\n",
    "    if i in T :\n",
    "        print(True)\n",
    "        print(f\"The character with in volwe T o string is :: {i}\")"
   ]
  },
  {
   "cell_type": "code",
   "execution_count": 22,
   "metadata": {},
   "outputs": [
    {
     "data": {
      "text/plain": [
       "False"
      ]
     },
     "execution_count": 22,
     "metadata": {},
     "output_type": "execute_result"
    }
   ],
   "source": [
    "def is_volwe (char) :\n",
    "    TxT = \"'aeiou'\"\n",
    "    return char in TxT \n",
    "is_volwe(\"l\")\n",
    "    "
   ]
  },
  {
   "cell_type": "code",
   "execution_count": 23,
   "metadata": {},
   "outputs": [
    {
     "data": {
      "text/plain": [
       "True"
      ]
     },
     "execution_count": 23,
     "metadata": {},
     "output_type": "execute_result"
    }
   ],
   "source": [
    "def is_volwe (char) :\n",
    "    TxT = \"'aeiou'\"\n",
    "    return char in TxT \n",
    "is_volwe(\"i\")"
   ]
  },
  {
   "cell_type": "markdown",
   "metadata": {},
   "source": [
    "24 Write a Python program to check whether a specified value is contained in a group of values."
   ]
  },
  {
   "cell_type": "code",
   "execution_count": 3,
   "metadata": {},
   "outputs": [],
   "source": [
    "def check_num (nums) :\n",
    "    num = int(input(\"Enter The num Plz :: \"))\n",
    "    return num in nums"
   ]
  },
  {
   "cell_type": "code",
   "execution_count": 4,
   "metadata": {},
   "outputs": [
    {
     "name": "stdout",
     "output_type": "stream",
     "text": [
      "Enter The num Plz :: 20\n"
     ]
    },
    {
     "data": {
      "text/plain": [
       "True"
      ]
     },
     "execution_count": 4,
     "metadata": {},
     "output_type": "execute_result"
    }
   ],
   "source": [
    "check_num ([ 10 , 20 ,30,40])"
   ]
  },
  {
   "cell_type": "code",
   "execution_count": 5,
   "metadata": {},
   "outputs": [
    {
     "name": "stdout",
     "output_type": "stream",
     "text": [
      "Enter The num Plz :: 100\n"
     ]
    },
    {
     "data": {
      "text/plain": [
       "False"
      ]
     },
     "execution_count": 5,
     "metadata": {},
     "output_type": "execute_result"
    }
   ],
   "source": [
    "check_num ([ 10 , 20 ,30,40])"
   ]
  },
  {
   "cell_type": "code",
   "execution_count": 3,
   "metadata": {},
   "outputs": [],
   "source": [
    "def find_value (lis , val) :\n",
    "    if val in lis :\n",
    "        return f\"that TRUE :: The value {val} is in the list :: {lis}\"\n",
    "    else :\n",
    "        return f\"that False :: The value {val} isnot in the list :: {lis}\""
   ]
  },
  {
   "cell_type": "code",
   "execution_count": 4,
   "metadata": {},
   "outputs": [
    {
     "data": {
      "text/plain": [
       "'that TRUE :: The value 20 is in the list :: [10, 20, 30, 40]'"
      ]
     },
     "execution_count": 4,
     "metadata": {},
     "output_type": "execute_result"
    }
   ],
   "source": [
    "find_value([10,20,30,40] , 20)"
   ]
  },
  {
   "cell_type": "code",
   "execution_count": 5,
   "metadata": {},
   "outputs": [
    {
     "data": {
      "text/plain": [
       "'that False :: The value 100 isnot in the list :: [10, 20, 30, 40]'"
      ]
     },
     "execution_count": 5,
     "metadata": {},
     "output_type": "execute_result"
    }
   ],
   "source": [
    "find_value([10,20,30,40] , 100)"
   ]
  },
  {
   "cell_type": "code",
   "execution_count": 8,
   "metadata": {},
   "outputs": [
    {
     "name": "stdout",
     "output_type": "stream",
     "text": [
      "Enter the num Plz ::20\n"
     ]
    },
    {
     "data": {
      "text/plain": [
       "True"
      ]
     },
     "execution_count": 8,
     "metadata": {},
     "output_type": "execute_result"
    }
   ],
   "source": [
    "def check (*values) :\n",
    "    lis = [ i for i in values]\n",
    "    Num = int(input(\"Enter the num Plz ::\"))\n",
    "    return Num in lis\n",
    "check(10,20,30,40)"
   ]
  },
  {
   "cell_type": "code",
   "execution_count": 9,
   "metadata": {},
   "outputs": [
    {
     "name": "stdout",
     "output_type": "stream",
     "text": [
      "Enter the num Plz ::100\n"
     ]
    },
    {
     "data": {
      "text/plain": [
       "False"
      ]
     },
     "execution_count": 9,
     "metadata": {},
     "output_type": "execute_result"
    }
   ],
   "source": [
    "def check (*values) :\n",
    "    lis = [ i for i in values]\n",
    "    Num = int(input(\"Enter the num Plz ::\"))\n",
    "    return Num in lis\n",
    "check(10,20,30,40)"
   ]
  },
  {
   "cell_type": "code",
   "execution_count": 12,
   "metadata": {},
   "outputs": [
    {
     "name": "stdout",
     "output_type": "stream",
     "text": [
      "@\n",
      "@@\n",
      "@@@\n",
      "@@@@\n",
      "@@@@@\n",
      "@@@@@@\n",
      "@@@@@@@\n",
      "@@@@@@@@\n",
      "@@@@@@@@@\n"
     ]
    }
   ],
   "source": [
    "liss = [1 , 2 , 3 , 4 , 5 , 6 , 7 , 8 ,9]\n",
    "for i in liss :\n",
    "    for j in range(i) :\n",
    "        print(\"@\" , end = \"\")\n",
    "    print()"
   ]
  },
  {
   "cell_type": "code",
   "execution_count": 13,
   "metadata": {},
   "outputs": [
    {
     "name": "stdout",
     "output_type": "stream",
     "text": [
      "@@@@@@@@\n",
      "@@@@@@@\n",
      "@@@@@@\n",
      "@@@@@\n",
      "@@@@\n",
      "@@@\n",
      "@@\n",
      "@\n",
      "\n"
     ]
    }
   ],
   "source": [
    "liss = [1 , 2 , 3 , 4 , 5 , 6 , 7 , 8 ,9]\n",
    "for i in liss :\n",
    "    for j in range(9-i) :\n",
    "        print(\"@\" , end = \"\")\n",
    "    print()"
   ]
  },
  {
   "cell_type": "markdown",
   "metadata": {},
   "source": [
    "To get summation of values"
   ]
  },
  {
   "cell_type": "code",
   "execution_count": 15,
   "metadata": {},
   "outputs": [
    {
     "data": {
      "text/plain": [
       "100"
      ]
     },
     "execution_count": 15,
     "metadata": {},
     "output_type": "execute_result"
    }
   ],
   "source": [
    "def summ (*Val) :\n",
    "    for i in Val :\n",
    "        return sum(Val)\n",
    "    \n",
    "summ( 10,20,30,40)"
   ]
  },
  {
   "cell_type": "markdown",
   "metadata": {},
   "source": [
    "26 :: Write a Python program to concatenate all elements in a list into a string and return it."
   ]
  },
  {
   "cell_type": "code",
   "execution_count": 18,
   "metadata": {},
   "outputs": [
    {
     "data": {
      "text/plain": [
       "'10203040'"
      ]
     },
     "execution_count": 18,
     "metadata": {},
     "output_type": "execute_result"
    }
   ],
   "source": [
    "def concat (lis) :\n",
    "    res = \"\"\n",
    "    for i in lis :\n",
    "        res +=i\n",
    "    return res\n",
    "concat([\"10\",\"20\",\"30\",\"40\"])"
   ]
  },
  {
   "cell_type": "code",
   "execution_count": 19,
   "metadata": {},
   "outputs": [
    {
     "data": {
      "text/plain": [
       "'10203040'"
      ]
     },
     "execution_count": 19,
     "metadata": {},
     "output_type": "execute_result"
    }
   ],
   "source": [
    "def concat (lis) :\n",
    "    res = \"\"\n",
    "    for i in lis :\n",
    "        res +=str(i)\n",
    "    return res\n",
    "concat([10,20,30,40])"
   ]
  },
  {
   "cell_type": "code",
   "execution_count": 20,
   "metadata": {},
   "outputs": [
    {
     "name": "stdout",
     "output_type": "stream",
     "text": [
      "The concatenation is o list is ::: 10203040\n"
     ]
    }
   ],
   "source": [
    "liss = [ 10 , 20 , 30 , 40]\n",
    "Conc = \"\".join(str(i) for i in liss)\n",
    "print(f\"The concatenation is o list is ::: {Conc}\")"
   ]
  },
  {
   "cell_type": "markdown",
   "metadata": {},
   "source": [
    " 27 :: Write a Python program to print out all even numbers from a given numbers list in the same order and stop the printing if any numbers that come after 237 in the sequence."
   ]
  },
  {
   "cell_type": "code",
   "execution_count": 21,
   "metadata": {},
   "outputs": [
    {
     "name": "stdout",
     "output_type": "stream",
     "text": [
      "That num is :: 386\n",
      "That num is :: 462\n",
      "That num is :: 418\n",
      "That num is :: 344\n",
      "That num is :: 236\n",
      "That num is :: 566\n",
      "That num is :: 978\n",
      "That num is :: 328\n",
      "That num is :: 162\n",
      "That num is :: 758\n",
      "That num is :: 918\n",
      "We arraived into num 237\n"
     ]
    }
   ],
   "source": [
    "numbers = [    \n",
    "    386, 462, 47, 418, 907, 344, 236, 375, 823, 566, 597, 978, 328, 615, 953, 345, \n",
    "    399, 162, 758, 219, 918, 237, 412, 566, 826, 248, 866, 950, 626, 949, 687, 217, \n",
    "    815, 67, 104, 58, 512, 24, 892, 894, 767, 553, 81, 379, 843, 831, 445, 742, 717, \n",
    "    958,743, 527\n",
    "    ]\n",
    "for i in numbers :\n",
    "    if i == 237 :\n",
    "        print(f\"We arraived into num {i}\")\n",
    "        break\n",
    "    elif i % 2 == 0 :\n",
    "        print(f\"That num is :: {i}\")\n",
    "        \n",
    "    "
   ]
  },
  {
   "cell_type": "markdown",
   "metadata": {},
   "source": [
    "28 :: Write a Python program to print out a set containing all the colors from color_list_1 which are not present in color_list_2.\n"
   ]
  },
  {
   "cell_type": "code",
   "execution_count": 25,
   "metadata": {},
   "outputs": [],
   "source": [
    "def check_color (l_col1 , l_col2) :\n",
    "    for i in l_col1 :\n",
    "        if i not in l_col2 :\n",
    "            print(f\" {i} :: That color in l1 and not in lis2\")"
   ]
  },
  {
   "cell_type": "code",
   "execution_count": 26,
   "metadata": {},
   "outputs": [
    {
     "name": "stdout",
     "output_type": "stream",
     "text": [
      " red :: That color in l1 and not in lis2\n",
      " green :: That color in l1 and not in lis2\n",
      " white :: That color in l1 and not in lis2\n"
     ]
    }
   ],
   "source": [
    "check_color(['red','blue','green','white'] ,['black','yellow','gray','blue'])"
   ]
  },
  {
   "cell_type": "code",
   "execution_count": 27,
   "metadata": {},
   "outputs": [
    {
     "name": "stdout",
     "output_type": "stream",
     "text": [
      " black :: That color in l1 and not in lis2\n",
      " yellow :: That color in l1 and not in lis2\n",
      " gray :: That color in l1 and not in lis2\n"
     ]
    }
   ],
   "source": [
    "check_color(['black','yellow','gray','blue'] ,['red','blue','green','white'])"
   ]
  },
  {
   "cell_type": "code",
   "execution_count": 30,
   "metadata": {},
   "outputs": [
    {
     "name": "stdout",
     "output_type": "stream",
     "text": [
      "{'red', 'white', 'green'}\n",
      "=============================\n",
      "{'black', 'gray', 'yellow'}\n"
     ]
    }
   ],
   "source": [
    "lis1_colors = set(['red','blue','green','white'])\n",
    "\n",
    "lis2_colors = set(['black','yellow','gray','blue'])\n",
    "print(lis1_colors.difference(lis2_colors))\n",
    "print(\"=============================\")\n",
    "print(lis2_colors-lis1_colors)"
   ]
  },
  {
   "cell_type": "markdown",
   "metadata": {},
   "source": [
    "29 :: Write a Python program that will accept the base and height of a triangle and compute the area"
   ]
  },
  {
   "cell_type": "code",
   "execution_count": 31,
   "metadata": {},
   "outputs": [
    {
     "data": {
      "text/plain": [
       "'The area of Tringe is 20.0'"
      ]
     },
     "execution_count": 31,
     "metadata": {},
     "output_type": "execute_result"
    }
   ],
   "source": [
    "def area (base,height) :\n",
    "    return f\"The area of Tringe is {base * height /2}\"\n",
    "area(5,8)"
   ]
  },
  {
   "cell_type": "code",
   "execution_count": 33,
   "metadata": {},
   "outputs": [
    {
     "data": {
      "text/plain": [
       "'The area of Tringe is 20'"
      ]
     },
     "execution_count": 33,
     "metadata": {},
     "output_type": "execute_result"
    }
   ],
   "source": [
    "def area (base,height) :\n",
    "    return f\"The area of Tringe is {int(base * height /2)}\"\n",
    "area(5,8)"
   ]
  },
  {
   "cell_type": "markdown",
   "metadata": {},
   "source": [
    "30 :: Write a Python program to compute the greatest common divisor (GCD) of two positive integers."
   ]
  },
  {
   "cell_type": "code",
   "execution_count": 34,
   "metadata": {},
   "outputs": [
    {
     "data": {
      "text/plain": [
       "6"
      ]
     },
     "execution_count": 34,
     "metadata": {},
     "output_type": "execute_result"
    }
   ],
   "source": [
    "from math import gcd\n",
    "def GCd (*n) :\n",
    "    return gcd(*n)\n",
    "GCd(12 ,6)"
   ]
  },
  {
   "cell_type": "markdown",
   "metadata": {},
   "source": [
    "31 :: Write a Python program to get the least common multiple (LCM) of two positive integers"
   ]
  },
  {
   "cell_type": "code",
   "execution_count": 42,
   "metadata": {},
   "outputs": [],
   "source": [
    "def LCM ( a , b ) :\n",
    "    for i in range(1 , a*b+1) :\n",
    "        if i % a == 0 and i % b == 0 :\n",
    "            break\n",
    "    print(f\"The LCM of Nums A , B is :: {i}\")"
   ]
  },
  {
   "cell_type": "code",
   "execution_count": 43,
   "metadata": {},
   "outputs": [
    {
     "name": "stdout",
     "output_type": "stream",
     "text": [
      "The LCM of Nums A , B is :: 60\n"
     ]
    }
   ],
   "source": [
    "LCM(15,12)"
   ]
  },
  {
   "cell_type": "code",
   "execution_count": null,
   "metadata": {},
   "outputs": [],
   "source": []
  }
 ],
 "metadata": {
  "kernelspec": {
   "display_name": "Python 3",
   "language": "python",
   "name": "python3"
  },
  "language_info": {
   "codemirror_mode": {
    "name": "ipython",
    "version": 3
   },
   "file_extension": ".py",
   "mimetype": "text/x-python",
   "name": "python",
   "nbconvert_exporter": "python",
   "pygments_lexer": "ipython3",
   "version": "3.7.4"
  }
 },
 "nbformat": 4,
 "nbformat_minor": 2
}
