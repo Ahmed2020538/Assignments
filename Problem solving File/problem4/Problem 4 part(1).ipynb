{
 "cells": [
  {
   "cell_type": "markdown",
   "metadata": {},
   "source": [
    "## 81 Write a Python program to randomly generate a list with 10 even numbers between 1 and 100 inclusive.\n"
   ]
  },
  {
   "cell_type": "code",
   "execution_count": 1,
   "metadata": {},
   "outputs": [
    {
     "name": "stdout",
     "output_type": "stream",
     "text": [
      "[8, 58, 72, 96, 70, 28, 56, 92, 30, 60]\n"
     ]
    }
   ],
   "source": [
    "import random\n",
    "print(random.sample([i for i in range(1,100) if i%2==0], 10))"
   ]
  },
  {
   "cell_type": "markdown",
   "metadata": {},
   "source": [
    "## 82 Write a Python program to calculate the median from a list of numbers.\n"
   ]
  },
  {
   "cell_type": "code",
   "execution_count": 2,
   "metadata": {},
   "outputs": [
    {
     "name": "stdout",
     "output_type": "stream",
     "text": [
      "3\n",
      "3.5\n",
      "3.5\n",
      "3.75\n",
      "3.3\n",
      "22.3\n"
     ]
    }
   ],
   "source": [
    "def cal_median(nums):\n",
    "  nums.sort()\n",
    "  n = len(nums)\n",
    "  m = n // 2\n",
    "  if n % 2 == 0:\n",
    "    return (nums[m - 1] + nums[m]) / 2\n",
    "  else:\n",
    "    return nums[m]\n",
    "print(cal_median([1,2,3,4,5]))\n",
    "print(cal_median([1,2,3,4,5,6]))\n",
    "print(cal_median([6,1,2,4,5,3]))\n",
    "print(cal_median([1.0,2.11,3.3,4.2,5.22,6.55]))\n",
    "print(cal_median([1.0,2.11,3.3,4.2,5.22]))\n",
    "print(cal_median([2.0,12.11,22.3,24.12,55.22]))"
   ]
  },
  {
   "cell_type": "markdown",
   "metadata": {},
   "source": [
    "## 83 Write a Python program to test whether a given number is symmetrical or not.\n",
    "## A number is symmetrical when it is equal of its reverse."
   ]
  },
  {
   "cell_type": "code",
   "execution_count": 3,
   "metadata": {},
   "outputs": [
    {
     "name": "stdout",
     "output_type": "stream",
     "text": [
      "True\n",
      "True\n",
      "False\n",
      "True\n"
     ]
    }
   ],
   "source": [
    "def is_symmetrical_num(n):\n",
    "  return str(n) == str(n)[::-1]\n",
    "print(is_symmetrical_num(121))\n",
    "print(is_symmetrical_num(0))\n",
    "print(is_symmetrical_num(122))\n",
    "print(is_symmetrical_num(990099))\n"
   ]
  },
  {
   "cell_type": "markdown",
   "metadata": {},
   "source": [
    "## 84 Write a Python program that accept a list of numbers and create a list to store the count of negative number in first element and store the sum of positive numbers in second element. \n"
   ]
  },
  {
   "cell_type": "code",
   "execution_count": 4,
   "metadata": {},
   "outputs": [
    {
     "name": "stdout",
     "output_type": "stream",
     "text": [
      "[0, 15]\n",
      "[5, 0]\n",
      "[2, 6]\n",
      "[3, 3]\n"
     ]
    }
   ],
   "source": [
    "def count_sum(nums):\n",
    "    if not nums: return []\n",
    "    return [len([n for n in nums if n < 0]), sum(n for n in nums if n > 0)]\n",
    "\n",
    "print(count_sum([1, 2, 3, 4, 5]))\n",
    "print(count_sum([-1, -2, -3, -4, -5]))\n",
    "print(count_sum([1, 2, 3, -4, -5]))\n",
    "print(count_sum([1, 2, -3, -4, -5])) \n"
   ]
  },
  {
   "cell_type": "markdown",
   "metadata": {},
   "source": [
    "## 85 Write a Python program to check whether a given string is an \"isogram\" or not.\n",
    "### An isogram (also known as a \"nonpattern word\") is a logological term for a word or phrase without a repeating letter. It is also used by some people to mean a word or phrase in which each letter appears the same number of times, not necessarily just once. Conveniently, the word itself is an isogram in both senses of the word, making it autological."
   ]
  },
  {
   "cell_type": "code",
   "execution_count": 5,
   "metadata": {},
   "outputs": [
    {
     "name": "stdout",
     "output_type": "stream",
     "text": [
      "False\n",
      "True\n",
      "True\n",
      "False\n"
     ]
    }
   ],
   "source": [
    "def check_isogram(str1):\n",
    "    return len(str1) == len(set(str1.lower()))\n",
    "\n",
    "print(check_isogram(\"w3resource\"))\n",
    "print(check_isogram(\"w3r\"))\n",
    "print(check_isogram(\"Python\"))\n",
    "print(check_isogram(\"Java\"))"
   ]
  },
  {
   "cell_type": "markdown",
   "metadata": {},
   "source": [
    "## 86 Write a Python program to count the number of equal numbers from three given integers.\n"
   ]
  },
  {
   "cell_type": "code",
   "execution_count": 6,
   "metadata": {},
   "outputs": [
    {
     "name": "stdout",
     "output_type": "stream",
     "text": [
      "3\n",
      "2\n",
      "0\n",
      "3\n"
     ]
    }
   ],
   "source": [
    "def test_three_equal(x, y, z):\n",
    "  result= set([x, y, z])\n",
    "  if len(result)==3:\n",
    "    return 0\n",
    "  else:\n",
    "    return (4 - len(result))\n",
    "\n",
    "print(test_three_equal(1, 1, 1))\n",
    "print(test_three_equal(1, 2, 2))\n",
    "print(test_three_equal(-1, -2, -3))\n",
    "print(test_three_equal(-1, -1, -1))\n"
   ]
  },
  {
   "cell_type": "markdown",
   "metadata": {},
   "source": [
    "## 87 Write a Python program to check whether a given employee code is exactly 8 digits or 12 digits. Return True if the employee code is valid and False if it's not.\n"
   ]
  },
  {
   "cell_type": "code",
   "execution_count": 7,
   "metadata": {},
   "outputs": [
    {
     "name": "stdout",
     "output_type": "stream",
     "text": [
      "True\n",
      "False\n",
      "False\n",
      "True\n",
      "False\n"
     ]
    }
   ],
   "source": [
    "def is_valid_emp_code(emp_code):\n",
    "  return len(emp_code) in [8, 12] and emp_code.isdigit()\n",
    "print(is_valid_emp_code('12345678'))\n",
    "print(is_valid_emp_code('1234567j'))\n",
    "print(is_valid_emp_code('12345678j'))\n",
    "print(is_valid_emp_code('123456789123'))\n",
    "print(is_valid_emp_code('123456abcdef'))"
   ]
  },
  {
   "cell_type": "markdown",
   "metadata": {},
   "source": [
    "## 88 Write a Python program that accept two strings and test if the letters in the second string are present in the first string.\n"
   ]
  },
  {
   "cell_type": "code",
   "execution_count": 8,
   "metadata": {},
   "outputs": [
    {
     "name": "stdout",
     "output_type": "stream",
     "text": [
      "True\n",
      "False\n",
      "True\n",
      "False\n",
      "True\n"
     ]
    }
   ],
   "source": [
    "def string_letter_check(list_data):\n",
    "  return all([char in list_data[0].lower() for char in list_data[1].lower()])\n",
    "print(string_letter_check([\"python\", \"ypth\"]))\n",
    "print(string_letter_check([\"python\", \"ypths\"]))\n",
    "print(string_letter_check([\"python\", \"ypthon\"]))\n",
    "print(string_letter_check([\"123456\", \"01234\"]))\n",
    "print(string_letter_check([\"123456\", \"1234\"]))"
   ]
  },
  {
   "cell_type": "markdown",
   "metadata": {},
   "source": [
    "## 89 Write a Python program to compute the sum of the three lowest positive numbers from a given list of numbers.\n"
   ]
  },
  {
   "cell_type": "code",
   "execution_count": 9,
   "metadata": {},
   "outputs": [
    {
     "data": {
      "text/plain": [
       "9"
      ]
     },
     "execution_count": 9,
     "metadata": {},
     "output_type": "execute_result"
    }
   ],
   "source": [
    "def summ(lst):\n",
    "    return sum(sorted([x for x in lst if x >0])[:3])\n",
    "summ([2,9,15,4,3,19,8])"
   ]
  },
  {
   "cell_type": "markdown",
   "metadata": {},
   "source": [
    "## 90 Write a Python program to replace all but the last five characters of a given string into \"*\" and returns the new masked string.\n"
   ]
  },
  {
   "cell_type": "code",
   "execution_count": 10,
   "metadata": {},
   "outputs": [
    {
     "name": "stdout",
     "output_type": "stream",
     "text": [
      "******23swe\n",
      "******bcdef\n",
      "12345\n"
     ]
    }
   ],
   "source": [
    "def mask_string(str1):\n",
    "  return '*'*(len(str1)-5) + str1[-5:]\n",
    "\n",
    "print(mask_string(\"kdi39323swe\"))\n",
    "print(mask_string(\"12345abcdef\"))\n",
    "print(mask_string(\"12345\")) \n"
   ]
  },
  {
   "cell_type": "markdown",
   "metadata": {},
   "source": [
    "## 92 Write a Python program to compute cumulative sum of numbers of a given list.\n",
    "### Note: Cumulative sum = sum of itself + all previous numbers in the said list."
   ]
  },
  {
   "cell_type": "code",
   "execution_count": 11,
   "metadata": {},
   "outputs": [
    {
     "name": "stdout",
     "output_type": "stream",
     "text": [
      "[10, 30, 60, 100, 150, 210, 217]\n",
      "[1, 3, 6, 10, 15]\n",
      "[0, 1, 3, 6, 10, 15]\n"
     ]
    }
   ],
   "source": [
    "def nums_cumulative_sum(nums_list):\n",
    "  return [sum(nums_list[:i+1]) for i in range(len(nums_list))]\n",
    "\n",
    "print(nums_cumulative_sum([10, 20, 30, 40, 50, 60, 7]))\n",
    "print(nums_cumulative_sum([1, 2, 3, 4, 5]))\n",
    "print(nums_cumulative_sum([0, 1, 2, 3, 4, 5]))\n"
   ]
  },
  {
   "cell_type": "markdown",
   "metadata": {},
   "source": [
    "## 93 Write a Python program to find the middle character(s) of a given string. If the length of the string is odd return the middle character and return the middle two characters if the string length is even."
   ]
  },
  {
   "cell_type": "code",
   "execution_count": 13,
   "metadata": {},
   "outputs": [
    {
     "name": "stdout",
     "output_type": "stream",
     "text": [
      "th\n",
      "H\n",
      "av\n"
     ]
    }
   ],
   "source": [
    "def middle_char(txt):\n",
    "   return txt[(len(txt)-1)//2:(len(txt)+2)//2]\n",
    "print(middle_char(\"Python\"))\n",
    "print(middle_char(\"PHP\"))\n",
    "print(middle_char(\"Java\"))\n"
   ]
  },
  {
   "cell_type": "code",
   "execution_count": 14,
   "metadata": {},
   "outputs": [
    {
     "name": "stdout",
     "output_type": "stream",
     "text": [
      "h\n",
      "at\n"
     ]
    }
   ],
   "source": [
    "def middle_character(s):\n",
    "    g = int((len(s) - 1)/2)\n",
    "    h = int(len(s)/2)\n",
    "    \n",
    "    if len(s)%2 != 0: return s[g]\n",
    "    else: return s[h-1] + s[h]\n",
    "\n",
    "print(middle_character('spaghetti'))\n",
    "print(middle_character('date'))"
   ]
  },
  {
   "cell_type": "markdown",
   "metadata": {},
   "source": [
    "## 94 Write a Python program to find the largest product of the pair of adjacent elements from a given list of integers.\n"
   ]
  },
  {
   "cell_type": "code",
   "execution_count": 15,
   "metadata": {},
   "outputs": [
    {
     "name": "stdout",
     "output_type": "stream",
     "text": [
      "30\n",
      "20\n",
      "6\n"
     ]
    }
   ],
   "source": [
    "def adjacent_num_product(list_nums):\n",
    "    return max(a*b for a, b in zip(list_nums, list_nums[1:]))\n",
    "print(adjacent_num_product([1,2,3,4,5,6]))\n",
    "print(adjacent_num_product([1,2,3,4,5]))\n",
    "print(adjacent_num_product([2,3]))\n"
   ]
  },
  {
   "cell_type": "markdown",
   "metadata": {},
   "source": [
    "## 95 Write a Python program to check whether every even index contains an even number and every odd index contains odd number of a given list.\n"
   ]
  },
  {
   "cell_type": "code",
   "execution_count": 16,
   "metadata": {
    "scrolled": true
   },
   "outputs": [
    {
     "name": "stdout",
     "output_type": "stream",
     "text": [
      "True\n",
      "False\n",
      "True\n"
     ]
    }
   ],
   "source": [
    "def odd_even_position(nums):\n",
    "\treturn all(nums[i]%2==i%2 for i in range(len(nums)))\n",
    "print(odd_even_position([2, 1, 4, 3, 6, 7, 6, 3]))\n",
    "print(odd_even_position([2, 1, 4, 3, 6, 7, 6, 4]))\n",
    "print(odd_even_position([4, 1, 2]))\n"
   ]
  },
  {
   "cell_type": "markdown",
   "metadata": {},
   "source": [
    "## 96 Write a Python program to check whether a given number is a narcissistic number or not.\n"
   ]
  },
  {
   "cell_type": "code",
   "execution_count": 17,
   "metadata": {},
   "outputs": [
    {
     "name": "stdout",
     "output_type": "stream",
     "text": [
      "True\n",
      "True\n",
      "True\n",
      "False\n",
      "True\n",
      "True\n",
      "True\n",
      "False\n"
     ]
    }
   ],
   "source": [
    "def is_narcissistic_num(num):\n",
    "\treturn num == sum([int(x) ** len(str(num)) for x in str(num)])\n",
    "\n",
    "print(is_narcissistic_num(153))\n",
    "print(is_narcissistic_num(370))\n",
    "print(is_narcissistic_num(407))\n",
    "print(is_narcissistic_num(409))\n",
    "print(is_narcissistic_num(1634))\n",
    "print(is_narcissistic_num(8208))\n",
    "print(is_narcissistic_num(9474))\n",
    "print(is_narcissistic_num(9475))\n"
   ]
  },
  {
   "cell_type": "markdown",
   "metadata": {},
   "source": [
    "## 97 Write a Python program to find the highest and lowest number from a given string of space separated integers."
   ]
  },
  {
   "cell_type": "code",
   "execution_count": 18,
   "metadata": {},
   "outputs": [
    {
     "name": "stdout",
     "output_type": "stream",
     "text": [
      "(77, 0)\n",
      "(0, -77)\n",
      "(0, 0)\n"
     ]
    }
   ],
   "source": [
    "def highest_lowest_num(str1):\n",
    "  num_list = list(map(int, str1.split()))\n",
    "  return max(num_list), min(num_list)\n",
    "\n",
    "print(highest_lowest_num(\"1 4 5 77 9 0\"))\n",
    "print(highest_lowest_num(\"-1 -4 -5 -77 -9 0\"))\n",
    "print(highest_lowest_num(\"0 0\"))\n"
   ]
  },
  {
   "cell_type": "markdown",
   "metadata": {},
   "source": [
    "## 98 Write a Python program to check whether a sequence of numbers has an increasing trend or not.\n"
   ]
  },
  {
   "cell_type": "code",
   "execution_count": 19,
   "metadata": {},
   "outputs": [
    {
     "name": "stdout",
     "output_type": "stream",
     "text": [
      "True\n",
      "False\n",
      "False\n",
      "True\n",
      "False\n"
     ]
    }
   ],
   "source": [
    "def increasing_trend(nums):\n",
    "    if (sorted(nums) == nums):\n",
    "        return True\n",
    "    else:\n",
    "        return False\n",
    "\n",
    "print(increasing_trend([1,2,3,4]))\n",
    "print(increasing_trend([1,2,5,3,4]))\n",
    "print(increasing_trend([-1,-2,-3,-4]))\n",
    "print(increasing_trend([-4,-3,-2,-1]))\n",
    "print(increasing_trend([1,2,3,4,0]))\n"
   ]
  },
  {
   "cell_type": "markdown",
   "metadata": {},
   "source": [
    "## 99 Write a Python program to find the position of the second occurrence of a given string in another given string. If there is no such string return -1.\n",
    "\n"
   ]
  },
  {
   "cell_type": "code",
   "execution_count": 20,
   "metadata": {},
   "outputs": [
    {
     "name": "stdout",
     "output_type": "stream",
     "text": [
      "-1\n",
      "31\n"
     ]
    }
   ],
   "source": [
    "def find_string(txt, str1):\n",
    "\treturn txt.find(str1, txt.find(str1)+1)\n",
    "\n",
    "print(find_string(\"The quick brown fox jumps over the lazy dog\", \"the\"))\n",
    "print(find_string(\"the quick brown fox jumps over the lazy dog\", \"the\"))\n"
   ]
  },
  {
   "cell_type": "markdown",
   "metadata": {},
   "source": [
    "## 100 Write a Python program to compute the sum of all items of a given array of integers where each integer is multiplied by its index. Return 0 if there is no number.\n"
   ]
  },
  {
   "cell_type": "code",
   "execution_count": 21,
   "metadata": {},
   "outputs": [
    {
     "name": "stdout",
     "output_type": "stream",
     "text": [
      "20\n",
      "-20\n",
      "0\n"
     ]
    }
   ],
   "source": [
    "def sum_index_multiplier(nums):\n",
    "\treturn sum(j*i for i, j in enumerate(nums))\n",
    "\n",
    "print(sum_index_multiplier([1,2,3,4]))\n",
    "print(sum_index_multiplier([-1,-2,-3,-4]))\n",
    "print(sum_index_multiplier([]))\n"
   ]
  },
  {
   "cell_type": "markdown",
   "metadata": {},
   "source": [
    "## 101 Write a Python program to find the name of the oldest student from a given dictionary containing the names and ages of a group of students.\n"
   ]
  },
  {
   "cell_type": "code",
   "execution_count": null,
   "metadata": {},
   "outputs": [],
   "source": [
    "def oldest_student(students):\n",
    "\treturn max(students, key=students.get)\n",
    "\n",
    "print(oldest_student({\"Bernita Ahner\": 12, \"Kristie Marsico\": 11, \n",
    "                      \"Sara Pardee\": 14, \"Fallon Fabiano\": 11, \n",
    "                      \"Nidia Dominique\": 15})) \n",
    "print(oldest_student({\"Nilda Woodside\": 12, \"Jackelyn Pineda\": 12.2, \n",
    "                      \"Sofia Park\": 12.4, \"Joannie Archibald\": 12.6, \n",
    "                      \"Becki Saunder\": 12.7})) \n"
   ]
  }
 ],
 "metadata": {
  "kernelspec": {
   "display_name": "Python 3",
   "language": "python",
   "name": "python3"
  },
  "language_info": {
   "codemirror_mode": {
    "name": "ipython",
    "version": 3
   },
   "file_extension": ".py",
   "mimetype": "text/x-python",
   "name": "python",
   "nbconvert_exporter": "python",
   "pygments_lexer": "ipython3",
   "version": "3.7.4"
  }
 },
 "nbformat": 4,
 "nbformat_minor": 2
}
